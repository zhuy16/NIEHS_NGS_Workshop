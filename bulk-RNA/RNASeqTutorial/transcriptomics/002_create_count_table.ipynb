{
 "cells": [
  {
   "cell_type": "code",
   "execution_count": 5,
   "id": "2e4e222c-6ba0-4fdf-bee4-d360871edee8",
   "metadata": {},
   "outputs": [
    {
     "name": "stdout",
     "output_type": "stream",
     "text": [
      "001_RSEM_Tophat_alignment.ipynb  \u001b[0m\u001b[1;93mgenome.quantification\u001b[0m\n",
      "002_create_count_table.ipynb     \u001b[1;93mrsem\u001b[0m\n",
      "003.DEseq2.ipynb                 rsem.gene.summary.count.txt\n",
      "\u001b[1;93mbin\u001b[0m                              rsem.gene.summary.tpm.txt\n",
      "\u001b[1;93mdata\u001b[0m                             \u001b[1;93mtophat\u001b[0m\n",
      "\u001b[1;93mfastq.quantification\u001b[0m             \u001b[1;93mtophat2\u001b[0m\n"
     ]
    }
   ],
   "source": [
    "ls"
   ]
  },
  {
   "cell_type": "code",
   "execution_count": 11,
   "id": "557e368f-2a7a-448e-a352-3b923482b4d7",
   "metadata": {},
   "outputs": [
    {
     "name": "stdout",
     "output_type": "stream",
     "text": [
      "DESeq.plots.R  rsem.quant.R  rsem.to.table.pl\n"
     ]
    }
   ],
   "source": [
    "ls bin"
   ]
  },
  {
   "cell_type": "code",
   "execution_count": 8,
   "id": "dbf32c3b-0a60-4bc6-b382-23b7896415e9",
   "metadata": {},
   "outputs": [],
   "source": [
    "#perl bin/rsem.to.table.pl -help"
   ]
  },
  {
   "cell_type": "code",
   "execution_count": 13,
   "id": "3741b061-9781-4c64-9586-ee9b39026d7b",
   "metadata": {},
   "outputs": [
    {
     "name": "stdout",
     "output_type": "stream",
     "text": [
      "quantType expected_count ... col: 5\n",
      "rsem/expr2.rsem.genes.results\n",
      "rsem/expr3.rsem.genes.results\n",
      "rsem/ctrl1.rsem.genes.results\n",
      "rsem/ctrl3.rsem.genes.results\n",
      "rsem/expr1.rsem.genes.results\n",
      "rsem/ctrl2.rsem.genes.results\n"
     ]
    }
   ],
   "source": [
    "perl bin/rsem.to.table.pl -out rsem.gene.summary.count.txt -indir rsem -gene_iso genes -quantType expected_count\n",
    "#perl bin/rsem.to.table.pl -out rsem.isoforms.summary.count.txt -indir rsem -gene_iso isoforms -quantType expected_count"
   ]
  },
  {
   "cell_type": "code",
   "execution_count": 18,
   "id": "a490fade-de6e-46e3-9b06-e951ca6f3fee",
   "metadata": {},
   "outputs": [
    {
     "name": "stdout",
     "output_type": "stream",
     "text": [
      "Id\texpr2.rsem\texpr3.rsem\tctrl1.rsem\tctrl3.rsem\texpr1.rsem\tctrl2.rsem\n",
      "BC049730\t0\t0\t0\t0\t0\t0\n"
     ]
    }
   ],
   "source": [
    "cat rsem.gene.summary.tpm.txt | head -n 2"
   ]
  },
  {
   "cell_type": "code",
   "execution_count": null,
   "id": "c1322c2e-b143-40a6-8952-6669231b7ce8",
   "metadata": {},
   "outputs": [],
   "source": []
  }
 ],
 "metadata": {
  "kernelspec": {
   "display_name": "Bash",
   "language": "bash",
   "name": "bash"
  },
  "language_info": {
   "codemirror_mode": "shell",
   "file_extension": ".sh",
   "mimetype": "text/x-sh",
   "name": "bash"
  }
 },
 "nbformat": 4,
 "nbformat_minor": 5
}
