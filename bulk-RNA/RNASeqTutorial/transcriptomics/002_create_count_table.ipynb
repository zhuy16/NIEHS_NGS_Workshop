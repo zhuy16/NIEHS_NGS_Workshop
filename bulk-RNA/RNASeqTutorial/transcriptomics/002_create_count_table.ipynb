{
 "cells": [
  {
   "cell_type": "code",
   "execution_count": 5,
   "id": "2e4e222c-6ba0-4fdf-bee4-d360871edee8",
   "metadata": {},
   "outputs": [
    {
     "name": "stdout",
     "output_type": "stream",
     "text": [
      "001_RSEM_Tophat_alignment.ipynb  \u001b[0m\u001b[1;93mgenome.quantification\u001b[0m\n",
      "002_create_count_table.ipynb     \u001b[1;93mrsem\u001b[0m\n",
      "003.DEseq2.ipynb                 rsem.gene.summary.count.txt\n",
      "\u001b[1;93mbin\u001b[0m                              rsem.gene.summary.tpm.txt\n",
      "\u001b[1;93mdata\u001b[0m                             \u001b[1;93mtophat\u001b[0m\n",
      "\u001b[1;93mfastq.quantification\u001b[0m             \u001b[1;93mtophat2\u001b[0m\n"
     ]
    }
   ],
   "source": [
    "ls"
   ]
  },
  {
   "cell_type": "code",
   "execution_count": 11,
   "id": "557e368f-2a7a-448e-a352-3b923482b4d7",
   "metadata": {},
   "outputs": [
    {
     "name": "stdout",
     "output_type": "stream",
     "text": [
      "DESeq.plots.R  rsem.quant.R  rsem.to.table.pl\n"
     ]
    }
   ],
   "source": [
    "ls bin"
   ]
  },
  {
   "cell_type": "code",
   "execution_count": 8,
   "id": "dbf32c3b-0a60-4bc6-b382-23b7896415e9",
   "metadata": {},
   "outputs": [],
   "source": [
    "#perl bin/rsem.to.table.pl -help"
   ]
  },
  {
   "cell_type": "code",
   "execution_count": 13,
   "id": "3741b061-9781-4c64-9586-ee9b39026d7b",
   "metadata": {},
   "outputs": [
    {
     "name": "stdout",
     "output_type": "stream",
     "text": [
      "quantType expected_count ... col: 5\n",
      "rsem/expr2.rsem.genes.results\n",
      "rsem/expr3.rsem.genes.results\n",
      "rsem/ctrl1.rsem.genes.results\n",
      "rsem/ctrl3.rsem.genes.results\n",
      "rsem/expr1.rsem.genes.results\n",
      "rsem/ctrl2.rsem.genes.results\n"
     ]
    }
   ],
   "source": [
    "perl bin/rsem.to.table.pl -out rsem.gene.summary.count.txt -indir rsem -gene_iso genes -quantType expected_count\n",
    "#perl bin/rsem.to.table.pl -out rsem.isoforms.summary.count.txt -indir rsem -gene_iso isoforms -quantType expected_count"
   ]
  },
  {
   "cell_type": "code",
   "execution_count": 18,
   "id": "a490fade-de6e-46e3-9b06-e951ca6f3fee",
   "metadata": {},
   "outputs": [
    {
     "name": "stdout",
     "output_type": "stream",
     "text": [
      "Id\texpr2.rsem\texpr3.rsem\tctrl1.rsem\tctrl3.rsem\texpr1.rsem\tctrl2.rsem\n",
      "BC049730\t0\t0\t0\t0\t0\t0\n"
     ]
    }
   ],
   "source": [
    "cat rsem.gene.summary.tpm.txt | head -n 2"
   ]
  },
  {
   "cell_type": "code",
   "execution_count": 2,
   "id": "c1322c2e-b143-40a6-8952-6669231b7ce8",
   "metadata": {},
   "outputs": [
    {
     "name": "stdout",
     "output_type": "stream",
     "text": [
      "Proxy request sent, awaiting response... 200 OK\n",
      "Length: unspecified [text/html]\n",
      "Saving to: ‘index.html?acc=GSE37704’\n",
      "\n",
      "    [ <=>                                   ] 7,292       --.-K/s   in 0s      \n",
      "\n",
      "2021-06-15 18:27:38 (249 MB/s) - ‘index.html?acc=GSE37704’ saved [7292]\n",
      "\n",
      "--2021-06-15 18:27:43--  https://www.ncbi.nlm.nih.gov/geo/download/?acc=GSE37704\n",
      "Resolving dtn04-e0 (dtn04-e0)... 10.1.200.240\n",
      "Connecting to dtn04-e0 (dtn04-e0)|10.1.200.240|:3128... connected.\n",
      "Proxy request sent, awaiting response... 200 OK\n",
      "Length: unspecified [text/html]\n",
      "Saving to: ‘index.html?acc=GSE37704.1’\n",
      "\n",
      "    [ <=>                                   ] 7,292       --.-K/s   in 0s      \n",
      "\n",
      "2021-06-15 18:27:44 (148 MB/s) - ‘index.html?acc=GSE37704.1’ saved [7292]\n",
      "\n",
      "[1]+  Done                    wget https://www.ncbi.nlm.nih.gov/geo/download/?acc=GSE37704\n"
     ]
    }
   ],
   "source": [
    "wget https://www.ncbi.nlm.nih.gov/geo/download/?acc=GSE37704"
   ]
  },
  {
   "cell_type": "code",
   "execution_count": 3,
   "id": "a09f3119-8f0d-4049-b799-2ba48dd4f93f",
   "metadata": {},
   "outputs": [
    {
     "name": "stdout",
     "output_type": "stream",
     "text": [
      "--2021-06-15 18:28:19--  https://www.ncbi.nlm.nih.gov/geo/query/acc.cgi?acc=GSE37704\n",
      "Resolving dtn04-e0 (dtn04-e0)... 10.1.200.240\n",
      "Connecting to dtn04-e0 (dtn04-e0)|10.1.200.240|:3128... connected.\n",
      "Proxy request sent, awaiting response... 200 OK\n",
      "Length: unspecified [text/html]\n",
      "Saving to: ‘acc.cgi?acc=GSE37704’\n",
      "\n",
      "    [ <=>                                   ] 29,353      --.-K/s   in 0.002s  \n",
      "\n",
      "2021-06-15 18:28:19 (14.4 MB/s) - ‘acc.cgi?acc=GSE37704’ saved [29353]\n",
      "\n"
     ]
    }
   ],
   "source": [
    "wget https://www.ncbi.nlm.nih.gov/geo/query/acc.cgi?acc=GSE37704"
   ]
  },
  {
   "cell_type": "code",
   "execution_count": 4,
   "id": "a33403b4-ac82-4d4e-9016-b97038956bb3",
   "metadata": {},
   "outputs": [
    {
     "name": "stdout",
     "output_type": "stream",
     "text": [
      "36K\tacc.cgi?acc=GSE37704\n",
      "8.0K\tindex.html?acc=GSE37704\n",
      "8.0K\tindex.html?acc=GSE37704.1\n"
     ]
    }
   ],
   "source": [
    "du -sh *GSE37704*"
   ]
  },
  {
   "cell_type": "code",
   "execution_count": 7,
   "id": "23bce345-9813-4b68-a4f4-db3895fb7309",
   "metadata": {},
   "outputs": [
    {
     "name": "stdout",
     "output_type": "stream",
     "text": [
      "GSM925635_A1KD_1.txt.gz\n",
      "GSM925636_A1KD_2.txt.gz\n",
      "GSM925637_A1KD_3.txt.gz\n",
      "GSM925638_SCR_1.txt.gz\n",
      "GSM925639_SCR_2.txt.gz\n",
      "GSM925640_SCR_3.txt.gz\n",
      "GPL13607_old_annotations.txt.gz\n"
     ]
    }
   ],
   "source": [
    "tar -xvf GSE37704_RAW.tar"
   ]
  },
  {
   "cell_type": "code",
   "execution_count": 8,
   "id": "6063a06d-a4ea-4b27-b046-3816a78cdf9a",
   "metadata": {},
   "outputs": [],
   "source": [
    "for i in *.txt.gz; do gunzip $i; done"
   ]
  },
  {
   "cell_type": "code",
   "execution_count": 1,
   "id": "ac61058f-c7b5-4002-9529-ba4996d6fe69",
   "metadata": {},
   "outputs": [
    {
     "name": "stdout",
     "output_type": "stream",
     "text": [
      "--2021-06-15 18:45:31--  https://bioinfo.umassmed.edu/content/workshops/material/data.tsv\n",
      "Resolving dtn02-e0 (dtn02-e0)... 10.1.200.238\n",
      "Connecting to dtn02-e0 (dtn02-e0)|10.1.200.238|:3128... connected.\n",
      "Proxy request sent, awaiting response... 200 OK\n",
      "Length: 1950254 (1.9M) [text/tab-separated-values]\n",
      "Saving to: ‘data.tsv’\n",
      "\n",
      "100%[======================================>] 1,950,254   3.91MB/s   in 0.5s   \n",
      "\n",
      "2021-06-15 18:45:32 (3.91 MB/s) - ‘data.tsv’ saved [1950254/1950254]\n",
      "\n"
     ]
    }
   ],
   "source": [
    "wget https://bioinfo.umassmed.edu/content/workshops/material/data.tsv"
   ]
  },
  {
   "cell_type": "code",
   "execution_count": null,
   "id": "243b3a49-d109-4d9e-aafc-500eff38f328",
   "metadata": {},
   "outputs": [],
   "source": []
  }
 ],
 "metadata": {
  "kernelspec": {
   "display_name": "Bash",
   "language": "bash",
   "name": "bash"
  },
  "language_info": {
   "codemirror_mode": "shell",
   "file_extension": ".sh",
   "mimetype": "text/x-sh",
   "name": "bash"
  }
 },
 "nbformat": 4,
 "nbformat_minor": 5
}
