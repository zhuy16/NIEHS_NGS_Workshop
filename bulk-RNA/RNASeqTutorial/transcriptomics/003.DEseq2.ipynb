{
 "cells": [
  {
   "cell_type": "markdown",
   "metadata": {},
   "source": [
    "# RNA-seq analysis with DESeq2\n",
    "## Largely from Stephen Turner, @genetics_blog\n",
    "\n",
    "\n",
    "Using data from GSE37704, with processed data available on Figshare DOI: 10.6084/m9.figshare.1601975.\n",
    "This dataset has six samples from GSE37704, where expression was quantified by either:\n",
    "* Mapping to to GRCh38 using STAR then counting reads mapped to genes with featureCounts under the union-intersection model, or\n",
    "* Alignment-free quantification using Sailfish, summarized at the gene level using the GRCh38 GTFile. Both datasets are restricted to protein-coding genes only.\n",
    "\n",
    "We're using the Sailfish data.\n",
    "\n",
    "This example comes from [a gist template for DESeq analyis](https://gist.github.com/stephenturner/f60c1934405c127f09a6) and a [blog post](\n",
    "http://www.gettinggeneticsdone.com/2015/12/tutorial-rna-seq-differential.html), both by Stephen Turner.\n",
    "\n",
    "First we pull in the data from a remote copy:"
   ]
  },
  {
   "cell_type": "markdown",
   "metadata": {
    "tags": []
   },
   "source": [
    "# set up the countdata, and metadata"
   ]
  },
  {
   "cell_type": "code",
   "execution_count": 1,
   "metadata": {
    "collapsed": false,
    "jupyter": {
     "outputs_hidden": false
    }
   },
   "outputs": [],
   "source": [
    "countdata <- read.csv(\"rsem.gene.summary.count.txt\", header=T, sep=\"\\t\",row.names=1)"
   ]
  },
  {
   "cell_type": "code",
   "execution_count": 2,
   "metadata": {},
   "outputs": [
    {
     "data": {
      "text/html": [
       "<table class=\"dataframe\">\n",
       "<caption>A data.frame: 6 × 6</caption>\n",
       "<thead>\n",
       "\t<tr><th></th><th scope=col>expr2.rsem</th><th scope=col>expr3.rsem</th><th scope=col>ctrl1.rsem</th><th scope=col>ctrl3.rsem</th><th scope=col>expr1.rsem</th><th scope=col>ctrl2.rsem</th></tr>\n",
       "\t<tr><th></th><th scope=col>&lt;int&gt;</th><th scope=col>&lt;int&gt;</th><th scope=col>&lt;int&gt;</th><th scope=col>&lt;int&gt;</th><th scope=col>&lt;int&gt;</th><th scope=col>&lt;int&gt;</th></tr>\n",
       "</thead>\n",
       "<tbody>\n",
       "\t<tr><th scope=row>Gm19897</th><td>0</td><td>0</td><td>0</td><td>0</td><td>0</td><td>0</td></tr>\n",
       "\t<tr><th scope=row>Sec14l5</th><td>0</td><td>0</td><td>0</td><td>0</td><td>0</td><td>0</td></tr>\n",
       "\t<tr><th scope=row>Emc10</th><td>0</td><td>0</td><td>0</td><td>0</td><td>0</td><td>0</td></tr>\n",
       "\t<tr><th scope=row>Vmn2r33</th><td>0</td><td>0</td><td>0</td><td>0</td><td>0</td><td>0</td></tr>\n",
       "\t<tr><th scope=row>Bbc3</th><td>0</td><td>0</td><td>0</td><td>0</td><td>0</td><td>0</td></tr>\n",
       "\t<tr><th scope=row>Dyrk1b</th><td>0</td><td>0</td><td>0</td><td>0</td><td>0</td><td>0</td></tr>\n",
       "</tbody>\n",
       "</table>\n"
      ],
      "text/latex": [
       "A data.frame: 6 × 6\n",
       "\\begin{tabular}{r|llllll}\n",
       "  & expr2.rsem & expr3.rsem & ctrl1.rsem & ctrl3.rsem & expr1.rsem & ctrl2.rsem\\\\\n",
       "  & <int> & <int> & <int> & <int> & <int> & <int>\\\\\n",
       "\\hline\n",
       "\tGm19897 & 0 & 0 & 0 & 0 & 0 & 0\\\\\n",
       "\tSec14l5 & 0 & 0 & 0 & 0 & 0 & 0\\\\\n",
       "\tEmc10 & 0 & 0 & 0 & 0 & 0 & 0\\\\\n",
       "\tVmn2r33 & 0 & 0 & 0 & 0 & 0 & 0\\\\\n",
       "\tBbc3 & 0 & 0 & 0 & 0 & 0 & 0\\\\\n",
       "\tDyrk1b & 0 & 0 & 0 & 0 & 0 & 0\\\\\n",
       "\\end{tabular}\n"
      ],
      "text/markdown": [
       "\n",
       "A data.frame: 6 × 6\n",
       "\n",
       "| <!--/--> | expr2.rsem &lt;int&gt; | expr3.rsem &lt;int&gt; | ctrl1.rsem &lt;int&gt; | ctrl3.rsem &lt;int&gt; | expr1.rsem &lt;int&gt; | ctrl2.rsem &lt;int&gt; |\n",
       "|---|---|---|---|---|---|---|\n",
       "| Gm19897 | 0 | 0 | 0 | 0 | 0 | 0 |\n",
       "| Sec14l5 | 0 | 0 | 0 | 0 | 0 | 0 |\n",
       "| Emc10 | 0 | 0 | 0 | 0 | 0 | 0 |\n",
       "| Vmn2r33 | 0 | 0 | 0 | 0 | 0 | 0 |\n",
       "| Bbc3 | 0 | 0 | 0 | 0 | 0 | 0 |\n",
       "| Dyrk1b | 0 | 0 | 0 | 0 | 0 | 0 |\n",
       "\n"
      ],
      "text/plain": [
       "        expr2.rsem expr3.rsem ctrl1.rsem ctrl3.rsem expr1.rsem ctrl2.rsem\n",
       "Gm19897 0          0          0          0          0          0         \n",
       "Sec14l5 0          0          0          0          0          0         \n",
       "Emc10   0          0          0          0          0          0         \n",
       "Vmn2r33 0          0          0          0          0          0         \n",
       "Bbc3    0          0          0          0          0          0         \n",
       "Dyrk1b  0          0          0          0          0          0         "
      ]
     },
     "metadata": {},
     "output_type": "display_data"
    }
   ],
   "source": [
    "head(countdata)"
   ]
  },
  {
   "cell_type": "code",
   "execution_count": 3,
   "metadata": {},
   "outputs": [],
   "source": [
    "countdata=countdata[,order(colnames(countdata),decreasing = F)]"
   ]
  },
  {
   "cell_type": "code",
   "execution_count": 4,
   "metadata": {},
   "outputs": [],
   "source": [
    "colnames(countdata)=gsub(\".rsem\",\"\",colnames(countdata))"
   ]
  },
  {
   "cell_type": "code",
   "execution_count": 5,
   "metadata": {},
   "outputs": [
    {
     "data": {
      "text/html": [
       "1126"
      ],
      "text/latex": [
       "1126"
      ],
      "text/markdown": [
       "1126"
      ],
      "text/plain": [
       "[1] 1126"
      ]
     },
     "metadata": {},
     "output_type": "display_data"
    }
   ],
   "source": [
    "nrow(countdata)"
   ]
  },
  {
   "cell_type": "code",
   "execution_count": 6,
   "metadata": {},
   "outputs": [],
   "source": [
    "countdata=countdata[order(rowMeans(countdata),decreasing=TRUE),]"
   ]
  },
  {
   "cell_type": "code",
   "execution_count": 7,
   "metadata": {},
   "outputs": [],
   "source": [
    "countdata=countdata[rowMeans(countdata)>0,]"
   ]
  },
  {
   "cell_type": "code",
   "execution_count": 8,
   "metadata": {},
   "outputs": [
    {
     "data": {
      "text/html": [
       "<style>\n",
       ".dl-inline {width: auto; margin:0; padding: 0}\n",
       ".dl-inline>dt, .dl-inline>dd {float: none; width: auto; display: inline-block}\n",
       ".dl-inline>dt::after {content: \":\\0020\"; padding-right: .5ex}\n",
       ".dl-inline>dt:not(:first-of-type) {padding-left: .5ex}\n",
       "</style><dl class=dl-inline><dt>0610005C13Rik</dt><dd>359845.5</dd><dt>Trap1</dt><dd>94247.8333333333</dd><dt>Pam16</dt><dd>85838.8333333333</dd><dt>Nat15</dt><dd>77183.8333333333</dd><dt>Dnaja3</dt><dd>61557</dd></dl>\n"
      ],
      "text/latex": [
       "\\begin{description*}\n",
       "\\item[0610005C13Rik] 359845.5\n",
       "\\item[Trap1] 94247.8333333333\n",
       "\\item[Pam16] 85838.8333333333\n",
       "\\item[Nat15] 77183.8333333333\n",
       "\\item[Dnaja3] 61557\n",
       "\\end{description*}\n"
      ],
      "text/markdown": [
       "0610005C13Rik\n",
       ":   359845.5Trap1\n",
       ":   94247.8333333333Pam16\n",
       ":   85838.8333333333Nat15\n",
       ":   77183.8333333333Dnaja3\n",
       ":   61557\n",
       "\n"
      ],
      "text/plain": [
       "0610005C13Rik         Trap1         Pam16         Nat15        Dnaja3 \n",
       "    359845.50      94247.83      85838.83      77183.83      61557.00 "
      ]
     },
     "metadata": {},
     "output_type": "display_data"
    }
   ],
   "source": [
    "rowMeans(countdata)[1:5]"
   ]
  },
  {
   "cell_type": "code",
   "execution_count": 9,
   "metadata": {},
   "outputs": [
    {
     "data": {
      "text/html": [
       "50"
      ],
      "text/latex": [
       "50"
      ],
      "text/markdown": [
       "50"
      ],
      "text/plain": [
       "[1] 50"
      ]
     },
     "metadata": {},
     "output_type": "display_data"
    }
   ],
   "source": [
    "nrow(countdata)"
   ]
  },
  {
   "cell_type": "code",
   "execution_count": 10,
   "metadata": {},
   "outputs": [
    {
     "data": {
      "text/html": [
       "<table class=\"dataframe\">\n",
       "<caption>A data.frame: 6 × 6</caption>\n",
       "<thead>\n",
       "\t<tr><th></th><th scope=col>ctrl1</th><th scope=col>ctrl2</th><th scope=col>ctrl3</th><th scope=col>expr1</th><th scope=col>expr2</th><th scope=col>expr3</th></tr>\n",
       "\t<tr><th></th><th scope=col>&lt;int&gt;</th><th scope=col>&lt;int&gt;</th><th scope=col>&lt;int&gt;</th><th scope=col>&lt;int&gt;</th><th scope=col>&lt;int&gt;</th><th scope=col>&lt;int&gt;</th></tr>\n",
       "</thead>\n",
       "<tbody>\n",
       "\t<tr><th scope=row>0610005C13Rik</th><td>311877</td><td>328432</td><td>322185</td><td>411990</td><td>397999</td><td>386590</td></tr>\n",
       "\t<tr><th scope=row>Trap1</th><td>125773</td><td>100147</td><td>118613</td><td> 72614</td><td> 69815</td><td> 78525</td></tr>\n",
       "\t<tr><th scope=row>Pam16</th><td> 74294</td><td> 90728</td><td> 66435</td><td> 86174</td><td>108912</td><td> 88490</td></tr>\n",
       "\t<tr><th scope=row>Nat15</th><td> 85960</td><td> 81575</td><td> 91144</td><td> 66019</td><td> 66132</td><td> 72273</td></tr>\n",
       "\t<tr><th scope=row>Dnaja3</th><td> 78796</td><td> 76366</td><td> 70435</td><td> 47579</td><td> 46635</td><td> 49531</td></tr>\n",
       "\t<tr><th scope=row>Hmox2</th><td> 54943</td><td> 58944</td><td> 55382</td><td> 48928</td><td> 43644</td><td> 48734</td></tr>\n",
       "</tbody>\n",
       "</table>\n"
      ],
      "text/latex": [
       "A data.frame: 6 × 6\n",
       "\\begin{tabular}{r|llllll}\n",
       "  & ctrl1 & ctrl2 & ctrl3 & expr1 & expr2 & expr3\\\\\n",
       "  & <int> & <int> & <int> & <int> & <int> & <int>\\\\\n",
       "\\hline\n",
       "\t0610005C13Rik & 311877 & 328432 & 322185 & 411990 & 397999 & 386590\\\\\n",
       "\tTrap1 & 125773 & 100147 & 118613 &  72614 &  69815 &  78525\\\\\n",
       "\tPam16 &  74294 &  90728 &  66435 &  86174 & 108912 &  88490\\\\\n",
       "\tNat15 &  85960 &  81575 &  91144 &  66019 &  66132 &  72273\\\\\n",
       "\tDnaja3 &  78796 &  76366 &  70435 &  47579 &  46635 &  49531\\\\\n",
       "\tHmox2 &  54943 &  58944 &  55382 &  48928 &  43644 &  48734\\\\\n",
       "\\end{tabular}\n"
      ],
      "text/markdown": [
       "\n",
       "A data.frame: 6 × 6\n",
       "\n",
       "| <!--/--> | ctrl1 &lt;int&gt; | ctrl2 &lt;int&gt; | ctrl3 &lt;int&gt; | expr1 &lt;int&gt; | expr2 &lt;int&gt; | expr3 &lt;int&gt; |\n",
       "|---|---|---|---|---|---|---|\n",
       "| 0610005C13Rik | 311877 | 328432 | 322185 | 411990 | 397999 | 386590 |\n",
       "| Trap1 | 125773 | 100147 | 118613 |  72614 |  69815 |  78525 |\n",
       "| Pam16 |  74294 |  90728 |  66435 |  86174 | 108912 |  88490 |\n",
       "| Nat15 |  85960 |  81575 |  91144 |  66019 |  66132 |  72273 |\n",
       "| Dnaja3 |  78796 |  76366 |  70435 |  47579 |  46635 |  49531 |\n",
       "| Hmox2 |  54943 |  58944 |  55382 |  48928 |  43644 |  48734 |\n",
       "\n"
      ],
      "text/plain": [
       "              ctrl1  ctrl2  ctrl3  expr1  expr2  expr3 \n",
       "0610005C13Rik 311877 328432 322185 411990 397999 386590\n",
       "Trap1         125773 100147 118613  72614  69815  78525\n",
       "Pam16          74294  90728  66435  86174 108912  88490\n",
       "Nat15          85960  81575  91144  66019  66132  72273\n",
       "Dnaja3         78796  76366  70435  47579  46635  49531\n",
       "Hmox2          54943  58944  55382  48928  43644  48734"
      ]
     },
     "metadata": {},
     "output_type": "display_data"
    }
   ],
   "source": [
    "head(countdata)"
   ]
  },
  {
   "cell_type": "code",
   "execution_count": 11,
   "metadata": {},
   "outputs": [],
   "source": [
    "meta=data.frame(cbind(c(\"ctrl1\",\"ctrl2\",\"ctrl3\",\"expr1\",\"expr2\",\"expr3\"),c(\"ctrl\",\"ctrl\",\"ctrl\",\"expr\",\"expr\",\"expr\")))\n",
    "colnames(meta)=c(\"id\",\"condition\")"
   ]
  },
  {
   "cell_type": "code",
   "execution_count": 12,
   "metadata": {},
   "outputs": [],
   "source": [
    "rownames(meta)=meta$id"
   ]
  },
  {
   "cell_type": "code",
   "execution_count": 13,
   "metadata": {},
   "outputs": [],
   "source": [
    "#meta=data.frame(meta[,-1])"
   ]
  },
  {
   "cell_type": "code",
   "execution_count": 14,
   "metadata": {},
   "outputs": [
    {
     "data": {
      "text/html": [
       "<table class=\"dataframe\">\n",
       "<caption>A data.frame: 6 × 2</caption>\n",
       "<thead>\n",
       "\t<tr><th></th><th scope=col>id</th><th scope=col>condition</th></tr>\n",
       "\t<tr><th></th><th scope=col>&lt;chr&gt;</th><th scope=col>&lt;chr&gt;</th></tr>\n",
       "</thead>\n",
       "<tbody>\n",
       "\t<tr><th scope=row>ctrl1</th><td>ctrl1</td><td>ctrl</td></tr>\n",
       "\t<tr><th scope=row>ctrl2</th><td>ctrl2</td><td>ctrl</td></tr>\n",
       "\t<tr><th scope=row>ctrl3</th><td>ctrl3</td><td>ctrl</td></tr>\n",
       "\t<tr><th scope=row>expr1</th><td>expr1</td><td>expr</td></tr>\n",
       "\t<tr><th scope=row>expr2</th><td>expr2</td><td>expr</td></tr>\n",
       "\t<tr><th scope=row>expr3</th><td>expr3</td><td>expr</td></tr>\n",
       "</tbody>\n",
       "</table>\n"
      ],
      "text/latex": [
       "A data.frame: 6 × 2\n",
       "\\begin{tabular}{r|ll}\n",
       "  & id & condition\\\\\n",
       "  & <chr> & <chr>\\\\\n",
       "\\hline\n",
       "\tctrl1 & ctrl1 & ctrl\\\\\n",
       "\tctrl2 & ctrl2 & ctrl\\\\\n",
       "\tctrl3 & ctrl3 & ctrl\\\\\n",
       "\texpr1 & expr1 & expr\\\\\n",
       "\texpr2 & expr2 & expr\\\\\n",
       "\texpr3 & expr3 & expr\\\\\n",
       "\\end{tabular}\n"
      ],
      "text/markdown": [
       "\n",
       "A data.frame: 6 × 2\n",
       "\n",
       "| <!--/--> | id &lt;chr&gt; | condition &lt;chr&gt; |\n",
       "|---|---|---|\n",
       "| ctrl1 | ctrl1 | ctrl |\n",
       "| ctrl2 | ctrl2 | ctrl |\n",
       "| ctrl3 | ctrl3 | ctrl |\n",
       "| expr1 | expr1 | expr |\n",
       "| expr2 | expr2 | expr |\n",
       "| expr3 | expr3 | expr |\n",
       "\n"
      ],
      "text/plain": [
       "      id    condition\n",
       "ctrl1 ctrl1 ctrl     \n",
       "ctrl2 ctrl2 ctrl     \n",
       "ctrl3 ctrl3 ctrl     \n",
       "expr1 expr1 expr     \n",
       "expr2 expr2 expr     \n",
       "expr3 expr3 expr     "
      ]
     },
     "metadata": {},
     "output_type": "display_data"
    }
   ],
   "source": [
    "meta"
   ]
  },
  {
   "cell_type": "code",
   "execution_count": 15,
   "metadata": {},
   "outputs": [
    {
     "data": {
      "text/html": [
       "<table class=\"dataframe\">\n",
       "<caption>A data.frame: 6 × 6</caption>\n",
       "<thead>\n",
       "\t<tr><th></th><th scope=col>ctrl1</th><th scope=col>ctrl2</th><th scope=col>ctrl3</th><th scope=col>expr1</th><th scope=col>expr2</th><th scope=col>expr3</th></tr>\n",
       "\t<tr><th></th><th scope=col>&lt;int&gt;</th><th scope=col>&lt;int&gt;</th><th scope=col>&lt;int&gt;</th><th scope=col>&lt;int&gt;</th><th scope=col>&lt;int&gt;</th><th scope=col>&lt;int&gt;</th></tr>\n",
       "</thead>\n",
       "<tbody>\n",
       "\t<tr><th scope=row>0610005C13Rik</th><td>311877</td><td>328432</td><td>322185</td><td>411990</td><td>397999</td><td>386590</td></tr>\n",
       "\t<tr><th scope=row>Trap1</th><td>125773</td><td>100147</td><td>118613</td><td> 72614</td><td> 69815</td><td> 78525</td></tr>\n",
       "\t<tr><th scope=row>Pam16</th><td> 74294</td><td> 90728</td><td> 66435</td><td> 86174</td><td>108912</td><td> 88490</td></tr>\n",
       "\t<tr><th scope=row>Nat15</th><td> 85960</td><td> 81575</td><td> 91144</td><td> 66019</td><td> 66132</td><td> 72273</td></tr>\n",
       "\t<tr><th scope=row>Dnaja3</th><td> 78796</td><td> 76366</td><td> 70435</td><td> 47579</td><td> 46635</td><td> 49531</td></tr>\n",
       "\t<tr><th scope=row>Hmox2</th><td> 54943</td><td> 58944</td><td> 55382</td><td> 48928</td><td> 43644</td><td> 48734</td></tr>\n",
       "</tbody>\n",
       "</table>\n"
      ],
      "text/latex": [
       "A data.frame: 6 × 6\n",
       "\\begin{tabular}{r|llllll}\n",
       "  & ctrl1 & ctrl2 & ctrl3 & expr1 & expr2 & expr3\\\\\n",
       "  & <int> & <int> & <int> & <int> & <int> & <int>\\\\\n",
       "\\hline\n",
       "\t0610005C13Rik & 311877 & 328432 & 322185 & 411990 & 397999 & 386590\\\\\n",
       "\tTrap1 & 125773 & 100147 & 118613 &  72614 &  69815 &  78525\\\\\n",
       "\tPam16 &  74294 &  90728 &  66435 &  86174 & 108912 &  88490\\\\\n",
       "\tNat15 &  85960 &  81575 &  91144 &  66019 &  66132 &  72273\\\\\n",
       "\tDnaja3 &  78796 &  76366 &  70435 &  47579 &  46635 &  49531\\\\\n",
       "\tHmox2 &  54943 &  58944 &  55382 &  48928 &  43644 &  48734\\\\\n",
       "\\end{tabular}\n"
      ],
      "text/markdown": [
       "\n",
       "A data.frame: 6 × 6\n",
       "\n",
       "| <!--/--> | ctrl1 &lt;int&gt; | ctrl2 &lt;int&gt; | ctrl3 &lt;int&gt; | expr1 &lt;int&gt; | expr2 &lt;int&gt; | expr3 &lt;int&gt; |\n",
       "|---|---|---|---|---|---|---|\n",
       "| 0610005C13Rik | 311877 | 328432 | 322185 | 411990 | 397999 | 386590 |\n",
       "| Trap1 | 125773 | 100147 | 118613 |  72614 |  69815 |  78525 |\n",
       "| Pam16 |  74294 |  90728 |  66435 |  86174 | 108912 |  88490 |\n",
       "| Nat15 |  85960 |  81575 |  91144 |  66019 |  66132 |  72273 |\n",
       "| Dnaja3 |  78796 |  76366 |  70435 |  47579 |  46635 |  49531 |\n",
       "| Hmox2 |  54943 |  58944 |  55382 |  48928 |  43644 |  48734 |\n",
       "\n"
      ],
      "text/plain": [
       "              ctrl1  ctrl2  ctrl3  expr1  expr2  expr3 \n",
       "0610005C13Rik 311877 328432 322185 411990 397999 386590\n",
       "Trap1         125773 100147 118613  72614  69815  78525\n",
       "Pam16          74294  90728  66435  86174 108912  88490\n",
       "Nat15          85960  81575  91144  66019  66132  72273\n",
       "Dnaja3         78796  76366  70435  47579  46635  49531\n",
       "Hmox2          54943  58944  55382  48928  43644  48734"
      ]
     },
     "metadata": {},
     "output_type": "display_data"
    }
   ],
   "source": [
    "head(countdata)"
   ]
  },
  {
   "cell_type": "markdown",
   "metadata": {},
   "source": [
    "# feed the data to DESeq2"
   ]
  },
  {
   "cell_type": "code",
   "execution_count": 16,
   "metadata": {
    "collapsed": false,
    "jupyter": {
     "outputs_hidden": false
    }
   },
   "outputs": [],
   "source": [
    "coldata <- meta"
   ]
  },
  {
   "cell_type": "code",
   "execution_count": 17,
   "metadata": {
    "collapsed": false,
    "jupyter": {
     "outputs_hidden": false
    }
   },
   "outputs": [
    {
     "data": {
      "text/html": [
       "<table class=\"dataframe\">\n",
       "<caption>A matrix: 6 × 6 of type int</caption>\n",
       "<thead>\n",
       "\t<tr><th></th><th scope=col>ctrl1</th><th scope=col>ctrl2</th><th scope=col>ctrl3</th><th scope=col>expr1</th><th scope=col>expr2</th><th scope=col>expr3</th></tr>\n",
       "</thead>\n",
       "<tbody>\n",
       "\t<tr><th scope=row>0610005C13Rik</th><td>311877</td><td>328432</td><td>322185</td><td>411990</td><td>397999</td><td>386590</td></tr>\n",
       "\t<tr><th scope=row>Trap1</th><td>125773</td><td>100147</td><td>118613</td><td> 72614</td><td> 69815</td><td> 78525</td></tr>\n",
       "\t<tr><th scope=row>Pam16</th><td> 74294</td><td> 90728</td><td> 66435</td><td> 86174</td><td>108912</td><td> 88490</td></tr>\n",
       "\t<tr><th scope=row>Nat15</th><td> 85960</td><td> 81575</td><td> 91144</td><td> 66019</td><td> 66132</td><td> 72273</td></tr>\n",
       "\t<tr><th scope=row>Dnaja3</th><td> 78796</td><td> 76366</td><td> 70435</td><td> 47579</td><td> 46635</td><td> 49531</td></tr>\n",
       "\t<tr><th scope=row>Hmox2</th><td> 54943</td><td> 58944</td><td> 55382</td><td> 48928</td><td> 43644</td><td> 48734</td></tr>\n",
       "</tbody>\n",
       "</table>\n"
      ],
      "text/latex": [
       "A matrix: 6 × 6 of type int\n",
       "\\begin{tabular}{r|llllll}\n",
       "  & ctrl1 & ctrl2 & ctrl3 & expr1 & expr2 & expr3\\\\\n",
       "\\hline\n",
       "\t0610005C13Rik & 311877 & 328432 & 322185 & 411990 & 397999 & 386590\\\\\n",
       "\tTrap1 & 125773 & 100147 & 118613 &  72614 &  69815 &  78525\\\\\n",
       "\tPam16 &  74294 &  90728 &  66435 &  86174 & 108912 &  88490\\\\\n",
       "\tNat15 &  85960 &  81575 &  91144 &  66019 &  66132 &  72273\\\\\n",
       "\tDnaja3 &  78796 &  76366 &  70435 &  47579 &  46635 &  49531\\\\\n",
       "\tHmox2 &  54943 &  58944 &  55382 &  48928 &  43644 &  48734\\\\\n",
       "\\end{tabular}\n"
      ],
      "text/markdown": [
       "\n",
       "A matrix: 6 × 6 of type int\n",
       "\n",
       "| <!--/--> | ctrl1 | ctrl2 | ctrl3 | expr1 | expr2 | expr3 |\n",
       "|---|---|---|---|---|---|---|\n",
       "| 0610005C13Rik | 311877 | 328432 | 322185 | 411990 | 397999 | 386590 |\n",
       "| Trap1 | 125773 | 100147 | 118613 |  72614 |  69815 |  78525 |\n",
       "| Pam16 |  74294 |  90728 |  66435 |  86174 | 108912 |  88490 |\n",
       "| Nat15 |  85960 |  81575 |  91144 |  66019 |  66132 |  72273 |\n",
       "| Dnaja3 |  78796 |  76366 |  70435 |  47579 |  46635 |  49531 |\n",
       "| Hmox2 |  54943 |  58944 |  55382 |  48928 |  43644 |  48734 |\n",
       "\n"
      ],
      "text/plain": [
       "              ctrl1  ctrl2  ctrl3  expr1  expr2  expr3 \n",
       "0610005C13Rik 311877 328432 322185 411990 397999 386590\n",
       "Trap1         125773 100147 118613  72614  69815  78525\n",
       "Pam16          74294  90728  66435  86174 108912  88490\n",
       "Nat15          85960  81575  91144  66019  66132  72273\n",
       "Dnaja3         78796  76366  70435  47579  46635  49531\n",
       "Hmox2          54943  58944  55382  48928  43644  48734"
      ]
     },
     "metadata": {},
     "output_type": "display_data"
    }
   ],
   "source": [
    "# Convert to matrix\n",
    "countdata <- as.matrix(countdata)\n",
    "head(countdata)"
   ]
  },
  {
   "cell_type": "markdown",
   "metadata": {},
   "source": [
    "And we start the bioconductor DESeq2 analysis worfklow, first by initializing the DESeqDataSeet from the matrix we've created above:"
   ]
  },
  {
   "cell_type": "code",
   "execution_count": 18,
   "metadata": {
    "collapsed": false,
    "jupyter": {
     "outputs_hidden": false
    }
   },
   "outputs": [
    {
     "name": "stderr",
     "output_type": "stream",
     "text": [
      "Warning message in DESeqDataSet(se, design = design, ignoreRank):\n",
      "“some variables in design formula are characters, converting to factors”\n"
     ]
    },
    {
     "data": {
      "text/plain": [
       "class: DESeqDataSet \n",
       "dim: 50 6 \n",
       "metadata(1): version\n",
       "assays(1): counts\n",
       "rownames(50): 0610005C13Rik Trap1 ... Sept12 Pol\n",
       "rowData names(0):\n",
       "colnames(6): ctrl1 ctrl2 ... expr2 expr3\n",
       "colData names(2): id condition"
      ]
     },
     "metadata": {},
     "output_type": "display_data"
    }
   ],
   "source": [
    "suppressPackageStartupMessages(library(DESeq2))\n",
    "dds <- DESeqDataSetFromMatrix(countData=countdata, colData=coldata, design=~condition)\n",
    "dds"
   ]
  },
  {
   "cell_type": "markdown",
   "metadata": {},
   "source": [
    "And now running the DESeq Pipeline:"
   ]
  },
  {
   "cell_type": "code",
   "execution_count": 19,
   "metadata": {
    "collapsed": false,
    "jupyter": {
     "outputs_hidden": false
    }
   },
   "outputs": [
    {
     "name": "stderr",
     "output_type": "stream",
     "text": [
      "estimating size factors\n",
      "\n",
      "estimating dispersions\n",
      "\n",
      "gene-wise dispersion estimates\n",
      "\n",
      "mean-dispersion relationship\n",
      "\n",
      "final dispersion estimates\n",
      "\n",
      "fitting model and testing\n",
      "\n"
     ]
    }
   ],
   "source": [
    "dds <- DESeq(dds)"
   ]
  },
  {
   "cell_type": "markdown",
   "metadata": {},
   "source": [
    "## Quality Control Plots"
   ]
  },
  {
   "cell_type": "markdown",
   "metadata": {},
   "source": [
    "We next perform some basic QC plots to examine the data behvaiour, first by looking at dispersions to ensure they behave smoothly and broadly decrease with counts:"
   ]
  },
  {
   "cell_type": "code",
   "execution_count": 20,
   "metadata": {},
   "outputs": [],
   "source": [
    "#?plotDispEsts"
   ]
  },
  {
   "cell_type": "code",
   "execution_count": 21,
   "metadata": {
    "collapsed": false,
    "jupyter": {
     "outputs_hidden": false
    }
   },
   "outputs": [
    {
     "ename": "ERROR",
     "evalue": "Error in if (legend) {: argument is not interpretable as logical\n",
     "output_type": "error",
     "traceback": [
      "Error in if (legend) {: argument is not interpretable as logical\nTraceback:\n",
      "1. plotDispEsts(dds, main = \"Dispersion plot\", legend = \"bottomleft\")",
      "2. plotDispEsts(dds, main = \"Dispersion plot\", legend = \"bottomleft\")",
      "3. .local(object, ...)"
     ]
    },
    {
     "data": {
      "image/png": "[encoded data removed]",
      "text/plain": [
       "Plot with title “Dispersion plot”"
      ]
     },
     "metadata": {
      "image/png": {
       "height": 480,
       "width": 360
      }
     },
     "output_type": "display_data"
    }
   ],
   "source": [
    "options(repr.plot.height=8, repr.plot.width=6)\n",
    "plotDispEsts(dds, main=\"Dispersion plot\",legend=\"bottomleft\")"
   ]
  },
  {
   "cell_type": "markdown",
   "metadata": {},
   "source": [
    "In general we're most interested in logs of the counts; DESeq has a regularlized log transform built in:"
   ]
  },
  {
   "cell_type": "code",
   "execution_count": 22,
   "metadata": {
    "collapsed": false,
    "jupyter": {
     "outputs_hidden": false
    }
   },
   "outputs": [
    {
     "data": {
      "text/html": [
       "<table class=\"dataframe\">\n",
       "<caption>A matrix: 6 × 6 of type dbl</caption>\n",
       "<thead>\n",
       "\t<tr><th></th><th scope=col>ctrl1</th><th scope=col>ctrl2</th><th scope=col>ctrl3</th><th scope=col>expr1</th><th scope=col>expr2</th><th scope=col>expr3</th></tr>\n",
       "</thead>\n",
       "<tbody>\n",
       "\t<tr><th scope=row>0610005C13Rik</th><td>18.07000</td><td>18.16247</td><td>18.19165</td><td>18.84384</td><td>18.86894</td><td>18.61452</td></tr>\n",
       "\t<tr><th scope=row>Trap1</th><td>16.65894</td><td>16.41035</td><td>16.66992</td><td>16.42007</td><td>16.43908</td><td>16.36595</td></tr>\n",
       "\t<tr><th scope=row>Pam16</th><td>16.00014</td><td>16.27262</td><td>15.94669</td><td>16.61264</td><td>16.96866</td><td>16.49472</td></tr>\n",
       "\t<tr><th scope=row>Nat15</th><td>16.15408</td><td>16.12006</td><td>16.30812</td><td>16.26384</td><td>16.33303</td><td>16.22450</td></tr>\n",
       "\t<tr><th scope=row>Dnaja3</th><td>15.99365</td><td>15.98520</td><td>15.93920</td><td>15.80985</td><td>15.85233</td><td>15.70966</td></tr>\n",
       "\t<tr><th scope=row>Hmox2</th><td>15.52009</td><td>15.63526</td><td>15.61193</td><td>15.81001</td><td>15.73753</td><td>15.65541</td></tr>\n",
       "</tbody>\n",
       "</table>\n"
      ],
      "text/latex": [
       "A matrix: 6 × 6 of type dbl\n",
       "\\begin{tabular}{r|llllll}\n",
       "  & ctrl1 & ctrl2 & ctrl3 & expr1 & expr2 & expr3\\\\\n",
       "\\hline\n",
       "\t0610005C13Rik & 18.07000 & 18.16247 & 18.19165 & 18.84384 & 18.86894 & 18.61452\\\\\n",
       "\tTrap1 & 16.65894 & 16.41035 & 16.66992 & 16.42007 & 16.43908 & 16.36595\\\\\n",
       "\tPam16 & 16.00014 & 16.27262 & 15.94669 & 16.61264 & 16.96866 & 16.49472\\\\\n",
       "\tNat15 & 16.15408 & 16.12006 & 16.30812 & 16.26384 & 16.33303 & 16.22450\\\\\n",
       "\tDnaja3 & 15.99365 & 15.98520 & 15.93920 & 15.80985 & 15.85233 & 15.70966\\\\\n",
       "\tHmox2 & 15.52009 & 15.63526 & 15.61193 & 15.81001 & 15.73753 & 15.65541\\\\\n",
       "\\end{tabular}\n"
      ],
      "text/markdown": [
       "\n",
       "A matrix: 6 × 6 of type dbl\n",
       "\n",
       "| <!--/--> | ctrl1 | ctrl2 | ctrl3 | expr1 | expr2 | expr3 |\n",
       "|---|---|---|---|---|---|---|\n",
       "| 0610005C13Rik | 18.07000 | 18.16247 | 18.19165 | 18.84384 | 18.86894 | 18.61452 |\n",
       "| Trap1 | 16.65894 | 16.41035 | 16.66992 | 16.42007 | 16.43908 | 16.36595 |\n",
       "| Pam16 | 16.00014 | 16.27262 | 15.94669 | 16.61264 | 16.96866 | 16.49472 |\n",
       "| Nat15 | 16.15408 | 16.12006 | 16.30812 | 16.26384 | 16.33303 | 16.22450 |\n",
       "| Dnaja3 | 15.99365 | 15.98520 | 15.93920 | 15.80985 | 15.85233 | 15.70966 |\n",
       "| Hmox2 | 15.52009 | 15.63526 | 15.61193 | 15.81001 | 15.73753 | 15.65541 |\n",
       "\n"
      ],
      "text/plain": [
       "              ctrl1    ctrl2    ctrl3    expr1    expr2    expr3   \n",
       "0610005C13Rik 18.07000 18.16247 18.19165 18.84384 18.86894 18.61452\n",
       "Trap1         16.65894 16.41035 16.66992 16.42007 16.43908 16.36595\n",
       "Pam16         16.00014 16.27262 15.94669 16.61264 16.96866 16.49472\n",
       "Nat15         16.15408 16.12006 16.30812 16.26384 16.33303 16.22450\n",
       "Dnaja3        15.99365 15.98520 15.93920 15.80985 15.85233 15.70966\n",
       "Hmox2         15.52009 15.63526 15.61193 15.81001 15.73753 15.65541"
      ]
     },
     "metadata": {},
     "output_type": "display_data"
    }
   ],
   "source": [
    "# Regularized log transformation for clustering/heatmaps, etc\n",
    "rld <- rlogTransformation(dds)\n",
    "head(assay(rld))"
   ]
  },
  {
   "cell_type": "code",
   "execution_count": 23,
   "metadata": {
    "collapsed": false,
    "jupyter": {
     "outputs_hidden": false
    }
   },
   "outputs": [
    {
     "data": {
      "image/png": "[encoded data removed]",
      "text/plain": [
       "Plot with title “Histogram of assay(rld)”"
      ]
     },
     "metadata": {
      "image/png": {
       "height": 480,
       "width": 360
      }
     },
     "output_type": "display_data"
    }
   ],
   "source": [
    "hist(assay(rld))"
   ]
  },
  {
   "cell_type": "markdown",
   "metadata": {},
   "source": [
    "Now we'll make sure sure the samples cluster together by condition, first by clustering and heatmaps:"
   ]
  },
  {
   "cell_type": "code",
   "execution_count": 24,
   "metadata": {
    "collapsed": false,
    "jupyter": {
     "outputs_hidden": false
    }
   },
   "outputs": [
    {
     "data": {
      "image/png": "[encoded data removed]",
      "text/plain": [
       "Plot with title “Sample Distance Matrix”"
      ]
     },
     "metadata": {
      "image/png": {
       "height": 480,
       "width": 360
      }
     },
     "output_type": "display_data"
    }
   ],
   "source": [
    "library(RColorBrewer)\n",
    "mycols <- brewer.pal(8, \"Dark2\")[1:length(unique(coldata$condition))]\n",
    "\n",
    "# Sample distance heatmap\n",
    "sampleDists <- as.matrix(dist(t(assay(rld))))\n",
    "heatmap(as.matrix(sampleDists),\n",
    "          ColSideColors=mycols[coldata$condition], RowSideColors=mycols[coldata$condition],\n",
    "          margin=c(10, 10), main=\"Sample Distance Matrix\")"
   ]
  },
  {
   "cell_type": "markdown",
   "metadata": {},
   "source": [
    "And next by PCA, using two slightly different visualizations, one supplied by DESeq and one by Stephen Turner:"
   ]
  },
  {
   "cell_type": "code",
   "execution_count": null,
   "metadata": {},
   "outputs": [],
   "source": []
  },
  {
   "cell_type": "code",
   "execution_count": 25,
   "metadata": {
    "collapsed": false,
    "jupyter": {
     "outputs_hidden": false
    }
   },
   "outputs": [
    {
     "data": {
      "image/png": "[encoded data removed]",
      "text/plain": [
       "plot without title"
      ]
     },
     "metadata": {
      "image/png": {
       "height": 120,
       "width": 360
      }
     },
     "output_type": "display_data"
    }
   ],
   "source": [
    "options(repr.plot.height=2, repr.plot.width=6)\n",
    "DESeq2::plotPCA(rld, intgroup=\"condition\")"
   ]
  },
  {
   "cell_type": "markdown",
   "metadata": {},
   "source": [
    "The case/control samples seem very clearly distinguished in the first principal component.  "
   ]
  },
  {
   "cell_type": "markdown",
   "metadata": {},
   "source": [
    "## Differential Expression Analysis\n",
    "\n",
    "Now we perform the differential expression analysis using DESeq2's built in methods, and then order the results by adjusted p-value:"
   ]
  },
  {
   "cell_type": "code",
   "execution_count": 26,
   "metadata": {
    "collapsed": false,
    "jupyter": {
     "outputs_hidden": false
    }
   },
   "outputs": [
    {
     "name": "stdout",
     "output_type": "stream",
     "text": [
      "\n",
      "out of 44 with nonzero total read count\n",
      "adjusted p-value < 0.1\n",
      "LFC > 0 (up)       : 10, 23%\n",
      "LFC < 0 (down)     : 10, 23%\n",
      "outliers [1]       : 0, 0%\n",
      "low counts [2]     : 0, 0%\n",
      "(mean count < 10)\n",
      "[1] see 'cooksCutoff' argument of ?results\n",
      "[2] see 'independentFiltering' argument of ?results\n",
      "\n"
     ]
    }
   ],
   "source": [
    "# Get differential expression results\n",
    "res <- results(dds)\n",
    "## Order by adjusted p-value\n",
    "res <- res[order(res$padj), ]\n",
    "res <- res[complete.cases(res),]\n",
    "res$pvalue <- ifelse(res$pvalue < 1.e-250, 1.e-250, res$pvalue)\n",
    "\n",
    "summary(res)"
   ]
  },
  {
   "cell_type": "code",
   "execution_count": 27,
   "metadata": {
    "collapsed": false,
    "jupyter": {
     "outputs_hidden": false
    }
   },
   "outputs": [
    {
     "data": {
      "text/html": [
       "<table class=\"dataframe\">\n",
       "<caption>A data.frame: 6 × 13</caption>\n",
       "<thead>\n",
       "\t<tr><th></th><th scope=col>Gene</th><th scope=col>baseMean</th><th scope=col>log2FoldChange</th><th scope=col>lfcSE</th><th scope=col>stat</th><th scope=col>pvalue</th><th scope=col>padj</th><th scope=col>ctrl1</th><th scope=col>ctrl2</th><th scope=col>ctrl3</th><th scope=col>expr1</th><th scope=col>expr2</th><th scope=col>expr3</th></tr>\n",
       "\t<tr><th></th><th scope=col>&lt;chr&gt;</th><th scope=col>&lt;dbl&gt;</th><th scope=col>&lt;dbl&gt;</th><th scope=col>&lt;dbl&gt;</th><th scope=col>&lt;dbl&gt;</th><th scope=col>&lt;dbl&gt;</th><th scope=col>&lt;dbl&gt;</th><th scope=col>&lt;dbl&gt;</th><th scope=col>&lt;dbl&gt;</th><th scope=col>&lt;dbl&gt;</th><th scope=col>&lt;dbl&gt;</th><th scope=col>&lt;dbl&gt;</th><th scope=col>&lt;dbl&gt;</th></tr>\n",
       "</thead>\n",
       "<tbody>\n",
       "\t<tr><th scope=row>1</th><td>Fgf21        </td><td> 46956.992</td><td> 2.0809771</td><td>0.2389738</td><td> 8.707973</td><td>3.093570e-18</td><td>1.361171e-16</td><td> 10811.699</td><td> 18803.294</td><td> 24246.192</td><td> 73000.728</td><td> 74224.9243</td><td> 80655.1160</td></tr>\n",
       "\t<tr><th scope=row>2</th><td>AK208554     </td><td> 19531.733</td><td> 2.3708652</td><td>0.2816304</td><td> 8.418356</td><td>3.818053e-17</td><td>8.399716e-16</td><td>  8696.221</td><td>  5456.828</td><td>  4832.346</td><td> 31122.125</td><td> 45852.1664</td><td> 21230.7114</td></tr>\n",
       "\t<tr><th scope=row>3</th><td>Adcy9        </td><td>  4647.888</td><td>-1.8151075</td><td>0.2795283</td><td>-6.493466</td><td>8.388391e-11</td><td>1.230297e-09</td><td>  8823.032</td><td>  6847.497</td><td>  6046.273</td><td>  2209.678</td><td>  1346.0282</td><td>  2614.8177</td></tr>\n",
       "\t<tr><th scope=row>4</th><td>Crebbp       </td><td>  2478.215</td><td>-1.7736576</td><td>0.2987729</td><td>-5.936474</td><td>2.912179e-09</td><td>3.203397e-08</td><td>  4283.025</td><td>  3665.136</td><td>  3556.420</td><td>  1558.858</td><td>   822.7834</td><td>   983.0699</td></tr>\n",
       "\t<tr><th scope=row>5</th><td>0610005C13Rik</td><td>373174.976</td><td> 0.7523646</td><td>0.1291753</td><td> 5.824371</td><td>5.732813e-09</td><td>5.044875e-08</td><td>261917.069</td><td>282636.313</td><td>289495.979</td><td>492888.608</td><td>503021.4826</td><td>409090.4014</td></tr>\n",
       "\t<tr><th scope=row>6</th><td>Pam16        </td><td> 89091.858</td><td> 0.7403250</td><td>0.1787055</td><td> 4.142709</td><td>3.432280e-05</td><td>2.157433e-04</td><td> 62392.760</td><td> 78077.128</td><td> 59694.478</td><td>103095.179</td><td>137651.2899</td><td> 93640.3156</td></tr>\n",
       "</tbody>\n",
       "</table>\n"
      ],
      "text/latex": [
       "A data.frame: 6 × 13\n",
       "\\begin{tabular}{r|lllllllllllll}\n",
       "  & Gene & baseMean & log2FoldChange & lfcSE & stat & pvalue & padj & ctrl1 & ctrl2 & ctrl3 & expr1 & expr2 & expr3\\\\\n",
       "  & <chr> & <dbl> & <dbl> & <dbl> & <dbl> & <dbl> & <dbl> & <dbl> & <dbl> & <dbl> & <dbl> & <dbl> & <dbl>\\\\\n",
       "\\hline\n",
       "\t1 & Fgf21         &  46956.992 &  2.0809771 & 0.2389738 &  8.707973 & 3.093570e-18 & 1.361171e-16 &  10811.699 &  18803.294 &  24246.192 &  73000.728 &  74224.9243 &  80655.1160\\\\\n",
       "\t2 & AK208554      &  19531.733 &  2.3708652 & 0.2816304 &  8.418356 & 3.818053e-17 & 8.399716e-16 &   8696.221 &   5456.828 &   4832.346 &  31122.125 &  45852.1664 &  21230.7114\\\\\n",
       "\t3 & Adcy9         &   4647.888 & -1.8151075 & 0.2795283 & -6.493466 & 8.388391e-11 & 1.230297e-09 &   8823.032 &   6847.497 &   6046.273 &   2209.678 &   1346.0282 &   2614.8177\\\\\n",
       "\t4 & Crebbp        &   2478.215 & -1.7736576 & 0.2987729 & -5.936474 & 2.912179e-09 & 3.203397e-08 &   4283.025 &   3665.136 &   3556.420 &   1558.858 &    822.7834 &    983.0699\\\\\n",
       "\t5 & 0610005C13Rik & 373174.976 &  0.7523646 & 0.1291753 &  5.824371 & 5.732813e-09 & 5.044875e-08 & 261917.069 & 282636.313 & 289495.979 & 492888.608 & 503021.4826 & 409090.4014\\\\\n",
       "\t6 & Pam16         &  89091.858 &  0.7403250 & 0.1787055 &  4.142709 & 3.432280e-05 & 2.157433e-04 &  62392.760 &  78077.128 &  59694.478 & 103095.179 & 137651.2899 &  93640.3156\\\\\n",
       "\\end{tabular}\n"
      ],
      "text/markdown": [
       "\n",
       "A data.frame: 6 × 13\n",
       "\n",
       "| <!--/--> | Gene &lt;chr&gt; | baseMean &lt;dbl&gt; | log2FoldChange &lt;dbl&gt; | lfcSE &lt;dbl&gt; | stat &lt;dbl&gt; | pvalue &lt;dbl&gt; | padj &lt;dbl&gt; | ctrl1 &lt;dbl&gt; | ctrl2 &lt;dbl&gt; | ctrl3 &lt;dbl&gt; | expr1 &lt;dbl&gt; | expr2 &lt;dbl&gt; | expr3 &lt;dbl&gt; |\n",
       "|---|---|---|---|---|---|---|---|---|---|---|---|---|---|\n",
       "| 1 | Fgf21         |  46956.992 |  2.0809771 | 0.2389738 |  8.707973 | 3.093570e-18 | 1.361171e-16 |  10811.699 |  18803.294 |  24246.192 |  73000.728 |  74224.9243 |  80655.1160 |\n",
       "| 2 | AK208554      |  19531.733 |  2.3708652 | 0.2816304 |  8.418356 | 3.818053e-17 | 8.399716e-16 |   8696.221 |   5456.828 |   4832.346 |  31122.125 |  45852.1664 |  21230.7114 |\n",
       "| 3 | Adcy9         |   4647.888 | -1.8151075 | 0.2795283 | -6.493466 | 8.388391e-11 | 1.230297e-09 |   8823.032 |   6847.497 |   6046.273 |   2209.678 |   1346.0282 |   2614.8177 |\n",
       "| 4 | Crebbp        |   2478.215 | -1.7736576 | 0.2987729 | -5.936474 | 2.912179e-09 | 3.203397e-08 |   4283.025 |   3665.136 |   3556.420 |   1558.858 |    822.7834 |    983.0699 |\n",
       "| 5 | 0610005C13Rik | 373174.976 |  0.7523646 | 0.1291753 |  5.824371 | 5.732813e-09 | 5.044875e-08 | 261917.069 | 282636.313 | 289495.979 | 492888.608 | 503021.4826 | 409090.4014 |\n",
       "| 6 | Pam16         |  89091.858 |  0.7403250 | 0.1787055 |  4.142709 | 3.432280e-05 | 2.157433e-04 |  62392.760 |  78077.128 |  59694.478 | 103095.179 | 137651.2899 |  93640.3156 |\n",
       "\n"
      ],
      "text/plain": [
       "  Gene          baseMean   log2FoldChange lfcSE     stat      pvalue      \n",
       "1 Fgf21          46956.992  2.0809771     0.2389738  8.707973 3.093570e-18\n",
       "2 AK208554       19531.733  2.3708652     0.2816304  8.418356 3.818053e-17\n",
       "3 Adcy9           4647.888 -1.8151075     0.2795283 -6.493466 8.388391e-11\n",
       "4 Crebbp          2478.215 -1.7736576     0.2987729 -5.936474 2.912179e-09\n",
       "5 0610005C13Rik 373174.976  0.7523646     0.1291753  5.824371 5.732813e-09\n",
       "6 Pam16          89091.858  0.7403250     0.1787055  4.142709 3.432280e-05\n",
       "  padj         ctrl1      ctrl2      ctrl3      expr1      expr2      \n",
       "1 1.361171e-16  10811.699  18803.294  24246.192  73000.728  74224.9243\n",
       "2 8.399716e-16   8696.221   5456.828   4832.346  31122.125  45852.1664\n",
       "3 1.230297e-09   8823.032   6847.497   6046.273   2209.678   1346.0282\n",
       "4 3.203397e-08   4283.025   3665.136   3556.420   1558.858    822.7834\n",
       "5 5.044875e-08 261917.069 282636.313 289495.979 492888.608 503021.4826\n",
       "6 2.157433e-04  62392.760  78077.128  59694.478 103095.179 137651.2899\n",
       "  expr3      \n",
       "1  80655.1160\n",
       "2  21230.7114\n",
       "3   2614.8177\n",
       "4    983.0699\n",
       "5 409090.4014\n",
       "6  93640.3156"
      ]
     },
     "metadata": {},
     "output_type": "display_data"
    }
   ],
   "source": [
    "resdata <- merge(as.data.frame(res), as.data.frame(counts(dds, normalized=TRUE)), by=\"row.names\", sort=FALSE)\n",
    "names(resdata)[1] <- \"Gene\"\n",
    "resdata$Gene <- as.character(resdata$Gene)\n",
    "head(resdata)"
   ]
  },
  {
   "cell_type": "code",
   "execution_count": 28,
   "metadata": {
    "collapsed": false,
    "jupyter": {
     "outputs_hidden": false
    }
   },
   "outputs": [
    {
     "data": {
      "image/png": "[encoded data removed]",
      "text/plain": [
       "Plot with title “Histogram of log10(res$pvalue)”"
      ]
     },
     "metadata": {
      "image/png": {
       "height": 120,
       "width": 360
      }
     },
     "output_type": "display_data"
    }
   ],
   "source": [
    "hist(log10(res$pvalue), breaks=50, col=\"grey\")"
   ]
  },
  {
   "cell_type": "markdown",
   "metadata": {},
   "source": [
    "As we can see, there's a substantial number of genes with extremely small p-values."
   ]
  },
  {
   "cell_type": "markdown",
   "metadata": {},
   "source": [
    "### MA plots"
   ]
  },
  {
   "cell_type": "code",
   "execution_count": 29,
   "metadata": {
    "collapsed": false,
    "jupyter": {
     "outputs_hidden": false
    }
   },
   "outputs": [
    {
     "data": {
      "image/png": "[encoded data removed]",
      "text/plain": [
       "Plot with title “”"
      ]
     },
     "metadata": {
      "image/png": {
       "height": 120,
       "width": 360
      }
     },
     "output_type": "display_data"
    }
   ],
   "source": [
    "DESeq2::plotMA(dds)"
   ]
  },
  {
   "cell_type": "markdown",
   "metadata": {},
   "source": [
    "## Volcano Plot"
   ]
  },
  {
   "cell_type": "code",
   "execution_count": 43,
   "metadata": {
    "tags": []
   },
   "outputs": [],
   "source": [
    "## Volcano plot with \"significant\" genes labeled\n",
    "volcanoplot <- function (res, lfcthresh=2, sigthresh=0.0005, topsig=10, main=\"Volcano Plot\", legendpos=\"bottomright\", labelsig=TRUE, textcx=1, ...) {\n",
    "  with(res, plot(log2FoldChange, -log10(pvalue), pch=20, main=main, ...))\n",
    "  with(subset(res, padj<sigthresh ), points(log2FoldChange, -log10(pvalue), pch=20, col=\"red\", ...))\n",
    "  with(subset(res, abs(log2FoldChange)>lfcthresh), points(log2FoldChange, -log10(pvalue), pch=20, col=\"orange\", ...))\n",
    "  with(subset(res, padj<sigthresh & abs(log2FoldChange)>lfcthresh), points(log2FoldChange, -log10(pvalue), pch=20, col=\"green\", ...))\n",
    "  if (labelsig) {\n",
    "    # with(subset(res, -log10(pvalue) != Inf), geom_text_repel()(text(log2FoldChange[1:topsig], -log10(pvalue[1:topsig]), labels=Gene, cex=textcx, col=\"blue\"))\n",
    "    with(subset(res, -log10(pvalue) != Inf), points(log2FoldChange[1:topsig], -log10(pvalue[1:topsig]), col=\"blue\", pch=20, ...))\n",
    "  }\n",
    "  legend(legendpos, xjust=1, yjust=1, legend=c(paste(\"FDR<\",sigthresh,sep=\"\"), paste(\"|LogFC|>\",lfcthresh,sep=\"\"), \"both\", \"most significant\"), pch=20, col=c(\"red\",\"orange\",\"green\",\"blue\"))\n",
    "}"
   ]
  },
  {
   "cell_type": "code",
   "execution_count": 44,
   "metadata": {
    "collapsed": false,
    "jupyter": {
     "outputs_hidden": false
    }
   },
   "outputs": [
    {
     "data": {
      "image/png": "[encoded data removed]",
      "text/plain": [
       "Plot with title “Volcano Plot”"
      ]
     },
     "metadata": {
      "image/png": {
       "height": 360,
       "width": 360
      }
     },
     "output_type": "display_data"
    }
   ],
   "source": [
    "options(repr.plot.height=6, repr.plot.width=6)\n",
    "volcanoplot(resdata, lfcthresh=2, sigthresh=0.00005, textcx=.8, topsig=5)"
   ]
  },
  {
   "cell_type": "markdown",
   "metadata": {},
   "source": [
    "# for functional annotations, GO analysis, you could go to \n",
    " Webgestalt, or use package such as http://www.webgestalt.org/ <br>\n",
    " clusterProfiler https://yulab-smu.top/clusterProfiler-book/ <br>\n",
    " multipenrichGem.https://jmw86069.github.io/multienrichjam/ https://jmw86069.github.io/multienrichjam/articles/importIPA.html <br>\n",
    " IPA (commercial, available to NIH) "
   ]
  },
  {
   "cell_type": "code",
   "execution_count": null,
   "metadata": {},
   "outputs": [],
   "source": []
  },
  {
   "cell_type": "code",
   "execution_count": null,
   "metadata": {},
   "outputs": [],
   "source": []
  }
 ],
 "metadata": {
  "kernelspec": {
   "display_name": "R/4.0",
   "language": "R",
   "name": "ir40"
  },
  "language_info": {
   "codemirror_mode": "r",
   "file_extension": ".r",
   "mimetype": "text/x-r-source",
   "name": "R",
   "pygments_lexer": "r",
   "version": "4.0.5"
  },
  "toc-autonumbering": true
 },
 "nbformat": 4,
 "nbformat_minor": 4
}
