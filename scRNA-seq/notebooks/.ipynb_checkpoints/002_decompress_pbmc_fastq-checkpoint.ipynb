{
 "cells": [
  {
   "cell_type": "markdown",
   "id": "160e5ef0-e47a-40e4-884c-6e3740cd023c",
   "metadata": {},
   "source": [
    "# use the pbmc fastq data and run cellranger."
   ]
  },
  {
   "cell_type": "code",
   "execution_count": 3,
   "id": "3ad1bc0e-aab4-4227-a43b-e58cd10898b0",
   "metadata": {},
   "outputs": [],
   "source": [
    "tarfastqsf pbmc8k_fastqs.tar"
   ]
  },
  {
   "cell_type": "code",
   "execution_count": null,
   "id": "a9572d56-0fce-4bcc-abe7-9c6cedcf114a",
   "metadata": {},
   "outputs": [],
   "source": []
  }
 ],
 "metadata": {
  "kernelspec": {
   "display_name": "Bash",
   "language": "bash",
   "name": "bash"
  },
  "language_info": {
   "codemirror_mode": "shell",
   "file_extension": ".sh",
   "mimetype": "text/x-sh",
   "name": "bash"
  }
 },
 "nbformat": 4,
 "nbformat_minor": 5
}
