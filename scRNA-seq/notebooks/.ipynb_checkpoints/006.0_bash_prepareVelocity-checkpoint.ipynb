{
 "cells": [
  {
   "cell_type": "markdown",
   "id": "71315b7d-a1fa-4ffa-86ba-cfeb1fc56b37",
   "metadata": {},
   "source": [
    "# run samtools to sort the bam files"
   ]
  },
  {
   "cell_type": "code",
   "execution_count": 1,
   "id": "d77f1f93-b378-4235-871a-93666dbae3de",
   "metadata": {},
   "outputs": [
    {
     "name": "stdout",
     "output_type": "stream",
     "text": [
      "001_convert_bcl_to_fastq.ipynb     004_R_pbmc3k_tutorial.ipynb\n",
      "002_decompress_pbmc_fastq.ipynb    005_Python_pbmc3k.ipynb\n",
      "003_cellranger_count_pbmc.ipynb    006.0_bash_prepareVelocity.ipynb\n",
      "004.1_R_convertSeuratToLoom.ipynb  006.1_VelocityBasics.ipynb\n"
     ]
    }
   ],
   "source": [
    "ls"
   ]
  },
  {
   "cell_type": "code",
   "execution_count": 2,
   "id": "72847f3f-cccd-466b-acf4-1887a2b9572c",
   "metadata": {},
   "outputs": [],
   "source": [
    "cd ../data/pbmc3/outs"
   ]
  },
  {
   "cell_type": "code",
   "execution_count": 3,
   "id": "56e36a40-bf7f-451e-8dde-ebccb81e18b5",
   "metadata": {},
   "outputs": [
    {
     "name": "stdout",
     "output_type": "stream",
     "text": [
      "\u001b[0m\u001b[1;93manalysis\u001b[0m                             possorted_genome_bam.bam\n",
      "cellsorted_possorted_genome_bam.bam  possorted_genome_bam.bam.bai\n",
      "\u001b[44;38;5;15mcloupe.cloupe\u001b[0m                        \u001b[1;93mraw_feature_bc_matrix\u001b[0m\n",
      "\u001b[1;93mfiltered_feature_bc_matrix\u001b[0m           raw_feature_bc_matrix.h5\n",
      "filtered_feature_bc_matrix.h5        slurm-17012167.out\n",
      "metrics_summary.csv                  web_summary.html\n",
      "molecule_info.h5\n"
     ]
    }
   ],
   "source": [
    "ls"
   ]
  },
  {
   "cell_type": "code",
   "execution_count": null,
   "id": "f88f2613-933b-4c00-8611-15467b6c0518",
   "metadata": {},
   "outputs": [],
   "source": [
    "# #!/bin/sh\n",
    "# module load samtools/1.9\n",
    "# samtools sort -t CB -O BAM -o cellsorted_possorted_genome_bam.bam possorted_genome_bam.bam"
   ]
  },
  {
   "cell_type": "markdown",
   "id": "fec6ee5f-f888-4ad1-ab87-0a6ba48abb88",
   "metadata": {},
   "source": [
    "# install Velocyto CLI "
   ]
  },
  {
   "cell_type": "code",
   "execution_count": 7,
   "id": "ff55c3e8-58f7-4312-8785-fe5d9359cb21",
   "metadata": {},
   "outputs": [
    {
     "name": "stdout",
     "output_type": "stream",
     "text": [
      "[+] Loading python 3.6  ... \n",
      "/usr/local/Anaconda/envs/py3.6/bin/pip\n"
     ]
    }
   ],
   "source": [
    "# module load python/3.6\n",
    "# which pip"
   ]
  },
  {
   "cell_type": "code",
   "execution_count": null,
   "id": "6f727329-ccf2-40cd-a8ff-4556e1fcc80c",
   "metadata": {},
   "outputs": [],
   "source": [
    "# pip install --user velocyto"
   ]
  },
  {
   "cell_type": "markdown",
   "id": "17abcdad-08c7-4fb5-b16d-c909191e3698",
   "metadata": {},
   "source": [
    "# run velocyto CLI to count the reads mapped to non-spliced reagions"
   ]
  },
  {
   "cell_type": "code",
   "execution_count": 5,
   "id": "125d9dfd-901c-4ce1-b785-4f69b4defe98",
   "metadata": {},
   "outputs": [],
   "source": [
    "cd ../.."
   ]
  },
  {
   "cell_type": "code",
   "execution_count": 6,
   "id": "1bad297c-d552-4d4e-97f7-6fc10c430d70",
   "metadata": {},
   "outputs": [
    {
     "name": "stdout",
     "output_type": "stream",
     "text": [
      "cellranger_pbmc3.sh                        slurm-17006161.out\n",
      "cellranger_pbmc.sh                         slurm-17006693.out\n",
      "\u001b[0m\u001b[1;93mcellranger-tiny-bcl-1.2.0\u001b[0m                  slurm-17006700.out\n",
      "\u001b[38;5;9mcellranger-tiny-bcl-1.2.0.tar.gz\u001b[0m           slurm-17040362.out\n",
      "cellranger-tiny-bcl-samplesheet-1.2.0.csv  slurm-17040447.out\n",
      "\u001b[1;93mfastqs\u001b[0m                                     slurm-17040905.out\n",
      "\u001b[1;93mH35KCBCXY\u001b[0m                                  slurm-17041595.out\n",
      "\u001b[1;93mpbmc3\u001b[0m                                      submit.sh\n",
      "__pbmc.mro                                 \u001b[1;93mtiny-bcl\u001b[0m\n",
      "\u001b[1;93ms1\u001b[0m                                         \u001b[1;93mtiny-bcl2\u001b[0m\n",
      "slurm-17006003.out                         velocyto.sh\n"
     ]
    }
   ],
   "source": [
    "ls"
   ]
  },
  {
   "cell_type": "code",
   "execution_count": null,
   "id": "ce4f89c9-3be2-450b-b08b-fc60c74d9c89",
   "metadata": {},
   "outputs": [],
   "source": [
    "# #!/bin/sh\n",
    "# module load python/3.6\n",
    "# velocyto run10x --samtools-threads 4 pbmc3  /fdb/cellranger/refdata-gex-GRCh38-2020-A/genes/genes.gtf"
   ]
  }
 ],
 "metadata": {
  "kernelspec": {
   "display_name": "Bash",
   "language": "bash",
   "name": "bash"
  },
  "language_info": {
   "codemirror_mode": "shell",
   "file_extension": ".sh",
   "mimetype": "text/x-sh",
   "name": "bash"
  }
 },
 "nbformat": 4,
 "nbformat_minor": 5
}
