{
 "cells": [
  {
   "cell_type": "markdown",
   "id": "25a48323-1df0-43ac-89f5-7a76bd1a598a",
   "metadata": {},
   "source": [
    "**use a tiny example to demonstrate the process of alignment**"
   ]
  },
  {
   "cell_type": "markdown",
   "id": "12a575d3-5ab0-4b99-9d9b-a1dc3ea91ba9",
   "metadata": {},
   "source": [
    "# Demo on making fastq from data generated from a flowcell, a 'bcl' files"
   ]
  },
  {
   "cell_type": "code",
   "execution_count": 1,
   "id": "27052e7a-0843-47fc-a7fb-ea38fc91d779",
   "metadata": {},
   "outputs": [
    {
     "name": "stdout",
     "output_type": "stream",
     "text": [
      "[+] Loading cellranger  6.0.1 \n"
     ]
    }
   ],
   "source": [
    "module load cellranger "
   ]
  },
  {
   "cell_type": "markdown",
   "id": "ad91abea-18d3-420b-895e-3b180e662793",
   "metadata": {},
   "source": [
    "These files have been downloaded on biowulf"
   ]
  },
  {
   "cell_type": "markdown",
   "id": "8f56a6dc-21dd-45dc-a94f-8250831ff2c8",
   "metadata": {},
   "source": [
    "**You need to download and install cellranger, downloading the reference. But Biowulf has all these in the system. <br>\n",
    "wget -O cellranger-2.2.0.tar.gz \"http://cf.10xgenomics.com/releases/cell-exp/cellranger-2.2.0.tar.gz?Expires=1533651784&Policy=eyJTdGF0ZW1lbnQiOlt7IlJlc291cmNlIjoiaHR0cDovL2NmLjEweGdlbm9taWNzLmNvbS9yZWxlYXNlcy9jZWxsLWV4cC9jZWxscmFuZ2VyLTIuMi4wLnRhci5neiIsIkNvbmRpdGlvbiI6eyJEYXRlTGVzc1RoYW4iOnsiQVdTOkVwb2NoVGltZSI6MTUzMzY1MTc4NH19fV19&Signature=L5k81QJRjubjoBwUeEcLTDT3uuuixkX4ZEJsNqO2ZLfe~cM2ygqHAJBHQ00xJxAdNPOyY8vu0RBaApGZM1H0-OqdqWg6rK4gdO6EF8lJu~oWv97X7zw6EfhVwISUFyoK22WFYR-MAKZHwxiIn8C3vORnZcxxUuN~sq0guVZ5ievI5iFYrHRhumQQhkQr~2fkbQDp3Bd5wtbyflfwMnE7fpdgy~jTSIbMLbHUICnM3-Gc~flroyEcoyugenrcSHNAcO~F0l~gmOewZnqqbEshxHBU4-faJ1iBixhJBlGHVHagqqpq6xyktVdAEIbX6uM~zawmHgi3axDh4HXffwMNiw__&Key-Pair-Id=APKAI7S6A5RYOXBWRPDA\" <br>\n",
    "wget http://cf.10xgenomics.com/supp/cell-exp/refdata-cellranger-GRCh38-1.2.0.tar.gz "
   ]
  },
  {
   "cell_type": "markdown",
   "id": "5a1cf48b-2198-4e29-8955-8882e59c608f",
   "metadata": {},
   "source": [
    "Instead of a big data, we will use a tiny sample. \n",
    "ref: </br>\n",
    "cellranger documentation on biowulf, https://hpc.nih.gov/apps/cellranger.html</br>\n",
    "davetang's blog on cellranger, https://davetang.org/muse/2018/08/09/getting-started-with-cell-ranger/"
   ]
  },
  {
   "cell_type": "code",
   "execution_count": 2,
   "id": "f22f1913-b827-433d-b9f1-c9b217ca0ec2",
   "metadata": {},
   "outputs": [
    {
     "name": "stdout",
     "output_type": "stream",
     "text": [
      "/usr/local/apps/cellranger/TEST_DATA\n"
     ]
    }
   ],
   "source": [
    "echo ${CELLRANGER_TEST_DATA:-none}"
   ]
  },
  {
   "cell_type": "code",
   "execution_count": 3,
   "id": "cbd97542-7371-427d-9369-440d80779f74",
   "metadata": {},
   "outputs": [],
   "source": [
    "cp ${CELLRANGER_TEST_DATA:-none}/cellranger-tiny-bcl-1.2.0.tar.gz ../data/\n",
    "cp ${CELLRANGER_TEST_DATA:-none}/cellranger-tiny-bcl-samplesheet-1.2.0.csv ../data/"
   ]
  },
  {
   "cell_type": "code",
   "execution_count": 4,
   "id": "b52c68ab-4cc6-4c9c-891d-1e6303d44d87",
   "metadata": {},
   "outputs": [
    {
     "name": "stdout",
     "output_type": "stream",
     "text": [
      "[Header],,,,,,,,\n",
      "IEMFileVersion,4,,,,,,,\n",
      "Investigator Name,rjr,,,,,,,\n",
      "Experiment Name,hiseq_test,,,,,,,\n",
      "Date,8/15/16,,,,,,,\n",
      "Workflow,GenerateFASTQ,,,,,,,\n",
      "Application,HiSeq FASTQ Only,,,,,,,\n",
      "Assay,TruSeq HT,,,,,,,\n",
      "Description,hiseq sample sheet,,,,,,,\n",
      "Chemistry,Default,,,,,,,\n",
      ",,,,,,,,\n",
      "[Reads],,,,,,,,\n",
      "26,,,,,,,,\n",
      "98,,,,,,,,\n",
      ",,,,,,,,\n",
      "[Settings],,,,,,,,\n",
      ",,,,,,,,\n",
      "[Data],,,,,,,,\n",
      "Lane,Sample_ID,Sample_Name,Sample_Plate,Sample_Well,I7_Index_ID,index,Sample_Project,Description\n",
      "1,s1,test_sample,,,SI-P03-C9,SI-P03-C9,p1,\n"
     ]
    }
   ],
   "source": [
    "cat ../data/cellranger-tiny-bcl-samplesheet-1.2.0.csv"
   ]
  },
  {
   "cell_type": "code",
   "execution_count": null,
   "id": "f5fd5c80-bda3-4f83-946e-5470b1eafd1b",
   "metadata": {},
   "outputs": [],
   "source": []
  },
  {
   "cell_type": "code",
   "execution_count": 6,
   "id": "5daf7961-5cf4-414e-ae38-25857660ab3d",
   "metadata": {},
   "outputs": [
    {
     "name": "stdout",
     "output_type": "stream",
     "text": [
      "/usr/local/apps/R/4.0/4.0.5/bin/R\n"
     ]
    }
   ],
   "source": [
    "which R"
   ]
  },
  {
   "cell_type": "code",
   "execution_count": 5,
   "id": "0d065d8f-fa82-478e-b57e-5ce6eb1ce4a2",
   "metadata": {},
   "outputs": [
    {
     "name": "stdout",
     "output_type": "stream",
     "text": [
      "\n",
      "R version 4.0.5 (2021-03-31) -- \"Shake and Throw\"\n",
      "Copyright (C) 2021 The R Foundation for Statistical Computing\n",
      "Platform: x86_64-pc-linux-gnu (64-bit)\n",
      "\n",
      "R is free software and comes with ABSOLUTELY NO WARRANTY.\n",
      "You are welcome to redistribute it under certain conditions.\n",
      "Type 'license()' or 'licence()' for distribution details.\n",
      "\n",
      "  Natural language support but running in an English locale\n",
      "\n",
      "R is a collaborative project with many contributors.\n",
      "Type 'contributors()' for more information and\n",
      "'citation()' on how to cite R or R packages in publications.\n",
      "\n",
      "Type 'demo()' for some demos, 'help()' for on-line help, or\n",
      "'help.start()' for an HTML browser interface to help.\n",
      "Type 'q()' to quit R.\n",
      "\n",
      "> read.csv(\"../data/cellranger-tiny-bcl-samplesheet-1.2.0.csv\",header=FALSE)[19:20,]\n",
      "     V1        V2          V3           V4          V5          V6        V7\n",
      "19 Lane Sample_ID Sample_Name Sample_Plate Sample_Well I7_Index_ID     index\n",
      "20    1        s1 test_sample                            SI-P03-C9 SI-P03-C9\n",
      "               V8          V9\n",
      "19 Sample_Project Description\n",
      "20             p1            \n",
      "> \n",
      "> \n"
     ]
    }
   ],
   "source": [
    " R -e 'read.csv(\"../data/cellranger-tiny-bcl-samplesheet-1.2.0.csv\",header=FALSE)[19:20,]'"
   ]
  },
  {
   "cell_type": "markdown",
   "id": "0f05c48a-427f-4fd3-a1ae-5bbff4cf2889",
   "metadata": {},
   "source": [
    "# decompress the folder to get the raw bcl folder"
   ]
  },
  {
   "cell_type": "code",
   "execution_count": 25,
   "id": "ae4e0680-71c1-4a98-8c25-32564083fb3d",
   "metadata": {},
   "outputs": [],
   "source": [
    "# let's decompress it. # the result will go to the current directory\n",
    "tar -xzf ../data/cellranger-tiny-bcl-1.2.0.tar.gz "
   ]
  },
  {
   "cell_type": "code",
   "execution_count": 57,
   "id": "e804b577-b9c7-48c3-bba8-0aa40e37ce64",
   "metadata": {},
   "outputs": [],
   "source": [
    "#tar --help\n",
    "# or google \"tar output directory\""
   ]
  },
  {
   "cell_type": "code",
   "execution_count": 26,
   "id": "e8d71096-00d7-4b28-925d-837fbef259ac",
   "metadata": {},
   "outputs": [],
   "source": [
    "tar -xzf ../data/cellranger-tiny-bcl-1.2.0.tar.gz --directory ../data/"
   ]
  },
  {
   "cell_type": "code",
   "execution_count": 28,
   "id": "7257e382-5645-4224-b518-a40b3b96b6f3",
   "metadata": {},
   "outputs": [],
   "source": [
    "# rm -rf cellranger-tiny-bcl-1.2.0*"
   ]
  },
  {
   "cell_type": "code",
   "execution_count": 29,
   "id": "91d8e002-6003-4c83-ad85-eb8141ac1d8c",
   "metadata": {},
   "outputs": [],
   "source": [
    "# cellranger mkfastq --help"
   ]
  },
  {
   "cell_type": "code",
   "execution_count": 30,
   "id": "78233b2b-81b5-4598-9147-ee1141f72ca8",
   "metadata": {},
   "outputs": [],
   "source": [
    "# 3:15-3:16"
   ]
  },
  {
   "cell_type": "code",
   "execution_count": 34,
   "id": "5428fb4c-a6de-4c01-b88d-fcaab43d8b32",
   "metadata": {},
   "outputs": [],
   "source": [
    "# cellranger mkfastq --help"
   ]
  },
  {
   "cell_type": "code",
   "execution_count": 36,
   "id": "539941d8-886c-43dd-b697-1c0d1cf21ff3",
   "metadata": {},
   "outputs": [
    {
     "name": "stdout",
     "output_type": "stream",
     "text": [
      "/spin1/users/classes/NIEHS_NGS/workshop/scRNA-seq/notebooks\n"
     ]
    }
   ],
   "source": [
    "pwd"
   ]
  },
  {
   "cell_type": "code",
   "execution_count": 42,
   "id": "b43b83b8-42a2-4f3b-a2bf-646d816fcd79",
   "metadata": {},
   "outputs": [
    {
     "name": "stdout",
     "output_type": "stream",
     "text": [
      "/usr/local/apps/cellranger/6.0.1/bin\n",
      "cellranger mkfastq (cellranger-6.0.1)\n",
      "Copyright (c) 2021 10x Genomics, Inc.  All rights reserved.\n",
      "-------------------------------------------------------------------------------\n",
      "\n",
      "Martian Runtime - v4.0.4\n",
      "Serving UI at http://cn0959:39603?auth=_m4Oorqv1C9XQ0W3Wygy9qavPUR_l0utf2oWvw9fVds\n",
      "\n",
      "Running preflight checks (please wait)...\n",
      "Checking run folder...\n",
      "Checking RunInfo.xml...\n",
      "Checking system environment...\n",
      "Emitting run information...\n",
      "Checking read specification...\n",
      "Checking samplesheet specs...\n",
      "2021-07-12 10:40:54 [runtime] (ready)           ID.tiny-bcl.MAKE_FASTQS_CS.MAKE_FASTQS.PREPARE_SAMPLESHEET\n",
      "2021-07-12 10:40:54 [runtime] (run:local)       ID.tiny-bcl.MAKE_FASTQS_CS.MAKE_FASTQS.PREPARE_SAMPLESHEET.fork0.chnk0.main\n",
      "2021-07-12 10:40:55 [runtime] (chunks_complete) ID.tiny-bcl.MAKE_FASTQS_CS.MAKE_FASTQS.PREPARE_SAMPLESHEET\n",
      "2021-07-12 10:40:55 [runtime] (ready)           ID.tiny-bcl.MAKE_FASTQS_CS.MAKE_FASTQS.BCL2FASTQ_WITH_SAMPLESHEET\n",
      "2021-07-12 10:40:55 [runtime] (run:local)       ID.tiny-bcl.MAKE_FASTQS_CS.MAKE_FASTQS.BCL2FASTQ_WITH_SAMPLESHEET.fork0.split\n",
      "2021-07-12 10:40:56 [runtime] (split_complete)  ID.tiny-bcl.MAKE_FASTQS_CS.MAKE_FASTQS.BCL2FASTQ_WITH_SAMPLESHEET\n",
      "2021-07-12 10:40:56 [runtime] (run:local)       ID.tiny-bcl.MAKE_FASTQS_CS.MAKE_FASTQS.BCL2FASTQ_WITH_SAMPLESHEET.fork0.chnk0.main\n",
      "2021-07-12 10:41:25 [runtime] (chunks_complete) ID.tiny-bcl.MAKE_FASTQS_CS.MAKE_FASTQS.BCL2FASTQ_WITH_SAMPLESHEET\n",
      "2021-07-12 10:41:25 [runtime] (run:local)       ID.tiny-bcl.MAKE_FASTQS_CS.MAKE_FASTQS.BCL2FASTQ_WITH_SAMPLESHEET.fork0.join\n",
      "2021-07-12 10:41:26 [runtime] (join_complete)   ID.tiny-bcl.MAKE_FASTQS_CS.MAKE_FASTQS.BCL2FASTQ_WITH_SAMPLESHEET\n",
      "2021-07-12 10:41:26 [runtime] (ready)           ID.tiny-bcl.MAKE_FASTQS_CS.MAKE_FASTQS.MERGE_FASTQS_BY_LANE_SAMPLE\n",
      "2021-07-12 10:41:26 [runtime] (run:local)       ID.tiny-bcl.MAKE_FASTQS_CS.MAKE_FASTQS.MERGE_FASTQS_BY_LANE_SAMPLE.fork0.split\n",
      "2021-07-12 10:41:27 [runtime] (split_complete)  ID.tiny-bcl.MAKE_FASTQS_CS.MAKE_FASTQS.MERGE_FASTQS_BY_LANE_SAMPLE\n",
      "2021-07-12 10:41:27 [runtime] (run:local)       ID.tiny-bcl.MAKE_FASTQS_CS.MAKE_FASTQS.MERGE_FASTQS_BY_LANE_SAMPLE.fork0.chnk0.main\n",
      "2021-07-12 10:41:28 [runtime] (chunks_complete) ID.tiny-bcl.MAKE_FASTQS_CS.MAKE_FASTQS.MERGE_FASTQS_BY_LANE_SAMPLE\n",
      "2021-07-12 10:41:28 [runtime] (run:local)       ID.tiny-bcl.MAKE_FASTQS_CS.MAKE_FASTQS.MERGE_FASTQS_BY_LANE_SAMPLE.fork0.join\n",
      "2021-07-12 10:41:29 [runtime] (join_complete)   ID.tiny-bcl.MAKE_FASTQS_CS.MAKE_FASTQS.MERGE_FASTQS_BY_LANE_SAMPLE\n",
      "\n",
      "Outputs:\n",
      "- FASTQ output folder:   /spin1/users/classes/NIEHS_NGS/workshop/scRNA-seq/notebooks/tiny-bcl/outs/fastq_path\n",
      "- Interop output folder: /spin1/users/classes/NIEHS_NGS/workshop/scRNA-seq/notebooks/tiny-bcl/outs/interop_path\n",
      "- Input samplesheet:     /spin1/users/classes/NIEHS_NGS/workshop/scRNA-seq/notebooks/tiny-bcl/outs/input_samplesheet.csv\n",
      "\n",
      "Waiting 6 seconds for UI to do final refresh.\n",
      "Pipestance completed successfully!\n",
      "\n",
      "2021-07-12 10:41:35 Shutting down.\n",
      "Saving pipestance info to \"tiny-bcl/tiny-bcl.mri.tgz\"\n"
     ]
    }
   ],
   "source": [
    "cellranger mkfastq  --id=tiny-bcl \\\n",
    "                    --run=../data/cellranger-tiny-bcl-1.2.0 \\\n",
    "                    --samplesheet=../data/cellranger-tiny-bcl-samplesheet-1.2.0.csv"
   ]
  },
  {
   "cell_type": "code",
   "execution_count": 43,
   "id": "d2f85ee3-f0d0-4c8e-8ec3-586291180596",
   "metadata": {},
   "outputs": [
    {
     "name": "stdout",
     "output_type": "stream",
     "text": [
      "\u001b[0m\u001b[38;5;34m001_convert_bcl_to_fastq.ipynb\u001b[0m   \u001b[38;5;34m005_Python_pbmc3k.ipynb\u001b[0m           \u001b[1;93mothers\u001b[0m\n",
      "\u001b[38;5;34m002_decompress_pbmc_fastq.ipynb\u001b[0m  \u001b[38;5;34m006.0_bash_prepareVelocity.ipynb\u001b[0m  \u001b[1;93mqc\u001b[0m\n",
      "\u001b[38;5;34m003_cellranger_count_pbmc.ipynb\u001b[0m  \u001b[38;5;34m006.1_VelocityBasics.ipynb\u001b[0m        \u001b[1;93ms1\u001b[0m\n",
      "\u001b[38;5;34m004_R_pbmc3k_tutorial.ipynb\u001b[0m      \u001b[1;93mdata\u001b[0m                              \u001b[1;93mtiny-bcl\u001b[0m\n"
     ]
    }
   ],
   "source": [
    "ls"
   ]
  },
  {
   "cell_type": "code",
   "execution_count": 45,
   "id": "9a62c434-4256-4265-97ee-f12ce85b5a3c",
   "metadata": {},
   "outputs": [
    {
     "name": "stdout",
     "output_type": "stream",
     "text": [
      "\u001b[0m\u001b[1;93mp1\u001b[0m       \u001b[38;5;9mUndetermined_S0_L001_I1_001.fastq.gz\u001b[0m\n",
      "\u001b[1;93mReports\u001b[0m  \u001b[38;5;9mUndetermined_S0_L001_R1_001.fastq.gz\u001b[0m\n",
      "\u001b[1;93mStats\u001b[0m    \u001b[38;5;9mUndetermined_S0_L001_R2_001.fastq.gz\u001b[0m\n"
     ]
    }
   ],
   "source": [
    "#ls tiny-bcl\n",
    "ls tiny-bcl/outs/fastq_path"
   ]
  },
  {
   "cell_type": "code",
   "execution_count": 47,
   "id": "8d04adce-5aca-43b3-94f1-d1839974c339",
   "metadata": {},
   "outputs": [
    {
     "name": "stdout",
     "output_type": "stream",
     "text": [
      "\u001b[0m\u001b[1;93mp1\u001b[0m       \u001b[38;5;9mUndetermined_S0_L001_I1_001.fastq.gz\u001b[0m\n",
      "\u001b[1;93mReports\u001b[0m  \u001b[38;5;9mUndetermined_S0_L001_R1_001.fastq.gz\u001b[0m\n",
      "\u001b[1;93mStats\u001b[0m    \u001b[38;5;9mUndetermined_S0_L001_R2_001.fastq.gz\u001b[0m\n",
      "24K\ttiny-bcl/outs/fastq_path/p1\n",
      "252K\ttiny-bcl/outs/fastq_path/Reports\n",
      "84K\ttiny-bcl/outs/fastq_path/Stats\n",
      "20M\ttiny-bcl/outs/fastq_path/Undetermined_S0_L001_I1_001.fastq.gz\n",
      "50M\ttiny-bcl/outs/fastq_path/Undetermined_S0_L001_R1_001.fastq.gz\n",
      "147M\ttiny-bcl/outs/fastq_path/Undetermined_S0_L001_R2_001.fastq.gz\n"
     ]
    }
   ],
   "source": [
    "ls tiny-bcl/outs/fastq_path\n",
    "du -sh tiny-bcl/outs/fastq_path/*"
   ]
  },
  {
   "cell_type": "markdown",
   "id": "bcf92d20-d729-4f3c-bdb8-8d09081fe21e",
   "metadata": {},
   "source": [
    "# have a look at the reads quality"
   ]
  },
  {
   "cell_type": "code",
   "execution_count": 48,
   "id": "cca8cf50-21f5-4996-826a-42057dd7bad9",
   "metadata": {},
   "outputs": [
    {
     "name": "stdout",
     "output_type": "stream",
     "text": [
      "[+] Loading fastqc  0.11.9 \n"
     ]
    }
   ],
   "source": [
    "module load fastqc"
   ]
  },
  {
   "cell_type": "code",
   "execution_count": 53,
   "id": "97cef9c6-3b95-4bde-9ff8-a05a6c4d8757",
   "metadata": {},
   "outputs": [
    {
     "name": "stdout",
     "output_type": "stream",
     "text": [
      "Started analysis of test_sample_S1_L001_I1_001.fastq.gz\n",
      "Analysis complete for test_sample_S1_L001_I1_001.fastq.gz\n"
     ]
    }
   ],
   "source": [
    "fastqc -o qc/ tiny-bcl/outs/fastq_path/p1/s1/test_sample_S1_L001_I1_001.fastq.gz"
   ]
  },
  {
   "cell_type": "code",
   "execution_count": 54,
   "id": "b61cf3be-13b7-4c84-8ab0-f736f6810cbd",
   "metadata": {},
   "outputs": [
    {
     "name": "stdout",
     "output_type": "stream",
     "text": [
      "Started analysis of test_sample_S1_L001_R1_001.fastq.gz\n",
      "Analysis complete for test_sample_S1_L001_R1_001.fastq.gz\n"
     ]
    }
   ],
   "source": [
    "fastqc -o qc/ tiny-bcl/outs/fastq_path/p1/s1/test_sample_S1_L001_R1_001.fastq.gz"
   ]
  },
  {
   "cell_type": "code",
   "execution_count": 55,
   "id": "9555daa9-e910-4fe6-b62b-8e4e9c124bd1",
   "metadata": {},
   "outputs": [
    {
     "name": "stdout",
     "output_type": "stream",
     "text": [
      "Started analysis of test_sample_S1_L001_R2_001.fastq.gz\n",
      "Analysis complete for test_sample_S1_L001_R2_001.fastq.gz\n"
     ]
    }
   ],
   "source": [
    "fastqc -o qc/ tiny-bcl/outs/fastq_path/p1/s1/test_sample_S1_L001_R2_001.fastq.gz"
   ]
  },
  {
   "cell_type": "markdown",
   "id": "1f3a1070-3079-4860-a1d6-b68cfc5f678a",
   "metadata": {},
   "source": [
    "# use cellranger count to do align and get the sparse matrix. \n"
   ]
  },
  {
   "cell_type": "code",
   "execution_count": null,
   "id": "da6455f7-83fb-4940-95bc-fb5165594b93",
   "metadata": {},
   "outputs": [],
   "source": [
    "# 3:18-3:22"
   ]
  },
  {
   "cell_type": "code",
   "execution_count": 56,
   "id": "506206d8-1ae6-4073-9332-54d4203950c7",
   "metadata": {},
   "outputs": [
    {
     "name": "stdout",
     "output_type": "stream",
     "text": [
      "Martian Runtime - v4.0.4\n",
      "Serving UI at http://cn0959:36616?auth=EqE_-sgJmwzN_NhQaeqoRzZod6K8BAcPOr9aYZ6tnpo\n",
      "\n",
      "Running preflight checks (please wait)...\n",
      "Checking sample info...\n",
      "Checking FASTQ folder...\n",
      "Checking reference...\n",
      "Checking reference_path (/vf/db/cellranger/refdata-gex-GRCh38-2020-A) on cn0959...\n",
      "Checking optional arguments...\n",
      "mrc: v4.0.4\n",
      "\n",
      "mrp: v4.0.4\n",
      "\n",
      "Anaconda: Python 3.7.6\n",
      "\n",
      "numpy: 1.19.2\n",
      "\n",
      "scipy: 1.1.0\n",
      "\n",
      "pysam: 0.16.0.1\n",
      "\n",
      "h5py: 2.8.0\n",
      "\n",
      "pandas: 0.24.2\n",
      "\n",
      "STAR: 2.7.2a\n",
      "\n",
      "samtools: samtools 1.10\n",
      "Using htslib 1.10.2\n",
      "Copyright (C) 2019 Genome Research Ltd.\n",
      "\n",
      "2021-07-12 11:20:06 [runtime] (ready)           ID.s1.SC_RNA_COUNTER_CS.FULL_COUNT_INPUTS.WRITE_GENE_INDEX\n",
      "2021-07-12 11:20:06 [runtime] (run:local)       ID.s1.SC_RNA_COUNTER_CS.FULL_COUNT_INPUTS.WRITE_GENE_INDEX.fork0.chnk0.main\n",
      "2021-07-12 11:20:06 [runtime] (ready)           ID.s1.SC_RNA_COUNTER_CS.SC_MULTI_CORE.MAKE_FULL_CONFIG._MAKE_VDJ_CONFIG\n",
      "2021-07-12 11:20:06 [runtime] (run:local)       ID.s1.SC_RNA_COUNTER_CS.SC_MULTI_CORE.MAKE_FULL_CONFIG._MAKE_VDJ_CONFIG.fork0.chnk0.main\n",
      "2021-07-12 11:20:06 [runtime] (ready)           ID.s1.SC_RNA_COUNTER_CS.SC_MULTI_CORE.MULTI_GEM_WELL_PROCESSOR.COUNT_GEM_WELL_PROCESSOR._BASIC_SC_RNA_COUNTER.DISABLE_BAMS\n",
      "2021-07-12 11:20:06 [runtime] (run:local)       ID.s1.SC_RNA_COUNTER_CS.SC_MULTI_CORE.MULTI_GEM_WELL_PROCESSOR.COUNT_GEM_WELL_PROCESSOR._BASIC_SC_RNA_COUNTER.DISABLE_BAMS.fork0.chnk0.main\n",
      "2021-07-12 11:20:06 [runtime] (ready)           ID.s1.SC_RNA_COUNTER_CS.SC_MULTI_CORE.SANITIZE_MAP_CALLS\n",
      "2021-07-12 11:20:06 [runtime] (ready)           ID.s1.SC_RNA_COUNTER_CS.WRITE_GENE_INDEX\n",
      "2021-07-12 11:20:06 [runtime] (run:local)       ID.s1.SC_RNA_COUNTER_CS.WRITE_GENE_INDEX.fork0.chnk0.main\n",
      "2021-07-12 11:20:06 [runtime] (ready)           ID.s1.SC_RNA_COUNTER_CS.SC_MULTI_CORE.MULTI_CHEMISTRY_DETECTOR._GEM_WELL_CHEMISTRY_DETECTOR.DETECT_COUNT_CHEMISTRY\n",
      "2021-07-12 11:20:06 [runtime] (run:local)       ID.s1.SC_RNA_COUNTER_CS.SC_MULTI_CORE.MULTI_CHEMISTRY_DETECTOR._GEM_WELL_CHEMISTRY_DETECTOR.DETECT_COUNT_CHEMISTRY.fork0.chnk0.main\n",
      "2021-07-12 11:20:06 [runtime] (chunks_complete) ID.s1.SC_RNA_COUNTER_CS.SC_MULTI_CORE.MAKE_FULL_CONFIG._MAKE_VDJ_CONFIG\n",
      "2021-07-12 11:20:07 [runtime] (ready)           ID.s1.SC_RNA_COUNTER_CS.SC_MULTI_CORE.MULTI_GEM_WELL_PROCESSOR.VDJ_B_GEM_WELL_PROCESSOR.MULTI_SETUP_CHUNKS\n",
      "2021-07-12 11:20:07 [runtime] (ready)           ID.s1.SC_RNA_COUNTER_CS.SC_MULTI_CORE.MULTI_GEM_WELL_PROCESSOR.VDJ_T_GEM_WELL_PROCESSOR.MULTI_SETUP_CHUNKS\n",
      "2021-07-12 11:20:07 [runtime] (ready)           ID.s1.SC_RNA_COUNTER_CS.SC_MULTI_CORE.MULTI_GEM_WELL_PROCESSOR.VDJ_B_GEM_WELL_PROCESSOR.SC_VDJ_CONTIG_ASSEMBLER.MAKE_SHARD\n",
      "2021-07-12 11:20:07 [runtime] (ready)           ID.s1.SC_RNA_COUNTER_CS.SC_MULTI_CORE.MULTI_GEM_WELL_PROCESSOR.VDJ_T_GEM_WELL_PROCESSOR.SC_VDJ_CONTIG_ASSEMBLER.MAKE_SHARD\n",
      "2021-07-12 11:20:07 [runtime] (ready)           ID.s1.SC_RNA_COUNTER_CS.SC_MULTI_CORE.MULTI_GEM_WELL_PROCESSOR.VDJ_B_GEM_WELL_PROCESSOR.SC_VDJ_CONTIG_ASSEMBLER.BARCODE_CORRECTION\n",
      "2021-07-12 11:20:07 [runtime] (ready)           ID.s1.SC_RNA_COUNTER_CS.SC_MULTI_CORE.MULTI_GEM_WELL_PROCESSOR.VDJ_T_GEM_WELL_PROCESSOR.SC_VDJ_CONTIG_ASSEMBLER.BARCODE_CORRECTION\n",
      "2021-07-12 11:20:07 [runtime] (ready)           ID.s1.SC_RNA_COUNTER_CS.SC_MULTI_CORE.MULTI_GEM_WELL_PROCESSOR.VDJ_B_GEM_WELL_PROCESSOR.SC_VDJ_CONTIG_ASSEMBLER.RUST_BRIDGE\n",
      "2021-07-12 11:20:07 [runtime] (ready)           ID.s1.SC_RNA_COUNTER_CS.SC_MULTI_CORE.MULTI_GEM_WELL_PROCESSOR.VDJ_B_GEM_WELL_PROCESSOR.SC_VDJ_CONTIG_ASSEMBLER.ASSEMBLE_VDJ\n",
      "2021-07-12 11:20:07 [runtime] (ready)           ID.s1.SC_RNA_COUNTER_CS.SC_MULTI_CORE.MULTI_GEM_WELL_PROCESSOR.VDJ_T_GEM_WELL_PROCESSOR.SC_VDJ_CONTIG_ASSEMBLER.RUST_BRIDGE\n",
      "2021-07-12 11:20:07 [runtime] (ready)           ID.s1.SC_RNA_COUNTER_CS.SC_MULTI_CORE.MULTI_GEM_WELL_PROCESSOR.VDJ_B_GEM_WELL_PROCESSOR.SC_VDJ_CONTIG_ASSEMBLER.MERGE_METRICS\n",
      "2021-07-12 11:20:07 [runtime] (ready)           ID.s1.SC_RNA_COUNTER_CS.SC_MULTI_CORE.MULTI_GEM_WELL_PROCESSOR.VDJ_T_GEM_WELL_PROCESSOR.SC_VDJ_CONTIG_ASSEMBLER.ASSEMBLE_VDJ\n",
      "2021-07-12 11:20:07 [runtime] (ready)           ID.s1.SC_RNA_COUNTER_CS.SC_MULTI_CORE.MULTI_GEM_WELL_PROCESSOR.VDJ_T_GEM_WELL_PROCESSOR.SC_VDJ_CONTIG_ASSEMBLER.MERGE_METRICS\n",
      "2021-07-12 11:20:07 [runtime] (chunks_complete) ID.s1.SC_RNA_COUNTER_CS.SC_MULTI_CORE.MULTI_GEM_WELL_PROCESSOR.COUNT_GEM_WELL_PROCESSOR._BASIC_SC_RNA_COUNTER.DISABLE_BAMS\n",
      "2021-07-12 11:20:43 [runtime] (chunks_complete) ID.s1.SC_RNA_COUNTER_CS.FULL_COUNT_INPUTS.WRITE_GENE_INDEX\n",
      "2021-07-12 11:20:43 [runtime] (chunks_complete) ID.s1.SC_RNA_COUNTER_CS.WRITE_GENE_INDEX\n",
      "2021-07-12 11:20:43 [runtime] (ready)           ID.s1.SC_RNA_COUNTER_CS.SC_MULTI_CORE.MULTI_GEM_WELL_PROCESSOR.COUNT_GEM_WELL_PROCESSOR.PARSE_TARGET_FEATURES\n",
      "2021-07-12 11:20:43 [runtime] (run:local)       ID.s1.SC_RNA_COUNTER_CS.SC_MULTI_CORE.MULTI_GEM_WELL_PROCESSOR.COUNT_GEM_WELL_PROCESSOR.PARSE_TARGET_FEATURES.fork0.chnk0.main\n",
      "2021-07-12 11:20:44 [runtime] (chunks_complete) ID.s1.SC_RNA_COUNTER_CS.SC_MULTI_CORE.MULTI_CHEMISTRY_DETECTOR._GEM_WELL_CHEMISTRY_DETECTOR.DETECT_COUNT_CHEMISTRY\n",
      "2021-07-12 11:20:44 [runtime] (ready)           ID.s1.SC_RNA_COUNTER_CS.SC_MULTI_CORE.MULTI_CHEMISTRY_DETECTOR._GEM_WELL_CHEMISTRY_DETECTOR.CHECK_BARCODES_COMPATIBILITY\n",
      "2021-07-12 11:20:44 [runtime] (run:local)       ID.s1.SC_RNA_COUNTER_CS.SC_MULTI_CORE.MULTI_CHEMISTRY_DETECTOR._GEM_WELL_CHEMISTRY_DETECTOR.CHECK_BARCODES_COMPATIBILITY.fork0.chnk0.main\n",
      "2021-07-12 11:20:44 [runtime] (chunks_complete) ID.s1.SC_RNA_COUNTER_CS.SC_MULTI_CORE.MULTI_CHEMISTRY_DETECTOR._GEM_WELL_CHEMISTRY_DETECTOR.CHECK_BARCODES_COMPATIBILITY\n",
      "2021-07-12 11:20:44 [runtime] (ready)           ID.s1.SC_RNA_COUNTER_CS.SC_MULTI_CORE.MULTI_CHEMISTRY_DETECTOR.COMBINE_GEM_WELL_CHEMISTRIES\n",
      "2021-07-12 11:20:44 [runtime] (run:local)       ID.s1.SC_RNA_COUNTER_CS.SC_MULTI_CORE.MULTI_CHEMISTRY_DETECTOR.COMBINE_GEM_WELL_CHEMISTRIES.fork0.chnk0.main\n",
      "2021-07-12 11:20:44 [runtime] (chunks_complete) ID.s1.SC_RNA_COUNTER_CS.SC_MULTI_CORE.MULTI_CHEMISTRY_DETECTOR.COMBINE_GEM_WELL_CHEMISTRIES\n",
      "2021-07-12 11:20:44 [runtime] (ready)           ID.s1.SC_RNA_COUNTER_CS.SC_MULTI_CORE.MULTI_GEM_WELL_PROCESSOR.COUNT_GEM_WELL_PROCESSOR.MULTI_SETUP_CHUNKS\n",
      "2021-07-12 11:20:44 [runtime] (run:local)       ID.s1.SC_RNA_COUNTER_CS.SC_MULTI_CORE.MULTI_GEM_WELL_PROCESSOR.COUNT_GEM_WELL_PROCESSOR.MULTI_SETUP_CHUNKS.fork0.chnk0.main\n",
      "2021-07-12 11:20:44 [runtime] (ready)           ID.s1.SC_RNA_COUNTER_CS.SC_MULTI_CORE.SPLIT_VDJ_INPUTS\n",
      "2021-07-12 11:20:44 [runtime] (chunks_complete) ID.s1.SC_RNA_COUNTER_CS.SC_MULTI_CORE.MULTI_GEM_WELL_PROCESSOR.COUNT_GEM_WELL_PROCESSOR.MULTI_SETUP_CHUNKS\n",
      "2021-07-12 11:20:45 [runtime] (chunks_complete) ID.s1.SC_RNA_COUNTER_CS.SC_MULTI_CORE.MULTI_GEM_WELL_PROCESSOR.COUNT_GEM_WELL_PROCESSOR.PARSE_TARGET_FEATURES\n",
      "2021-07-12 11:20:45 [runtime] (ready)           ID.s1.SC_RNA_COUNTER_CS.SC_MULTI_CORE.MULTI_GEM_WELL_PROCESSOR.COUNT_GEM_WELL_PROCESSOR._BASIC_SC_RNA_COUNTER._MATRIX_COMPUTER.MAKE_SHARD\n",
      "2021-07-12 11:20:45 [runtime] (run:local)       ID.s1.SC_RNA_COUNTER_CS.SC_MULTI_CORE.MULTI_GEM_WELL_PROCESSOR.COUNT_GEM_WELL_PROCESSOR._BASIC_SC_RNA_COUNTER._MATRIX_COMPUTER.MAKE_SHARD.fork0.split\n",
      "2021-07-12 11:20:54 [runtime] (split_complete)  ID.s1.SC_RNA_COUNTER_CS.SC_MULTI_CORE.MULTI_GEM_WELL_PROCESSOR.COUNT_GEM_WELL_PROCESSOR._BASIC_SC_RNA_COUNTER._MATRIX_COMPUTER.MAKE_SHARD\n",
      "2021-07-12 11:20:54 [runtime] (run:local)       ID.s1.SC_RNA_COUNTER_CS.SC_MULTI_CORE.MULTI_GEM_WELL_PROCESSOR.COUNT_GEM_WELL_PROCESSOR._BASIC_SC_RNA_COUNTER._MATRIX_COMPUTER.MAKE_SHARD.fork0.chnk0.main\n",
      "2021-07-12 11:20:55 [runtime] (chunks_complete) ID.s1.SC_RNA_COUNTER_CS.SC_MULTI_CORE.MULTI_GEM_WELL_PROCESSOR.COUNT_GEM_WELL_PROCESSOR._BASIC_SC_RNA_COUNTER._MATRIX_COMPUTER.MAKE_SHARD\n",
      "2021-07-12 11:20:55 [runtime] (run:local)       ID.s1.SC_RNA_COUNTER_CS.SC_MULTI_CORE.MULTI_GEM_WELL_PROCESSOR.COUNT_GEM_WELL_PROCESSOR._BASIC_SC_RNA_COUNTER._MATRIX_COMPUTER.MAKE_SHARD.fork0.join\n",
      "2021-07-12 11:20:55 [runtime] (join_complete)   ID.s1.SC_RNA_COUNTER_CS.SC_MULTI_CORE.MULTI_GEM_WELL_PROCESSOR.COUNT_GEM_WELL_PROCESSOR._BASIC_SC_RNA_COUNTER._MATRIX_COMPUTER.MAKE_SHARD\n",
      "2021-07-12 11:20:55 [runtime] (ready)           ID.s1.SC_RNA_COUNTER_CS.SC_MULTI_CORE.MULTI_GEM_WELL_PROCESSOR.COUNT_GEM_WELL_PROCESSOR._BASIC_SC_RNA_COUNTER._MATRIX_COMPUTER.BARCODE_CORRECTION\n",
      "2021-07-12 11:20:55 [runtime] (run:local)       ID.s1.SC_RNA_COUNTER_CS.SC_MULTI_CORE.MULTI_GEM_WELL_PROCESSOR.COUNT_GEM_WELL_PROCESSOR._BASIC_SC_RNA_COUNTER._MATRIX_COMPUTER.BARCODE_CORRECTION.fork0.split\n",
      "2021-07-12 11:20:55 [runtime] (split_complete)  ID.s1.SC_RNA_COUNTER_CS.SC_MULTI_CORE.MULTI_GEM_WELL_PROCESSOR.COUNT_GEM_WELL_PROCESSOR._BASIC_SC_RNA_COUNTER._MATRIX_COMPUTER.BARCODE_CORRECTION\n",
      "2021-07-12 11:20:55 [runtime] (run:local)       ID.s1.SC_RNA_COUNTER_CS.SC_MULTI_CORE.MULTI_GEM_WELL_PROCESSOR.COUNT_GEM_WELL_PROCESSOR._BASIC_SC_RNA_COUNTER._MATRIX_COMPUTER.BARCODE_CORRECTION.fork0.chnk0.main\n",
      "2021-07-12 11:20:55 [runtime] (chunks_complete) ID.s1.SC_RNA_COUNTER_CS.SC_MULTI_CORE.MULTI_GEM_WELL_PROCESSOR.COUNT_GEM_WELL_PROCESSOR._BASIC_SC_RNA_COUNTER._MATRIX_COMPUTER.BARCODE_CORRECTION\n",
      "2021-07-12 11:20:55 [runtime] (run:local)       ID.s1.SC_RNA_COUNTER_CS.SC_MULTI_CORE.MULTI_GEM_WELL_PROCESSOR.COUNT_GEM_WELL_PROCESSOR._BASIC_SC_RNA_COUNTER._MATRIX_COMPUTER.BARCODE_CORRECTION.fork0.join\n",
      "2021-07-12 11:20:55 [runtime] (join_complete)   ID.s1.SC_RNA_COUNTER_CS.SC_MULTI_CORE.MULTI_GEM_WELL_PROCESSOR.COUNT_GEM_WELL_PROCESSOR._BASIC_SC_RNA_COUNTER._MATRIX_COMPUTER.BARCODE_CORRECTION\n",
      "2021-07-12 11:20:55 [runtime] (ready)           ID.s1.SC_RNA_COUNTER_CS.SC_MULTI_CORE.MULTI_GEM_WELL_PROCESSOR.COUNT_GEM_WELL_PROCESSOR._BASIC_SC_RNA_COUNTER._MATRIX_COMPUTER.WRITE_BARCODE_INDEX\n",
      "2021-07-12 11:20:55 [runtime] (run:local)       ID.s1.SC_RNA_COUNTER_CS.SC_MULTI_CORE.MULTI_GEM_WELL_PROCESSOR.COUNT_GEM_WELL_PROCESSOR._BASIC_SC_RNA_COUNTER._MATRIX_COMPUTER.WRITE_BARCODE_INDEX.fork0.chnk0.main\n",
      "2021-07-12 11:20:55 [runtime] (ready)           ID.s1.SC_RNA_COUNTER_CS.SC_MULTI_CORE.MULTI_GEM_WELL_PROCESSOR.COUNT_GEM_WELL_PROCESSOR._BASIC_SC_RNA_COUNTER._MATRIX_COMPUTER._SLFE_PARTIAL_FIRST_PASS.SUBSAMPLE_BARCODES\n",
      "2021-07-12 11:20:55 [runtime] (ready)           ID.s1.SC_RNA_COUNTER_CS.SC_MULTI_CORE.MULTI_GEM_WELL_PROCESSOR.COUNT_GEM_WELL_PROCESSOR._BASIC_SC_RNA_COUNTER._MATRIX_COMPUTER.SET_ALIGNER_SUBSAMPLE_RATE\n",
      "2021-07-12 11:20:55 [runtime] (run:local)       ID.s1.SC_RNA_COUNTER_CS.SC_MULTI_CORE.MULTI_GEM_WELL_PROCESSOR.COUNT_GEM_WELL_PROCESSOR._BASIC_SC_RNA_COUNTER._MATRIX_COMPUTER.SET_ALIGNER_SUBSAMPLE_RATE.fork0.chnk0.main\n",
      "2021-07-12 11:20:55 [runtime] (ready)           ID.s1.SC_RNA_COUNTER_CS.SC_MULTI_CORE.MULTI_GEM_WELL_PROCESSOR.COUNT_GEM_WELL_PROCESSOR._BASIC_SC_RNA_COUNTER._MATRIX_COMPUTER._SLFE_PARTIAL_FIRST_PASS.INITIAL_ALIGN_AND_COUNT\n",
      "2021-07-12 11:20:55 [runtime] (ready)           ID.s1.SC_RNA_COUNTER_CS.SC_MULTI_CORE.MULTI_GEM_WELL_PROCESSOR.COUNT_GEM_WELL_PROCESSOR._BASIC_SC_RNA_COUNTER._MATRIX_COMPUTER._SLFE_PARTIAL_FIRST_PASS.SET_TARGETED_UMI_FILTER\n",
      "2021-07-12 11:20:55 [runtime] (chunks_complete) ID.s1.SC_RNA_COUNTER_CS.SC_MULTI_CORE.MULTI_GEM_WELL_PROCESSOR.COUNT_GEM_WELL_PROCESSOR._BASIC_SC_RNA_COUNTER._MATRIX_COMPUTER.WRITE_BARCODE_INDEX\n",
      "2021-07-12 11:20:55 [runtime] (chunks_complete) ID.s1.SC_RNA_COUNTER_CS.SC_MULTI_CORE.MULTI_GEM_WELL_PROCESSOR.COUNT_GEM_WELL_PROCESSOR._BASIC_SC_RNA_COUNTER._MATRIX_COMPUTER.SET_ALIGNER_SUBSAMPLE_RATE\n",
      "2021-07-12 11:20:55 [runtime] (ready)           ID.s1.SC_RNA_COUNTER_CS.SC_MULTI_CORE.MULTI_GEM_WELL_PROCESSOR.COUNT_GEM_WELL_PROCESSOR._BASIC_SC_RNA_COUNTER._MATRIX_COMPUTER.ALIGN_AND_COUNT\n",
      "2021-07-12 11:20:55 [runtime] (run:local)       ID.s1.SC_RNA_COUNTER_CS.SC_MULTI_CORE.MULTI_GEM_WELL_PROCESSOR.COUNT_GEM_WELL_PROCESSOR._BASIC_SC_RNA_COUNTER._MATRIX_COMPUTER.ALIGN_AND_COUNT.fork0.split\n",
      "2021-07-12 11:20:56 [runtime] (split_complete)  ID.s1.SC_RNA_COUNTER_CS.SC_MULTI_CORE.MULTI_GEM_WELL_PROCESSOR.COUNT_GEM_WELL_PROCESSOR._BASIC_SC_RNA_COUNTER._MATRIX_COMPUTER.ALIGN_AND_COUNT\n",
      "2021-07-12 11:20:56 [runtime] (run:local)       ID.s1.SC_RNA_COUNTER_CS.SC_MULTI_CORE.MULTI_GEM_WELL_PROCESSOR.COUNT_GEM_WELL_PROCESSOR._BASIC_SC_RNA_COUNTER._MATRIX_COMPUTER.ALIGN_AND_COUNT.fork0.chnk0.main\n",
      "2021-07-12 11:21:29 [runtime] (chunks_complete) ID.s1.SC_RNA_COUNTER_CS.SC_MULTI_CORE.MULTI_GEM_WELL_PROCESSOR.COUNT_GEM_WELL_PROCESSOR._BASIC_SC_RNA_COUNTER._MATRIX_COMPUTER.ALIGN_AND_COUNT\n",
      "2021-07-12 11:21:29 [runtime] (run:local)       ID.s1.SC_RNA_COUNTER_CS.SC_MULTI_CORE.MULTI_GEM_WELL_PROCESSOR.COUNT_GEM_WELL_PROCESSOR._BASIC_SC_RNA_COUNTER._MATRIX_COMPUTER.ALIGN_AND_COUNT.fork0.join\n",
      "2021-07-12 11:21:29 [runtime] (join_complete)   ID.s1.SC_RNA_COUNTER_CS.SC_MULTI_CORE.MULTI_GEM_WELL_PROCESSOR.COUNT_GEM_WELL_PROCESSOR._BASIC_SC_RNA_COUNTER._MATRIX_COMPUTER.ALIGN_AND_COUNT\n",
      "2021-07-12 11:21:29 [runtime] (ready)           ID.s1.SC_RNA_COUNTER_CS.SC_MULTI_CORE.MULTI_GEM_WELL_PROCESSOR.COUNT_GEM_WELL_PROCESSOR._BASIC_SC_RNA_COUNTER.WRITE_POS_BAM\n",
      "2021-07-12 11:21:29 [runtime] (run:local)       ID.s1.SC_RNA_COUNTER_CS.SC_MULTI_CORE.MULTI_GEM_WELL_PROCESSOR.COUNT_GEM_WELL_PROCESSOR._BASIC_SC_RNA_COUNTER.WRITE_POS_BAM.fork0.split\n",
      "2021-07-12 11:21:29 [runtime] (ready)           ID.s1.SC_RNA_COUNTER_CS.SC_MULTI_CORE.MULTI_GEM_WELL_PROCESSOR.COUNT_GEM_WELL_PROCESSOR._BASIC_SC_RNA_COUNTER._MATRIX_COMPUTER.WRITE_BARCODE_SUMMARY\n",
      "2021-07-12 11:21:29 [runtime] (run:local)       ID.s1.SC_RNA_COUNTER_CS.SC_MULTI_CORE.MULTI_GEM_WELL_PROCESSOR.COUNT_GEM_WELL_PROCESSOR._BASIC_SC_RNA_COUNTER._MATRIX_COMPUTER.WRITE_BARCODE_SUMMARY.fork0.chnk0.main\n",
      "2021-07-12 11:21:29 [runtime] (ready)           ID.s1.SC_RNA_COUNTER_CS.SC_MULTI_CORE.MULTI_GEM_WELL_PROCESSOR.COUNT_GEM_WELL_PROCESSOR._BASIC_SC_RNA_COUNTER._MATRIX_COMPUTER.WRITE_H5_MATRIX\n",
      "2021-07-12 11:21:29 [runtime] (run:local)       ID.s1.SC_RNA_COUNTER_CS.SC_MULTI_CORE.MULTI_GEM_WELL_PROCESSOR.COUNT_GEM_WELL_PROCESSOR._BASIC_SC_RNA_COUNTER._MATRIX_COMPUTER.WRITE_H5_MATRIX.fork0.chnk0.main\n",
      "2021-07-12 11:21:29 [runtime] (ready)           ID.s1.SC_RNA_COUNTER_CS.SC_MULTI_CORE.MULTI_GEM_WELL_PROCESSOR.COUNT_GEM_WELL_PROCESSOR._BASIC_SC_RNA_COUNTER._MATRIX_COMPUTER.WRITE_MATRIX_MARKET\n",
      "2021-07-12 11:21:29 [runtime] (run:local)       ID.s1.SC_RNA_COUNTER_CS.SC_MULTI_CORE.MULTI_GEM_WELL_PROCESSOR.COUNT_GEM_WELL_PROCESSOR._BASIC_SC_RNA_COUNTER._MATRIX_COMPUTER.WRITE_MATRIX_MARKET.fork0.chnk0.main\n",
      "2021-07-12 11:21:29 [runtime] (split_complete)  ID.s1.SC_RNA_COUNTER_CS.SC_MULTI_CORE.MULTI_GEM_WELL_PROCESSOR.COUNT_GEM_WELL_PROCESSOR._BASIC_SC_RNA_COUNTER.WRITE_POS_BAM\n",
      "2021-07-12 11:21:29 [runtime] (run:local)       ID.s1.SC_RNA_COUNTER_CS.SC_MULTI_CORE.MULTI_GEM_WELL_PROCESSOR.COUNT_GEM_WELL_PROCESSOR._BASIC_SC_RNA_COUNTER.WRITE_POS_BAM.fork0.chnk0.main\n",
      "2021-07-12 11:21:29 [runtime] (ready)           ID.s1.SC_RNA_COUNTER_CS.SC_MULTI_CORE.MULTI_GEM_WELL_PROCESSOR.COUNT_GEM_WELL_PROCESSOR._BASIC_SC_RNA_COUNTER._MATRIX_COMPUTER.COLLATE_METRICS\n",
      "2021-07-12 11:21:29 [runtime] (run:local)       ID.s1.SC_RNA_COUNTER_CS.SC_MULTI_CORE.MULTI_GEM_WELL_PROCESSOR.COUNT_GEM_WELL_PROCESSOR._BASIC_SC_RNA_COUNTER._MATRIX_COMPUTER.COLLATE_METRICS.fork0.split\n",
      "2021-07-12 11:21:29 [runtime] (chunks_complete) ID.s1.SC_RNA_COUNTER_CS.SC_MULTI_CORE.MULTI_GEM_WELL_PROCESSOR.COUNT_GEM_WELL_PROCESSOR._BASIC_SC_RNA_COUNTER._MATRIX_COMPUTER.WRITE_BARCODE_SUMMARY\n",
      "2021-07-12 11:21:29 [runtime] (chunks_complete) ID.s1.SC_RNA_COUNTER_CS.SC_MULTI_CORE.MULTI_GEM_WELL_PROCESSOR.COUNT_GEM_WELL_PROCESSOR._BASIC_SC_RNA_COUNTER._MATRIX_COMPUTER.WRITE_MATRIX_MARKET\n",
      "2021-07-12 11:21:30 [runtime] (chunks_complete) ID.s1.SC_RNA_COUNTER_CS.SC_MULTI_CORE.MULTI_GEM_WELL_PROCESSOR.COUNT_GEM_WELL_PROCESSOR._BASIC_SC_RNA_COUNTER._MATRIX_COMPUTER.WRITE_H5_MATRIX\n",
      "2021-07-12 11:21:30 [runtime] (ready)           ID.s1.SC_RNA_COUNTER_CS.SC_MULTI_CORE.MULTI_GEM_WELL_PROCESSOR.COUNT_GEM_WELL_PROCESSOR._BASIC_SC_RNA_COUNTER.FILTER_BARCODES\n",
      "2021-07-12 11:21:30 [runtime] (run:local)       ID.s1.SC_RNA_COUNTER_CS.SC_MULTI_CORE.MULTI_GEM_WELL_PROCESSOR.COUNT_GEM_WELL_PROCESSOR._BASIC_SC_RNA_COUNTER.FILTER_BARCODES.fork0.split\n",
      "2021-07-12 11:21:30 [runtime] (chunks_complete) ID.s1.SC_RNA_COUNTER_CS.SC_MULTI_CORE.MULTI_GEM_WELL_PROCESSOR.COUNT_GEM_WELL_PROCESSOR._BASIC_SC_RNA_COUNTER.WRITE_POS_BAM\n",
      "2021-07-12 11:21:30 [runtime] (run:local)       ID.s1.SC_RNA_COUNTER_CS.SC_MULTI_CORE.MULTI_GEM_WELL_PROCESSOR.COUNT_GEM_WELL_PROCESSOR._BASIC_SC_RNA_COUNTER.WRITE_POS_BAM.fork0.join\n",
      "2021-07-12 11:21:30 [runtime] (split_complete)  ID.s1.SC_RNA_COUNTER_CS.SC_MULTI_CORE.MULTI_GEM_WELL_PROCESSOR.COUNT_GEM_WELL_PROCESSOR._BASIC_SC_RNA_COUNTER._MATRIX_COMPUTER.COLLATE_METRICS\n",
      "2021-07-12 11:21:30 [runtime] (run:local)       ID.s1.SC_RNA_COUNTER_CS.SC_MULTI_CORE.MULTI_GEM_WELL_PROCESSOR.COUNT_GEM_WELL_PROCESSOR._BASIC_SC_RNA_COUNTER._MATRIX_COMPUTER.COLLATE_METRICS.fork0.chnk0.main\n",
      "2021-07-12 11:21:32 [runtime] (split_complete)  ID.s1.SC_RNA_COUNTER_CS.SC_MULTI_CORE.MULTI_GEM_WELL_PROCESSOR.COUNT_GEM_WELL_PROCESSOR._BASIC_SC_RNA_COUNTER.FILTER_BARCODES\n",
      "2021-07-12 11:21:32 [runtime] (run:local)       ID.s1.SC_RNA_COUNTER_CS.SC_MULTI_CORE.MULTI_GEM_WELL_PROCESSOR.COUNT_GEM_WELL_PROCESSOR._BASIC_SC_RNA_COUNTER.FILTER_BARCODES.fork0.join\n",
      "2021-07-12 11:21:32 [runtime] (join_complete)   ID.s1.SC_RNA_COUNTER_CS.SC_MULTI_CORE.MULTI_GEM_WELL_PROCESSOR.COUNT_GEM_WELL_PROCESSOR._BASIC_SC_RNA_COUNTER.WRITE_POS_BAM\n",
      "2021-07-12 11:21:32 [runtime] (chunks_complete) ID.s1.SC_RNA_COUNTER_CS.SC_MULTI_CORE.MULTI_GEM_WELL_PROCESSOR.COUNT_GEM_WELL_PROCESSOR._BASIC_SC_RNA_COUNTER._MATRIX_COMPUTER.COLLATE_METRICS\n",
      "2021-07-12 11:21:32 [runtime] (run:local)       ID.s1.SC_RNA_COUNTER_CS.SC_MULTI_CORE.MULTI_GEM_WELL_PROCESSOR.COUNT_GEM_WELL_PROCESSOR._BASIC_SC_RNA_COUNTER._MATRIX_COMPUTER.COLLATE_METRICS.fork0.join\n",
      "2021-07-12 11:21:34 [runtime] (join_complete)   ID.s1.SC_RNA_COUNTER_CS.SC_MULTI_CORE.MULTI_GEM_WELL_PROCESSOR.COUNT_GEM_WELL_PROCESSOR._BASIC_SC_RNA_COUNTER.FILTER_BARCODES\n",
      "2021-07-12 11:21:35 [runtime] (ready)           ID.s1.SC_RNA_COUNTER_CS.SC_MULTI_CORE.MULTI_GEM_WELL_PROCESSOR.COUNT_GEM_WELL_PROCESSOR._BASIC_SC_RNA_COUNTER._ASSIGN_TAGS.CALL_TAGS_MARGINAL\n",
      "2021-07-12 11:21:35 [runtime] (run:local)       ID.s1.SC_RNA_COUNTER_CS.SC_MULTI_CORE.MULTI_GEM_WELL_PROCESSOR.COUNT_GEM_WELL_PROCESSOR._BASIC_SC_RNA_COUNTER._ASSIGN_TAGS.CALL_TAGS_MARGINAL.fork0.split\n",
      "2021-07-12 11:21:35 [runtime] (ready)           ID.s1.SC_RNA_COUNTER_CS.SC_MULTI_CORE.MULTI_GEM_WELL_PROCESSOR.VDJ_B_GEM_WELL_PROCESSOR.SC_VDJ_CONTIG_ASSEMBLER.HANDLE_GEX_CELLS\n",
      "2021-07-12 11:21:35 [runtime] (join_complete)   ID.s1.SC_RNA_COUNTER_CS.SC_MULTI_CORE.MULTI_GEM_WELL_PROCESSOR.COUNT_GEM_WELL_PROCESSOR._BASIC_SC_RNA_COUNTER._MATRIX_COMPUTER.COLLATE_METRICS\n",
      "2021-07-12 11:21:35 [runtime] (ready)           ID.s1.SC_RNA_COUNTER_CS.SC_MULTI_CORE.MULTI_GEM_WELL_PROCESSOR.VDJ_T_GEM_WELL_PROCESSOR.SC_VDJ_CONTIG_ASSEMBLER.HANDLE_GEX_CELLS\n",
      "2021-07-12 11:21:35 [runtime] (ready)           ID.s1.SC_RNA_COUNTER_CS.SC_MULTI_CORE.VDJ_B_CLONOTYPE_ASSIGNER.CLONOTYPE_ASSIGNER.RUN_ENCLONE\n",
      "2021-07-12 11:21:35 [runtime] (ready)           ID.s1.SC_RNA_COUNTER_CS.SC_MULTI_CORE.VDJ_T_CLONOTYPE_ASSIGNER.CLONOTYPE_ASSIGNER.RUN_ENCLONE\n",
      "2021-07-12 11:21:35 [runtime] (ready)           ID.s1.SC_RNA_COUNTER_CS.SC_MULTI_CORE.MULTI_GEM_WELL_PROCESSOR.COUNT_GEM_WELL_PROCESSOR._BASIC_SC_RNA_COUNTER._MATRIX_COMPUTER.MERGE_METRICS\n",
      "2021-07-12 11:21:35 [runtime] (run:local)       ID.s1.SC_RNA_COUNTER_CS.SC_MULTI_CORE.MULTI_GEM_WELL_PROCESSOR.COUNT_GEM_WELL_PROCESSOR._BASIC_SC_RNA_COUNTER._MATRIX_COMPUTER.MERGE_METRICS.fork0.chnk0.main\n",
      "2021-07-12 11:21:35 [runtime] (ready)           ID.s1.SC_RNA_COUNTER_CS.SC_MULTI_CORE.MULTI_REPORTER.VDJ_B_REPORTER.VLOUPE_PREPROCESS\n",
      "2021-07-12 11:21:35 [runtime] (ready)           ID.s1.SC_RNA_COUNTER_CS.SC_MULTI_CORE.MULTI_REPORTER.VDJ_T_REPORTER.VLOUPE_PREPROCESS\n",
      "2021-07-12 11:21:35 [runtime] (ready)           ID.s1.SC_RNA_COUNTER_CS.SC_MULTI_CORE.COPY_VDJ_REFERENCE\n",
      "2021-07-12 11:21:35 [runtime] (ready)           ID.s1.SC_RNA_COUNTER_CS.SC_MULTI_CORE.VDJ_B_CLONOTYPE_ASSIGNER.CLONOTYPE_ASSIGNER.WRITE_CLONOTYPE_OUTS\n",
      "2021-07-12 11:21:35 [runtime] (ready)           ID.s1.SC_RNA_COUNTER_CS.SC_MULTI_CORE.VDJ_B_CLONOTYPE_ASSIGNER.CLONOTYPE_ASSIGNER.WRITE_CONSENSUS_TXT\n",
      "2021-07-12 11:21:35 [runtime] (ready)           ID.s1.SC_RNA_COUNTER_CS.SC_MULTI_CORE.VDJ_T_CLONOTYPE_ASSIGNER.CLONOTYPE_ASSIGNER.FILL_CLONOTYPE_INFO\n",
      "2021-07-12 11:21:35 [runtime] (chunks_complete) ID.s1.SC_RNA_COUNTER_CS.SC_MULTI_CORE.MULTI_GEM_WELL_PROCESSOR.COUNT_GEM_WELL_PROCESSOR._BASIC_SC_RNA_COUNTER._MATRIX_COMPUTER.MERGE_METRICS\n",
      "2021-07-12 11:21:35 [runtime] (ready)           ID.s1.SC_RNA_COUNTER_CS.SC_MULTI_CORE.VDJ_T_CLONOTYPE_ASSIGNER.CLONOTYPE_ASSIGNER.WRITE_CONSENSUS_TXT\n",
      "2021-07-12 11:21:35 [runtime] (ready)           ID.s1.SC_RNA_COUNTER_CS.SC_MULTI_CORE.VDJ_B_CLONOTYPE_ASSIGNER.CLONOTYPE_ASSIGNER.FILL_CLONOTYPE_INFO\n",
      "2021-07-12 11:21:35 [runtime] (ready)           ID.s1.SC_RNA_COUNTER_CS.SC_MULTI_CORE.VDJ_T_CLONOTYPE_ASSIGNER.CLONOTYPE_ASSIGNER.WRITE_CLONOTYPE_OUTS\n",
      "2021-07-12 11:21:35 [runtime] (ready)           ID.s1.SC_RNA_COUNTER_CS.SC_MULTI_CORE.VDJ_T_CLONOTYPE_ASSIGNER.CLONOTYPE_ASSIGNER.WRITE_CONCAT_REF_OUTS\n",
      "2021-07-12 11:21:35 [runtime] (ready)           ID.s1.SC_RNA_COUNTER_CS.SC_MULTI_CORE.VDJ_T_CLONOTYPE_ASSIGNER.CLONOTYPE_ASSIGNER.WRITE_ANN_CSV\n",
      "2021-07-12 11:21:35 [runtime] (ready)           ID.s1.SC_RNA_COUNTER_CS.SC_MULTI_CORE.VDJ_T_CLONOTYPE_ASSIGNER.HANDLE_NO_VDJ_REF\n",
      "2021-07-12 11:21:35 [runtime] (ready)           ID.s1.SC_RNA_COUNTER_CS.SC_MULTI_CORE.VDJ_T_CLONOTYPE_ASSIGNER.CLONOTYPE_ASSIGNER.WRITE_CONSENSUS_BAM\n",
      "2021-07-12 11:21:35 [runtime] (ready)           ID.s1.SC_RNA_COUNTER_CS.SC_MULTI_CORE.MULTI_REPORTER.VDJ_T_REPORTER.WRITE_CONTIG_OUTS\n",
      "2021-07-12 11:21:35 [runtime] (ready)           ID.s1.SC_RNA_COUNTER_CS.SC_MULTI_CORE.VDJ_T_CLONOTYPE_ASSIGNER.CLONOTYPE_ASSIGNER.CREATE_AIRR_TSV\n",
      "2021-07-12 11:21:35 [runtime] (ready)           ID.s1.SC_RNA_COUNTER_CS.SC_MULTI_CORE.VDJ_B_CLONOTYPE_ASSIGNER.CLONOTYPE_ASSIGNER.WRITE_ANN_CSV\n",
      "2021-07-12 11:21:35 [runtime] (ready)           ID.s1.SC_RNA_COUNTER_CS.SC_MULTI_CORE.VDJ_B_CLONOTYPE_ASSIGNER.HANDLE_NO_VDJ_REF\n",
      "2021-07-12 11:21:35 [runtime] (ready)           ID.s1.SC_RNA_COUNTER_CS.SC_MULTI_CORE.MULTI_GEM_WELL_PROCESSOR.COUNT_GEM_WELL_PROCESSOR._BASIC_SC_RNA_COUNTER._CELLS_REPORTER.WRITE_MOLECULE_INFO\n",
      "2021-07-12 11:21:35 [runtime] (run:local)       ID.s1.SC_RNA_COUNTER_CS.SC_MULTI_CORE.MULTI_GEM_WELL_PROCESSOR.COUNT_GEM_WELL_PROCESSOR._BASIC_SC_RNA_COUNTER._CELLS_REPORTER.WRITE_MOLECULE_INFO.fork0.chnk0.main\n",
      "2021-07-12 11:21:35 [runtime] (ready)           ID.s1.SC_RNA_COUNTER_CS.SC_MULTI_CORE.VDJ_B_CLONOTYPE_ASSIGNER.CLONOTYPE_ASSIGNER.WRITE_CONCAT_REF_OUTS\n",
      "2021-07-12 11:21:35 [runtime] (ready)           ID.s1.SC_RNA_COUNTER_CS.SC_MULTI_CORE.VDJ_B_CLONOTYPE_ASSIGNER.CLONOTYPE_ASSIGNER.WRITE_CONSENSUS_BAM\n",
      "2021-07-12 11:21:35 [runtime] (ready)           ID.s1.SC_RNA_COUNTER_CS.SC_MULTI_CORE.MULTI_REPORTER.VDJ_T_REPORTER.REPORT_CONTIGS\n",
      "2021-07-12 11:21:35 [runtime] (ready)           ID.s1.SC_RNA_COUNTER_CS.SC_MULTI_CORE.MULTI_REPORTER.VDJ_B_REPORTER.WRITE_CONTIG_OUTS\n",
      "2021-07-12 11:21:35 [runtime] (ready)           ID.s1.SC_RNA_COUNTER_CS.SC_MULTI_CORE.MULTI_REPORTER.VDJ_T_REPORTER.SUMMARIZE_VDJ_REPORTS\n",
      "2021-07-12 11:21:35 [runtime] (ready)           ID.s1.SC_RNA_COUNTER_CS.SC_MULTI_CORE.VDJ_B_CLONOTYPE_ASSIGNER.CLONOTYPE_ASSIGNER.CREATE_AIRR_TSV\n",
      "2021-07-12 11:21:35 [runtime] (ready)           ID.s1.SC_RNA_COUNTER_CS.SC_MULTI_CORE.MULTI_REPORTER.VDJ_B_REPORTER.REPORT_CONTIGS\n",
      "2021-07-12 11:21:35 [runtime] (ready)           ID.s1.SC_RNA_COUNTER_CS.SC_MULTI_CORE.MULTI_REPORTER.VDJ_T_REPORTER.WRITE_CONTIG_PROTO\n",
      "2021-07-12 11:21:35 [runtime] (ready)           ID.s1.SC_RNA_COUNTER_CS.SC_MULTI_CORE.MULTI_REPORTER.VDJ_B_REPORTER.SUMMARIZE_VDJ_REPORTS\n",
      "2021-07-12 11:21:35 [runtime] (ready)           ID.s1.SC_RNA_COUNTER_CS.SC_MULTI_CORE.MULTI_REPORTER.VDJ_B_REPORTER.WRITE_CONTIG_PROTO\n",
      "2021-07-12 11:21:36 [runtime] (chunks_complete) ID.s1.SC_RNA_COUNTER_CS.SC_MULTI_CORE.MULTI_GEM_WELL_PROCESSOR.COUNT_GEM_WELL_PROCESSOR._BASIC_SC_RNA_COUNTER._CELLS_REPORTER.WRITE_MOLECULE_INFO\n",
      "2021-07-12 11:21:36 [runtime] (ready)           ID.s1.SC_RNA_COUNTER_CS.SC_MULTI_CORE.MULTI_GEM_WELL_PROCESSOR.COUNT_GEM_WELL_PROCESSOR._BASIC_SC_RNA_COUNTER._CELLS_REPORTER.SUBSAMPLE_READS\n",
      "2021-07-12 11:21:36 [runtime] (run:local)       ID.s1.SC_RNA_COUNTER_CS.SC_MULTI_CORE.MULTI_GEM_WELL_PROCESSOR.COUNT_GEM_WELL_PROCESSOR._BASIC_SC_RNA_COUNTER._CELLS_REPORTER.SUBSAMPLE_READS.fork0.split\n",
      "2021-07-12 11:21:38 [runtime] (split_complete)  ID.s1.SC_RNA_COUNTER_CS.SC_MULTI_CORE.MULTI_GEM_WELL_PROCESSOR.COUNT_GEM_WELL_PROCESSOR._BASIC_SC_RNA_COUNTER._ASSIGN_TAGS.CALL_TAGS_MARGINAL\n",
      "2021-07-12 11:21:38 [runtime] (run:local)       ID.s1.SC_RNA_COUNTER_CS.SC_MULTI_CORE.MULTI_GEM_WELL_PROCESSOR.COUNT_GEM_WELL_PROCESSOR._BASIC_SC_RNA_COUNTER._ASSIGN_TAGS.CALL_TAGS_MARGINAL.fork0.join\n",
      "2021-07-12 11:21:39 [runtime] (split_complete)  ID.s1.SC_RNA_COUNTER_CS.SC_MULTI_CORE.MULTI_GEM_WELL_PROCESSOR.COUNT_GEM_WELL_PROCESSOR._BASIC_SC_RNA_COUNTER._CELLS_REPORTER.SUBSAMPLE_READS\n",
      "2021-07-12 11:21:39 [runtime] (run:local)       ID.s1.SC_RNA_COUNTER_CS.SC_MULTI_CORE.MULTI_GEM_WELL_PROCESSOR.COUNT_GEM_WELL_PROCESSOR._BASIC_SC_RNA_COUNTER._CELLS_REPORTER.SUBSAMPLE_READS.fork0.chnk0.main\n",
      "2021-07-12 11:21:41 [runtime] (chunks_complete) ID.s1.SC_RNA_COUNTER_CS.SC_MULTI_CORE.MULTI_GEM_WELL_PROCESSOR.COUNT_GEM_WELL_PROCESSOR._BASIC_SC_RNA_COUNTER._CELLS_REPORTER.SUBSAMPLE_READS\n",
      "2021-07-12 11:21:41 [runtime] (run:local)       ID.s1.SC_RNA_COUNTER_CS.SC_MULTI_CORE.MULTI_GEM_WELL_PROCESSOR.COUNT_GEM_WELL_PROCESSOR._BASIC_SC_RNA_COUNTER._CELLS_REPORTER.SUBSAMPLE_READS.fork0.join\n",
      "2021-07-12 11:21:41 [runtime] (join_complete)   ID.s1.SC_RNA_COUNTER_CS.SC_MULTI_CORE.MULTI_GEM_WELL_PROCESSOR.COUNT_GEM_WELL_PROCESSOR._BASIC_SC_RNA_COUNTER._ASSIGN_TAGS.CALL_TAGS_MARGINAL\n",
      "2021-07-12 11:21:41 [runtime] (ready)           ID.s1.SC_RNA_COUNTER_CS.SC_MULTI_CORE.MULTI_GEM_WELL_PROCESSOR.COUNT_GEM_WELL_PROCESSOR._BASIC_SC_RNA_COUNTER._ASSIGN_TAGS.CALL_TAGS_JIBES\n",
      "2021-07-12 11:21:41 [runtime] (run:local)       ID.s1.SC_RNA_COUNTER_CS.SC_MULTI_CORE.MULTI_GEM_WELL_PROCESSOR.COUNT_GEM_WELL_PROCESSOR._BASIC_SC_RNA_COUNTER._ASSIGN_TAGS.CALL_TAGS_JIBES.fork0.split\n",
      "2021-07-12 11:21:44 [runtime] (join_complete)   ID.s1.SC_RNA_COUNTER_CS.SC_MULTI_CORE.MULTI_GEM_WELL_PROCESSOR.COUNT_GEM_WELL_PROCESSOR._BASIC_SC_RNA_COUNTER._CELLS_REPORTER.SUBSAMPLE_READS\n",
      "2021-07-12 11:21:44 [runtime] (ready)           ID.s1.SC_RNA_COUNTER_CS.SC_MULTI_CORE.MULTI_GEM_WELL_PROCESSOR.COUNT_GEM_WELL_PROCESSOR._BASIC_SC_RNA_COUNTER._CELLS_REPORTER.SUMMARIZE_BASIC_REPORTS\n",
      "2021-07-12 11:21:44 [runtime] (run:local)       ID.s1.SC_RNA_COUNTER_CS.SC_MULTI_CORE.MULTI_GEM_WELL_PROCESSOR.COUNT_GEM_WELL_PROCESSOR._BASIC_SC_RNA_COUNTER._CELLS_REPORTER.SUMMARIZE_BASIC_REPORTS.fork0.split\n",
      "2021-07-12 11:21:46 [runtime] (split_complete)  ID.s1.SC_RNA_COUNTER_CS.SC_MULTI_CORE.MULTI_GEM_WELL_PROCESSOR.COUNT_GEM_WELL_PROCESSOR._BASIC_SC_RNA_COUNTER._ASSIGN_TAGS.CALL_TAGS_JIBES\n",
      "2021-07-12 11:21:46 [runtime] (run:local)       ID.s1.SC_RNA_COUNTER_CS.SC_MULTI_CORE.MULTI_GEM_WELL_PROCESSOR.COUNT_GEM_WELL_PROCESSOR._BASIC_SC_RNA_COUNTER._ASSIGN_TAGS.CALL_TAGS_JIBES.fork0.join\n",
      "2021-07-12 11:21:46 [runtime] (split_complete)  ID.s1.SC_RNA_COUNTER_CS.SC_MULTI_CORE.MULTI_GEM_WELL_PROCESSOR.COUNT_GEM_WELL_PROCESSOR._BASIC_SC_RNA_COUNTER._CELLS_REPORTER.SUMMARIZE_BASIC_REPORTS\n",
      "2021-07-12 11:21:46 [runtime] (run:local)       ID.s1.SC_RNA_COUNTER_CS.SC_MULTI_CORE.MULTI_GEM_WELL_PROCESSOR.COUNT_GEM_WELL_PROCESSOR._BASIC_SC_RNA_COUNTER._CELLS_REPORTER.SUMMARIZE_BASIC_REPORTS.fork0.join\n",
      "2021-07-12 11:21:49 [runtime] (join_complete)   ID.s1.SC_RNA_COUNTER_CS.SC_MULTI_CORE.MULTI_GEM_WELL_PROCESSOR.COUNT_GEM_WELL_PROCESSOR._BASIC_SC_RNA_COUNTER._ASSIGN_TAGS.CALL_TAGS_JIBES\n",
      "2021-07-12 11:21:49 [runtime] (ready)           ID.s1.SC_RNA_COUNTER_CS.SC_MULTI_CORE.MULTI_GEM_WELL_PROCESSOR.COUNT_GEM_WELL_PROCESSOR._BASIC_SC_RNA_COUNTER._ASSIGN_TAGS.SUMMARIZE_MULTIPLEXING_ANALYSIS\n",
      "2021-07-12 11:21:49 [runtime] (run:local)       ID.s1.SC_RNA_COUNTER_CS.SC_MULTI_CORE.MULTI_GEM_WELL_PROCESSOR.COUNT_GEM_WELL_PROCESSOR._BASIC_SC_RNA_COUNTER._ASSIGN_TAGS.SUMMARIZE_MULTIPLEXING_ANALYSIS.fork0.chnk0.main\n",
      "2021-07-12 11:21:49 [runtime] (ready)           ID.s1.SC_RNA_COUNTER_CS.SC_MULTI_CORE.MULTI_GEM_WELL_PROCESSOR.COUNT_GEM_WELL_PROCESSOR._BASIC_SC_RNA_COUNTER._ASSIGN_TAGS.DETERMINE_SAMPLE_ASSIGNMENTS\n",
      "2021-07-12 11:21:49 [runtime] (run:local)       ID.s1.SC_RNA_COUNTER_CS.SC_MULTI_CORE.MULTI_GEM_WELL_PROCESSOR.COUNT_GEM_WELL_PROCESSOR._BASIC_SC_RNA_COUNTER._ASSIGN_TAGS.DETERMINE_SAMPLE_ASSIGNMENTS.fork0.chnk0.main\n",
      "2021-07-12 11:21:50 [runtime] (chunks_complete) ID.s1.SC_RNA_COUNTER_CS.SC_MULTI_CORE.MULTI_GEM_WELL_PROCESSOR.COUNT_GEM_WELL_PROCESSOR._BASIC_SC_RNA_COUNTER._ASSIGN_TAGS.SUMMARIZE_MULTIPLEXING_ANALYSIS\n",
      "2021-07-12 11:21:51 [runtime] (chunks_complete) ID.s1.SC_RNA_COUNTER_CS.SC_MULTI_CORE.MULTI_GEM_WELL_PROCESSOR.COUNT_GEM_WELL_PROCESSOR._BASIC_SC_RNA_COUNTER._ASSIGN_TAGS.DETERMINE_SAMPLE_ASSIGNMENTS\n",
      "2021-07-12 11:21:51 [runtime] (ready)           ID.s1.SC_RNA_COUNTER_CS.SC_MULTI_CORE.MULTI_GEM_WELL_PROCESSOR.COUNT_GEM_WELL_PROCESSOR._BASIC_SC_RNA_COUNTER.MULTI_WRITE_PER_SAMPLE_BAM\n",
      "2021-07-12 11:21:51 [runtime] (ready)           ID.s1.SC_RNA_COUNTER_CS.SC_MULTI_CORE.MULTI_GEM_WELL_PROCESSOR.COUNT_GEM_WELL_PROCESSOR._BASIC_SC_RNA_COUNTER.MULTI_COLLATE_PER_SAMPLE_METRICS\n",
      "2021-07-12 11:21:51 [runtime] (ready)           ID.s1.SC_RNA_COUNTER_CS.SC_MULTI_CORE.MULTI_GEM_WELL_PROCESSOR.COUNT_GEM_WELL_PROCESSOR._BASIC_SC_RNA_COUNTER._ASSIGN_TAGS.COMPUTE_EXTRA_MULTIPLEXING_METRICS\n",
      "2021-07-12 11:21:51 [runtime] (run:local)       ID.s1.SC_RNA_COUNTER_CS.SC_MULTI_CORE.MULTI_GEM_WELL_PROCESSOR.COUNT_GEM_WELL_PROCESSOR._BASIC_SC_RNA_COUNTER._ASSIGN_TAGS.COMPUTE_EXTRA_MULTIPLEXING_METRICS.fork0.chnk0.main\n",
      "2021-07-12 11:21:51 [runtime] (ready)           ID.s1.SC_RNA_COUNTER_CS.SC_MULTI_CORE.MULTI_GEM_WELL_PROCESSOR.COUNT_GEM_WELL_PROCESSOR._BASIC_SC_RNA_COUNTER.MULTI_WRITE_PER_SAMPLE_MATRICES\n",
      "2021-07-12 11:21:51 [runtime] (ready)           ID.s1.SC_RNA_COUNTER_CS.SC_MULTI_CORE.MULTI_GEM_WELL_PROCESSOR.COUNT_GEM_WELL_PROCESSOR._BASIC_SC_RNA_COUNTER.MULTI_WRITE_PER_SAMPLE_MOLECULE_INFO\n",
      "2021-07-12 11:21:51 [runtime] (ready)           ID.s1.SC_RNA_COUNTER_CS.SC_MULTI_CORE.STRUCTIFY_PER_SAMPLE_OUTS\n",
      "2021-07-12 11:21:51 [runtime] (run:local)       ID.s1.SC_RNA_COUNTER_CS.SC_MULTI_CORE.STRUCTIFY_PER_SAMPLE_OUTS.fork0.chnk0.main\n",
      "2021-07-12 11:21:53 [runtime] (chunks_complete) ID.s1.SC_RNA_COUNTER_CS.SC_MULTI_CORE.MULTI_GEM_WELL_PROCESSOR.COUNT_GEM_WELL_PROCESSOR._BASIC_SC_RNA_COUNTER._ASSIGN_TAGS.COMPUTE_EXTRA_MULTIPLEXING_METRICS\n",
      "2021-07-12 11:21:53 [runtime] (ready)           ID.s1.SC_RNA_COUNTER_CS.SC_MULTI_CORE.MULTI_GEM_WELL_PROCESSOR.COUNT_GEM_WELL_PROCESSOR._BASIC_SC_RNA_COUNTER._ASSIGN_TAGS.MERGE_METRICS\n",
      "2021-07-12 11:21:53 [runtime] (run:local)       ID.s1.SC_RNA_COUNTER_CS.SC_MULTI_CORE.MULTI_GEM_WELL_PROCESSOR.COUNT_GEM_WELL_PROCESSOR._BASIC_SC_RNA_COUNTER._ASSIGN_TAGS.MERGE_METRICS.fork0.chnk0.main\n",
      "2021-07-12 11:21:53 [runtime] (chunks_complete) ID.s1.SC_RNA_COUNTER_CS.SC_MULTI_CORE.STRUCTIFY_PER_SAMPLE_OUTS\n",
      "2021-07-12 11:21:53 [runtime] (ready)           ID.s1.SC_RNA_COUNTER_CS.SC_MULTI_CORE.DISABLE_FEATURE_STAGES\n",
      "2021-07-12 11:21:53 [runtime] (run:local)       ID.s1.SC_RNA_COUNTER_CS.SC_MULTI_CORE.DISABLE_FEATURE_STAGES.fork0.chnk0.main\n",
      "2021-07-12 11:21:53 [runtime] (chunks_complete) ID.s1.SC_RNA_COUNTER_CS.SC_MULTI_CORE.MULTI_GEM_WELL_PROCESSOR.COUNT_GEM_WELL_PROCESSOR._BASIC_SC_RNA_COUNTER._ASSIGN_TAGS.MERGE_METRICS\n",
      "2021-07-12 11:21:53 [runtime] (join_complete)   ID.s1.SC_RNA_COUNTER_CS.SC_MULTI_CORE.MULTI_GEM_WELL_PROCESSOR.COUNT_GEM_WELL_PROCESSOR._BASIC_SC_RNA_COUNTER._CELLS_REPORTER.SUMMARIZE_BASIC_REPORTS\n",
      "2021-07-12 11:21:54 [runtime] (ready)           ID.s1.SC_RNA_COUNTER_CS.SC_MULTI_CORE.MULTI_GEM_WELL_PROCESSOR.COUNT_GEM_WELL_PROCESSOR._BASIC_SC_RNA_COUNTER.MERGE_METRICS\n",
      "2021-07-12 11:21:54 [runtime] (run:local)       ID.s1.SC_RNA_COUNTER_CS.SC_MULTI_CORE.MULTI_GEM_WELL_PROCESSOR.COUNT_GEM_WELL_PROCESSOR._BASIC_SC_RNA_COUNTER.MERGE_METRICS.fork0.chnk0.main\n",
      "2021-07-12 11:21:54 [runtime] (chunks_complete) ID.s1.SC_RNA_COUNTER_CS.SC_MULTI_CORE.DISABLE_FEATURE_STAGES\n",
      "2021-07-12 11:21:54 [runtime] (ready)           ID.s1.SC_RNA_COUNTER_CS.SC_MULTI_CORE.COUNT_ANALYZER.SC_RNA_ANALYZER.CHOOSE_DIMENSION_REDUCTION\n",
      "2021-07-12 11:21:54 [runtime] (run:local)       ID.s1.SC_RNA_COUNTER_CS.SC_MULTI_CORE.COUNT_ANALYZER.SC_RNA_ANALYZER.CHOOSE_DIMENSION_REDUCTION.fork0.chnk0.main\n",
      "2021-07-12 11:21:54 [runtime] (ready)           ID.s1.SC_RNA_COUNTER_CS.SC_MULTI_CORE.COUNT_ANALYZER.SC_RNA_ANALYZER.ANALYZER_PREFLIGHT\n",
      "2021-07-12 11:21:54 [runtime] (run:local)       ID.s1.SC_RNA_COUNTER_CS.SC_MULTI_CORE.COUNT_ANALYZER.SC_RNA_ANALYZER.ANALYZER_PREFLIGHT.fork0.chnk0.main\n",
      "2021-07-12 11:21:54 [runtime] (chunks_complete) ID.s1.SC_RNA_COUNTER_CS.SC_MULTI_CORE.MULTI_GEM_WELL_PROCESSOR.COUNT_GEM_WELL_PROCESSOR._BASIC_SC_RNA_COUNTER.MERGE_METRICS\n",
      "2021-07-12 11:21:54 [runtime] (ready)           ID.s1.SC_RNA_COUNTER_CS.SC_MULTI_CORE.COUNT_ANALYZER._TARGETED_ANALYZER.SUBSAMPLE_OFF_TARGET_READS\n",
      "2021-07-12 11:21:54 [runtime] (ready)           ID.s1.SC_RNA_COUNTER_CS.SC_MULTI_CORE.COUNT_ANALYZER._TARGETED_ANALYZER.SUBSAMPLE_ON_TARGET_READS\n",
      "2021-07-12 11:21:54 [runtime] (ready)           ID.s1.SC_RNA_COUNTER_CS.SC_MULTI_CORE.COUNT_ANALYZER._TARGETED_ANALYZER.CALCULATE_TARGETED_METRICS\n",
      "2021-07-12 11:21:54 [runtime] (ready)           ID.s1.SC_RNA_COUNTER_CS.SC_MULTI_CORE.COUNT_ANALYZER._TARGETED_ANALYZER.SUMMARIZE_TARGETED_ANALYSIS\n",
      "2021-07-12 11:21:54 [runtime] (chunks_complete) ID.s1.SC_RNA_COUNTER_CS.SC_MULTI_CORE.COUNT_ANALYZER.SC_RNA_ANALYZER.CHOOSE_DIMENSION_REDUCTION\n",
      "2021-07-12 11:21:54 [runtime] (ready)           ID.s1.SC_RNA_COUNTER_CS.SC_MULTI_CORE.COUNT_ANALYZER._CRISPR_ANALYZER.CALL_PROTOSPACERS\n",
      "2021-07-12 11:21:54 [runtime] (ready)           ID.s1.SC_RNA_COUNTER_CS.SC_MULTI_CORE.COUNT_ANALYZER._CRISPR_ANALYZER._PERTURBATIONS_BY_TARGET\n",
      "2021-07-12 11:21:54 [runtime] (ready)           ID.s1.SC_RNA_COUNTER_CS.SC_MULTI_CORE.COUNT_ANALYZER._CRISPR_ANALYZER._PERTURBATIONS_BY_FEATURE\n",
      "2021-07-12 11:21:54 [runtime] (ready)           ID.s1.SC_RNA_COUNTER_CS.SC_MULTI_CORE.COUNT_ANALYZER._CRISPR_ANALYZER.SUMMARIZE_CRISPR_ANALYSIS\n",
      "2021-07-12 11:21:56 [runtime] (chunks_complete) ID.s1.SC_RNA_COUNTER_CS.SC_MULTI_CORE.COUNT_ANALYZER.SC_RNA_ANALYZER.ANALYZER_PREFLIGHT\n",
      "2021-07-12 11:21:56 [runtime] (ready)           ID.s1.SC_RNA_COUNTER_CS.SC_MULTI_CORE.COUNT_ANALYZER.SC_RNA_ANALYZER.PREPROCESS_MATRIX\n",
      "2021-07-12 11:21:56 [runtime] (run:local)       ID.s1.SC_RNA_COUNTER_CS.SC_MULTI_CORE.COUNT_ANALYZER.SC_RNA_ANALYZER.PREPROCESS_MATRIX.fork0.split\n",
      "2021-07-12 11:21:57 [runtime] (split_complete)  ID.s1.SC_RNA_COUNTER_CS.SC_MULTI_CORE.COUNT_ANALYZER.SC_RNA_ANALYZER.PREPROCESS_MATRIX\n",
      "2021-07-12 11:21:57 [runtime] (run:local)       ID.s1.SC_RNA_COUNTER_CS.SC_MULTI_CORE.COUNT_ANALYZER.SC_RNA_ANALYZER.PREPROCESS_MATRIX.fork0.join\n",
      "2021-07-12 11:22:01 [runtime] (join_complete)   ID.s1.SC_RNA_COUNTER_CS.SC_MULTI_CORE.COUNT_ANALYZER.SC_RNA_ANALYZER.PREPROCESS_MATRIX\n",
      "2021-07-12 11:22:01 [runtime] (ready)           ID.s1.SC_RNA_COUNTER_CS.SC_MULTI_CORE.COUNT_ANALYZER.SC_RNA_ANALYZER.RUN_PCA\n",
      "2021-07-12 11:22:01 [runtime] (run:local)       ID.s1.SC_RNA_COUNTER_CS.SC_MULTI_CORE.COUNT_ANALYZER.SC_RNA_ANALYZER.RUN_PCA.fork0.split\n",
      "2021-07-12 11:22:01 [runtime] (ready)           ID.s1.SC_RNA_COUNTER_CS.SC_MULTI_CORE.COUNT_ANALYZER.SC_RNA_ANALYZER.RUN_MULTIGENOME_ANALYSIS\n",
      "2021-07-12 11:22:01 [runtime] (run:local)       ID.s1.SC_RNA_COUNTER_CS.SC_MULTI_CORE.COUNT_ANALYZER.SC_RNA_ANALYZER.RUN_MULTIGENOME_ANALYSIS.fork0.split\n",
      "2021-07-12 11:22:01 [runtime] (ready)           ID.s1.SC_RNA_COUNTER_CS.SC_MULTI_CORE.COUNT_ANALYZER.SC_RNA_ANALYZER.RUN_FBPCA\n",
      "2021-07-12 11:22:01 [runtime] (ready)           ID.s1.SC_RNA_COUNTER_CS.SC_MULTI_CORE.COUNT_ANALYZER.SC_RNA_ANALYZER.CORRECT_CHEMISTRY_BATCH\n",
      "2021-07-12 11:22:03 [runtime] (split_complete)  ID.s1.SC_RNA_COUNTER_CS.SC_MULTI_CORE.COUNT_ANALYZER.SC_RNA_ANALYZER.RUN_MULTIGENOME_ANALYSIS\n",
      "2021-07-12 11:22:03 [runtime] (run:local)       ID.s1.SC_RNA_COUNTER_CS.SC_MULTI_CORE.COUNT_ANALYZER.SC_RNA_ANALYZER.RUN_MULTIGENOME_ANALYSIS.fork0.join\n",
      "2021-07-12 11:22:03 [runtime] (split_complete)  ID.s1.SC_RNA_COUNTER_CS.SC_MULTI_CORE.COUNT_ANALYZER.SC_RNA_ANALYZER.RUN_PCA\n",
      "2021-07-12 11:22:03 [runtime] (run:local)       ID.s1.SC_RNA_COUNTER_CS.SC_MULTI_CORE.COUNT_ANALYZER.SC_RNA_ANALYZER.RUN_PCA.fork0.chnk0.main\n",
      "2021-07-12 11:22:05 [runtime] (join_complete)   ID.s1.SC_RNA_COUNTER_CS.SC_MULTI_CORE.COUNT_ANALYZER.SC_RNA_ANALYZER.RUN_MULTIGENOME_ANALYSIS\n",
      "2021-07-12 11:22:05 [runtime] (chunks_complete) ID.s1.SC_RNA_COUNTER_CS.SC_MULTI_CORE.COUNT_ANALYZER.SC_RNA_ANALYZER.RUN_PCA\n",
      "2021-07-12 11:22:05 [runtime] (run:local)       ID.s1.SC_RNA_COUNTER_CS.SC_MULTI_CORE.COUNT_ANALYZER.SC_RNA_ANALYZER.RUN_PCA.fork0.join\n",
      "2021-07-12 11:22:06 [runtime] (join_complete)   ID.s1.SC_RNA_COUNTER_CS.SC_MULTI_CORE.COUNT_ANALYZER.SC_RNA_ANALYZER.RUN_PCA\n",
      "2021-07-12 11:22:06 [runtime] (ready)           ID.s1.SC_RNA_COUNTER_CS.SC_MULTI_CORE.COUNT_ANALYZER.SC_RNA_ANALYZER.CHOOSE_DIMENSION_REDUCTION_OUTPUT\n",
      "2021-07-12 11:22:06 [runtime] (run:local)       ID.s1.SC_RNA_COUNTER_CS.SC_MULTI_CORE.COUNT_ANALYZER.SC_RNA_ANALYZER.CHOOSE_DIMENSION_REDUCTION_OUTPUT.fork0.chnk0.main\n",
      "2021-07-12 11:22:07 [runtime] (chunks_complete) ID.s1.SC_RNA_COUNTER_CS.SC_MULTI_CORE.COUNT_ANALYZER.SC_RNA_ANALYZER.CHOOSE_DIMENSION_REDUCTION_OUTPUT\n",
      "2021-07-12 11:22:07 [runtime] (ready)           ID.s1.SC_RNA_COUNTER_CS.SC_MULTI_CORE.COUNT_ANALYZER.SC_RNA_ANALYZER.RUN_TSNE\n",
      "2021-07-12 11:22:07 [runtime] (run:local)       ID.s1.SC_RNA_COUNTER_CS.SC_MULTI_CORE.COUNT_ANALYZER.SC_RNA_ANALYZER.RUN_TSNE.fork0.split\n",
      "2021-07-12 11:22:07 [runtime] (ready)           ID.s1.SC_RNA_COUNTER_CS.SC_MULTI_CORE.COUNT_ANALYZER.SC_RNA_ANALYZER.RUN_GRAPH_CLUSTERING\n",
      "2021-07-12 11:22:07 [runtime] (run:local)       ID.s1.SC_RNA_COUNTER_CS.SC_MULTI_CORE.COUNT_ANALYZER.SC_RNA_ANALYZER.RUN_GRAPH_CLUSTERING.fork0.split\n",
      "2021-07-12 11:22:07 [runtime] (ready)           ID.s1.SC_RNA_COUNTER_CS.SC_MULTI_CORE.COUNT_ANALYZER.SC_RNA_ANALYZER.RUN_UMAP\n",
      "2021-07-12 11:22:07 [runtime] (run:local)       ID.s1.SC_RNA_COUNTER_CS.SC_MULTI_CORE.COUNT_ANALYZER.SC_RNA_ANALYZER.RUN_UMAP.fork0.split\n",
      "2021-07-12 11:22:07 [runtime] (ready)           ID.s1.SC_RNA_COUNTER_CS.SC_MULTI_CORE.COUNT_ANALYZER.SC_RNA_ANALYZER.RUN_KMEANS\n",
      "2021-07-12 11:22:07 [runtime] (run:local)       ID.s1.SC_RNA_COUNTER_CS.SC_MULTI_CORE.COUNT_ANALYZER.SC_RNA_ANALYZER.RUN_KMEANS.fork0.split\n",
      "2021-07-12 11:22:09 [runtime] (split_complete)  ID.s1.SC_RNA_COUNTER_CS.SC_MULTI_CORE.COUNT_ANALYZER.SC_RNA_ANALYZER.RUN_TSNE\n",
      "2021-07-12 11:22:09 [runtime] (run:local)       ID.s1.SC_RNA_COUNTER_CS.SC_MULTI_CORE.COUNT_ANALYZER.SC_RNA_ANALYZER.RUN_TSNE.fork0.chnk0.main\n",
      "2021-07-12 11:22:09 [runtime] (split_complete)  ID.s1.SC_RNA_COUNTER_CS.SC_MULTI_CORE.COUNT_ANALYZER.SC_RNA_ANALYZER.RUN_GRAPH_CLUSTERING\n",
      "2021-07-12 11:22:09 [runtime] (run:local)       ID.s1.SC_RNA_COUNTER_CS.SC_MULTI_CORE.COUNT_ANALYZER.SC_RNA_ANALYZER.RUN_GRAPH_CLUSTERING.fork0.chnk0.main\n",
      "2021-07-12 11:22:11 [runtime] (split_complete)  ID.s1.SC_RNA_COUNTER_CS.SC_MULTI_CORE.COUNT_ANALYZER.SC_RNA_ANALYZER.RUN_KMEANS\n",
      "2021-07-12 11:22:11 [runtime] (run:local)       ID.s1.SC_RNA_COUNTER_CS.SC_MULTI_CORE.COUNT_ANALYZER.SC_RNA_ANALYZER.RUN_KMEANS.fork0.chnk0.main\n",
      "2021-07-12 11:22:11 [runtime] (run:local)       ID.s1.SC_RNA_COUNTER_CS.SC_MULTI_CORE.COUNT_ANALYZER.SC_RNA_ANALYZER.RUN_KMEANS.fork0.chnk1.main\n",
      "2021-07-12 11:22:11 [runtime] (run:local)       ID.s1.SC_RNA_COUNTER_CS.SC_MULTI_CORE.COUNT_ANALYZER.SC_RNA_ANALYZER.RUN_KMEANS.fork0.chnk2.main\n",
      "2021-07-12 11:22:11 [runtime] (run:local)       ID.s1.SC_RNA_COUNTER_CS.SC_MULTI_CORE.COUNT_ANALYZER.SC_RNA_ANALYZER.RUN_KMEANS.fork0.chnk3.main\n",
      "2021-07-12 11:22:11 [runtime] (run:local)       ID.s1.SC_RNA_COUNTER_CS.SC_MULTI_CORE.COUNT_ANALYZER.SC_RNA_ANALYZER.RUN_KMEANS.fork0.chnk4.main\n",
      "2021-07-12 11:22:11 [runtime] (run:local)       ID.s1.SC_RNA_COUNTER_CS.SC_MULTI_CORE.COUNT_ANALYZER.SC_RNA_ANALYZER.RUN_KMEANS.fork0.chnk5.main\n",
      "2021-07-12 11:22:11 [runtime] (run:local)       ID.s1.SC_RNA_COUNTER_CS.SC_MULTI_CORE.COUNT_ANALYZER.SC_RNA_ANALYZER.RUN_KMEANS.fork0.chnk6.main\n",
      "2021-07-12 11:22:11 [runtime] (run:local)       ID.s1.SC_RNA_COUNTER_CS.SC_MULTI_CORE.COUNT_ANALYZER.SC_RNA_ANALYZER.RUN_KMEANS.fork0.chnk7.main\n",
      "2021-07-12 11:22:11 [runtime] (run:local)       ID.s1.SC_RNA_COUNTER_CS.SC_MULTI_CORE.COUNT_ANALYZER.SC_RNA_ANALYZER.RUN_KMEANS.fork0.chnk8.main\n",
      "2021-07-12 11:22:13 [runtime] (chunks_complete) ID.s1.SC_RNA_COUNTER_CS.SC_MULTI_CORE.COUNT_ANALYZER.SC_RNA_ANALYZER.RUN_TSNE\n",
      "2021-07-12 11:22:13 [runtime] (run:local)       ID.s1.SC_RNA_COUNTER_CS.SC_MULTI_CORE.COUNT_ANALYZER.SC_RNA_ANALYZER.RUN_TSNE.fork0.join\n",
      "2021-07-12 11:22:14 [runtime] (split_complete)  ID.s1.SC_RNA_COUNTER_CS.SC_MULTI_CORE.COUNT_ANALYZER.SC_RNA_ANALYZER.RUN_UMAP\n",
      "2021-07-12 11:22:14 [runtime] (run:local)       ID.s1.SC_RNA_COUNTER_CS.SC_MULTI_CORE.COUNT_ANALYZER.SC_RNA_ANALYZER.RUN_UMAP.fork0.chnk0.main\n",
      "2021-07-12 11:22:15 [runtime] (chunks_complete) ID.s1.SC_RNA_COUNTER_CS.SC_MULTI_CORE.COUNT_ANALYZER.SC_RNA_ANALYZER.RUN_GRAPH_CLUSTERING\n",
      "2021-07-12 11:22:15 [runtime] (run:local)       ID.s1.SC_RNA_COUNTER_CS.SC_MULTI_CORE.COUNT_ANALYZER.SC_RNA_ANALYZER.RUN_GRAPH_CLUSTERING.fork0.join\n",
      "2021-07-12 11:22:25 [runtime] (chunks_complete) ID.s1.SC_RNA_COUNTER_CS.SC_MULTI_CORE.COUNT_ANALYZER.SC_RNA_ANALYZER.RUN_KMEANS\n",
      "2021-07-12 11:22:25 [runtime] (run:local)       ID.s1.SC_RNA_COUNTER_CS.SC_MULTI_CORE.COUNT_ANALYZER.SC_RNA_ANALYZER.RUN_KMEANS.fork0.join\n",
      "2021-07-12 11:22:26 [runtime] (join_complete)   ID.s1.SC_RNA_COUNTER_CS.SC_MULTI_CORE.COUNT_ANALYZER.SC_RNA_ANALYZER.RUN_TSNE\n",
      "2021-07-12 11:22:35 [runtime] (chunks_complete) ID.s1.SC_RNA_COUNTER_CS.SC_MULTI_CORE.COUNT_ANALYZER.SC_RNA_ANALYZER.RUN_UMAP\n",
      "2021-07-12 11:22:35 [runtime] (run:local)       ID.s1.SC_RNA_COUNTER_CS.SC_MULTI_CORE.COUNT_ANALYZER.SC_RNA_ANALYZER.RUN_UMAP.fork0.join\n",
      "2021-07-12 11:22:38 [runtime] (join_complete)   ID.s1.SC_RNA_COUNTER_CS.SC_MULTI_CORE.COUNT_ANALYZER.SC_RNA_ANALYZER.RUN_KMEANS\n",
      "2021-07-12 11:22:40 [runtime] (join_complete)   ID.s1.SC_RNA_COUNTER_CS.SC_MULTI_CORE.COUNT_ANALYZER.SC_RNA_ANALYZER.RUN_GRAPH_CLUSTERING\n",
      "2021-07-12 11:22:40 [runtime] (ready)           ID.s1.SC_RNA_COUNTER_CS.SC_MULTI_CORE.COUNT_ANALYZER.SC_RNA_ANALYZER.MERGE_CLUSTERS\n",
      "2021-07-12 11:22:40 [runtime] (run:local)       ID.s1.SC_RNA_COUNTER_CS.SC_MULTI_CORE.COUNT_ANALYZER.SC_RNA_ANALYZER.MERGE_CLUSTERS.fork0.split\n",
      "2021-07-12 11:22:41 [runtime] (join_complete)   ID.s1.SC_RNA_COUNTER_CS.SC_MULTI_CORE.COUNT_ANALYZER.SC_RNA_ANALYZER.RUN_UMAP\n",
      "2021-07-12 11:22:42 [runtime] (split_complete)  ID.s1.SC_RNA_COUNTER_CS.SC_MULTI_CORE.COUNT_ANALYZER.SC_RNA_ANALYZER.MERGE_CLUSTERS\n",
      "2021-07-12 11:22:42 [runtime] (run:local)       ID.s1.SC_RNA_COUNTER_CS.SC_MULTI_CORE.COUNT_ANALYZER.SC_RNA_ANALYZER.MERGE_CLUSTERS.fork0.chnk0.main\n",
      "2021-07-12 11:22:44 [runtime] (chunks_complete) ID.s1.SC_RNA_COUNTER_CS.SC_MULTI_CORE.COUNT_ANALYZER.SC_RNA_ANALYZER.MERGE_CLUSTERS\n",
      "2021-07-12 11:22:44 [runtime] (run:local)       ID.s1.SC_RNA_COUNTER_CS.SC_MULTI_CORE.COUNT_ANALYZER.SC_RNA_ANALYZER.MERGE_CLUSTERS.fork0.join\n",
      "2021-07-12 11:22:46 [runtime] (join_complete)   ID.s1.SC_RNA_COUNTER_CS.SC_MULTI_CORE.COUNT_ANALYZER.SC_RNA_ANALYZER.MERGE_CLUSTERS\n",
      "2021-07-12 11:22:46 [runtime] (ready)           ID.s1.SC_RNA_COUNTER_CS.SC_MULTI_CORE.COUNT_ANALYZER.SC_RNA_ANALYZER.COMBINE_CLUSTERING\n",
      "2021-07-12 11:22:46 [runtime] (run:local)       ID.s1.SC_RNA_COUNTER_CS.SC_MULTI_CORE.COUNT_ANALYZER.SC_RNA_ANALYZER.COMBINE_CLUSTERING.fork0.chnk0.main\n",
      "2021-07-12 11:22:47 [runtime] (chunks_complete) ID.s1.SC_RNA_COUNTER_CS.SC_MULTI_CORE.COUNT_ANALYZER.SC_RNA_ANALYZER.COMBINE_CLUSTERING\n",
      "2021-07-12 11:22:47 [runtime] (ready)           ID.s1.SC_RNA_COUNTER_CS.SC_MULTI_CORE.COUNT_ANALYZER.SC_RNA_ANALYZER.RUN_DIFFERENTIAL_EXPRESSION\n",
      "2021-07-12 11:22:47 [runtime] (run:local)       ID.s1.SC_RNA_COUNTER_CS.SC_MULTI_CORE.COUNT_ANALYZER.SC_RNA_ANALYZER.RUN_DIFFERENTIAL_EXPRESSION.fork0.split\n",
      "2021-07-12 11:22:48 [runtime] (split_complete)  ID.s1.SC_RNA_COUNTER_CS.SC_MULTI_CORE.COUNT_ANALYZER.SC_RNA_ANALYZER.RUN_DIFFERENTIAL_EXPRESSION\n",
      "2021-07-12 11:22:48 [runtime] (run:local)       ID.s1.SC_RNA_COUNTER_CS.SC_MULTI_CORE.COUNT_ANALYZER.SC_RNA_ANALYZER.RUN_DIFFERENTIAL_EXPRESSION.fork0.chnk00.main\n",
      "2021-07-12 11:22:48 [runtime] (run:local)       ID.s1.SC_RNA_COUNTER_CS.SC_MULTI_CORE.COUNT_ANALYZER.SC_RNA_ANALYZER.RUN_DIFFERENTIAL_EXPRESSION.fork0.chnk01.main\n",
      "2021-07-12 11:22:48 [runtime] (run:local)       ID.s1.SC_RNA_COUNTER_CS.SC_MULTI_CORE.COUNT_ANALYZER.SC_RNA_ANALYZER.RUN_DIFFERENTIAL_EXPRESSION.fork0.chnk02.main\n",
      "2021-07-12 11:22:48 [runtime] (run:local)       ID.s1.SC_RNA_COUNTER_CS.SC_MULTI_CORE.COUNT_ANALYZER.SC_RNA_ANALYZER.RUN_DIFFERENTIAL_EXPRESSION.fork0.chnk03.main\n",
      "2021-07-12 11:22:48 [runtime] (run:local)       ID.s1.SC_RNA_COUNTER_CS.SC_MULTI_CORE.COUNT_ANALYZER.SC_RNA_ANALYZER.RUN_DIFFERENTIAL_EXPRESSION.fork0.chnk04.main\n",
      "2021-07-12 11:22:48 [runtime] (run:local)       ID.s1.SC_RNA_COUNTER_CS.SC_MULTI_CORE.COUNT_ANALYZER.SC_RNA_ANALYZER.RUN_DIFFERENTIAL_EXPRESSION.fork0.chnk05.main\n",
      "2021-07-12 11:22:48 [runtime] (run:local)       ID.s1.SC_RNA_COUNTER_CS.SC_MULTI_CORE.COUNT_ANALYZER.SC_RNA_ANALYZER.RUN_DIFFERENTIAL_EXPRESSION.fork0.chnk06.main\n",
      "2021-07-12 11:22:48 [runtime] (run:local)       ID.s1.SC_RNA_COUNTER_CS.SC_MULTI_CORE.COUNT_ANALYZER.SC_RNA_ANALYZER.RUN_DIFFERENTIAL_EXPRESSION.fork0.chnk07.main\n",
      "2021-07-12 11:22:48 [runtime] (run:local)       ID.s1.SC_RNA_COUNTER_CS.SC_MULTI_CORE.COUNT_ANALYZER.SC_RNA_ANALYZER.RUN_DIFFERENTIAL_EXPRESSION.fork0.chnk08.main\n",
      "2021-07-12 11:22:48 [runtime] (run:local)       ID.s1.SC_RNA_COUNTER_CS.SC_MULTI_CORE.COUNT_ANALYZER.SC_RNA_ANALYZER.RUN_DIFFERENTIAL_EXPRESSION.fork0.chnk09.main\n",
      "2021-07-12 11:23:04 [runtime] (chunks_complete) ID.s1.SC_RNA_COUNTER_CS.SC_MULTI_CORE.COUNT_ANALYZER.SC_RNA_ANALYZER.RUN_DIFFERENTIAL_EXPRESSION\n",
      "2021-07-12 11:23:04 [runtime] (run:local)       ID.s1.SC_RNA_COUNTER_CS.SC_MULTI_CORE.COUNT_ANALYZER.SC_RNA_ANALYZER.RUN_DIFFERENTIAL_EXPRESSION.fork0.join\n",
      "2021-07-12 11:23:05 [runtime] (join_complete)   ID.s1.SC_RNA_COUNTER_CS.SC_MULTI_CORE.COUNT_ANALYZER.SC_RNA_ANALYZER.RUN_DIFFERENTIAL_EXPRESSION\n",
      "2021-07-12 11:23:05 [runtime] (ready)           ID.s1.SC_RNA_COUNTER_CS.SC_MULTI_CORE.COUNT_ANALYZER.SC_RNA_ANALYZER.SUMMARIZE_ANALYSIS\n",
      "2021-07-12 11:23:05 [runtime] (run:local)       ID.s1.SC_RNA_COUNTER_CS.SC_MULTI_CORE.COUNT_ANALYZER.SC_RNA_ANALYZER.SUMMARIZE_ANALYSIS.fork0.split\n",
      "2021-07-12 11:23:06 [runtime] (split_complete)  ID.s1.SC_RNA_COUNTER_CS.SC_MULTI_CORE.COUNT_ANALYZER.SC_RNA_ANALYZER.SUMMARIZE_ANALYSIS\n",
      "2021-07-12 11:23:06 [runtime] (run:local)       ID.s1.SC_RNA_COUNTER_CS.SC_MULTI_CORE.COUNT_ANALYZER.SC_RNA_ANALYZER.SUMMARIZE_ANALYSIS.fork0.chnk0.main\n",
      "2021-07-12 11:23:07 [runtime] (chunks_complete) ID.s1.SC_RNA_COUNTER_CS.SC_MULTI_CORE.COUNT_ANALYZER.SC_RNA_ANALYZER.SUMMARIZE_ANALYSIS\n",
      "2021-07-12 11:23:07 [runtime] (run:local)       ID.s1.SC_RNA_COUNTER_CS.SC_MULTI_CORE.COUNT_ANALYZER.SC_RNA_ANALYZER.SUMMARIZE_ANALYSIS.fork0.join\n",
      "2021-07-12 11:23:08 [runtime] (join_complete)   ID.s1.SC_RNA_COUNTER_CS.SC_MULTI_CORE.COUNT_ANALYZER.SC_RNA_ANALYZER.SUMMARIZE_ANALYSIS\n",
      "2021-07-12 11:23:08 [runtime] (ready)           ID.s1.SC_RNA_COUNTER_CS.SC_MULTI_CORE.MULTI_REPORTER.SUMMARIZE_REPORTS\n",
      "2021-07-12 11:23:08 [runtime] (run:local)       ID.s1.SC_RNA_COUNTER_CS.SC_MULTI_CORE.MULTI_REPORTER.SUMMARIZE_REPORTS.fork0.chnk0.main\n",
      "2021-07-12 11:23:11 [runtime] (chunks_complete) ID.s1.SC_RNA_COUNTER_CS.SC_MULTI_CORE.MULTI_REPORTER.SUMMARIZE_REPORTS\n",
      "2021-07-12 11:23:11 [runtime] (ready)           ID.s1.SC_RNA_COUNTER_CS.SC_MULTI_CORE.MULTI_REPORTER.CLOUPE_PREPROCESS\n",
      "2021-07-12 11:23:11 [runtime] (run:local)       ID.s1.SC_RNA_COUNTER_CS.SC_MULTI_CORE.MULTI_REPORTER.CLOUPE_PREPROCESS.fork0.split\n",
      "2021-07-12 11:23:11 [runtime] (ready)           ID.s1.SC_RNA_COUNTER_CS.SC_MULTI_CORE.MULTI_REPORTER.GENERATE_LIBRARY_PLOTS\n",
      "2021-07-12 11:23:13 [runtime] (split_complete)  ID.s1.SC_RNA_COUNTER_CS.SC_MULTI_CORE.MULTI_REPORTER.CLOUPE_PREPROCESS\n",
      "2021-07-12 11:23:13 [runtime] (run:local)       ID.s1.SC_RNA_COUNTER_CS.SC_MULTI_CORE.MULTI_REPORTER.CLOUPE_PREPROCESS.fork0.chnk0.main\n",
      "2021-07-12 11:23:17 [runtime] (chunks_complete) ID.s1.SC_RNA_COUNTER_CS.SC_MULTI_CORE.MULTI_REPORTER.CLOUPE_PREPROCESS\n",
      "2021-07-12 11:23:17 [runtime] (run:local)       ID.s1.SC_RNA_COUNTER_CS.SC_MULTI_CORE.MULTI_REPORTER.CLOUPE_PREPROCESS.fork0.join\n",
      "2021-07-12 11:23:19 [runtime] (join_complete)   ID.s1.SC_RNA_COUNTER_CS.SC_MULTI_CORE.MULTI_REPORTER.CLOUPE_PREPROCESS\n",
      "2021-07-12 11:23:19 [runtime] (ready)           ID.s1.SC_RNA_COUNTER_CS.SC_MULTI_CORE.MULTI_REPORTER.CHOOSE_CLOUPE\n",
      "2021-07-12 11:23:19 [runtime] (run:local)       ID.s1.SC_RNA_COUNTER_CS.SC_MULTI_CORE.MULTI_REPORTER.CHOOSE_CLOUPE.fork0.chnk0.main\n",
      "2021-07-12 11:23:19 [runtime] (chunks_complete) ID.s1.SC_RNA_COUNTER_CS.SC_MULTI_CORE.MULTI_REPORTER.CHOOSE_CLOUPE\n",
      "\n",
      "Outputs:\n",
      "- Run summary HTML:                         /spin1/users/classes/NIEHS_NGS/workshop/scRNA-seq/notebooks/s1/outs/web_summary.html\n",
      "- Run summary CSV:                          /spin1/users/classes/NIEHS_NGS/workshop/scRNA-seq/notebooks/s1/outs/metrics_summary.csv\n",
      "- BAM:                                      /spin1/users/classes/NIEHS_NGS/workshop/scRNA-seq/notebooks/s1/outs/possorted_genome_bam.bam\n",
      "- BAM index:                                /spin1/users/classes/NIEHS_NGS/workshop/scRNA-seq/notebooks/s1/outs/possorted_genome_bam.bam.bai\n",
      "- Filtered feature-barcode matrices MEX:    /spin1/users/classes/NIEHS_NGS/workshop/scRNA-seq/notebooks/s1/outs/filtered_feature_bc_matrix\n",
      "- Filtered feature-barcode matrices HDF5:   /spin1/users/classes/NIEHS_NGS/workshop/scRNA-seq/notebooks/s1/outs/filtered_feature_bc_matrix.h5\n",
      "- Unfiltered feature-barcode matrices MEX:  /spin1/users/classes/NIEHS_NGS/workshop/scRNA-seq/notebooks/s1/outs/raw_feature_bc_matrix\n",
      "- Unfiltered feature-barcode matrices HDF5: /spin1/users/classes/NIEHS_NGS/workshop/scRNA-seq/notebooks/s1/outs/raw_feature_bc_matrix.h5\n",
      "- Secondary analysis output CSV:            /spin1/users/classes/NIEHS_NGS/workshop/scRNA-seq/notebooks/s1/outs/analysis\n",
      "- Per-molecule read information:            /spin1/users/classes/NIEHS_NGS/workshop/scRNA-seq/notebooks/s1/outs/molecule_info.h5\n",
      "- CRISPR-specific analysis:                 null\n",
      "- Loupe Browser file:                       /spin1/users/classes/NIEHS_NGS/workshop/scRNA-seq/notebooks/s1/outs/cloupe.cloupe\n",
      "- Feature Reference:                        null\n",
      "- Target Panel File:                        null\n",
      "\n",
      "Waiting 6 seconds for UI to do final refresh.\n",
      "Pipestance completed successfully!\n",
      "\n",
      "2021-07-12 11:23:25 Shutting down.\n"
     ]
    }
   ],
   "source": [
    "cellranger count --id s1 \\\n",
    "                    --fastqs tiny-bcl/outs/fastq_path \\\n",
    "                    --transcriptome=$CELLRANGER_REF/refdata-gex-GRCh38-2020-A \\\n",
    "                    --chemistry=SC3Pv2"
   ]
  },
  {
   "cell_type": "code",
   "execution_count": null,
   "id": "8fe2e950-97ea-4a40-b64b-5bb72bba2d16",
   "metadata": {},
   "outputs": [],
   "source": []
  }
 ],
 "metadata": {
  "kernelspec": {
   "display_name": "Bash",
   "language": "bash",
   "name": "bash"
  },
  "language_info": {
   "codemirror_mode": "shell",
   "file_extension": ".sh",
   "mimetype": "text/x-sh",
   "name": "bash"
  },
  "toc-autonumbering": true
 },
 "nbformat": 4,
 "nbformat_minor": 5
}
