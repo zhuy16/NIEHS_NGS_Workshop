{
 "cells": [
  {
   "cell_type": "markdown",
   "id": "160e5ef0-e47a-40e4-884c-6e3740cd023c",
   "metadata": {},
   "source": [
    "# use the pbmc fastq data and run cellranger."
   ]
  },
  {
   "cell_type": "code",
   "execution_count": 1,
   "id": "fc6b5b9f-d915-402d-b338-bb49d9fb5a26",
   "metadata": {},
   "outputs": [],
   "source": [
    "cd ../data/"
   ]
  },
  {
   "cell_type": "code",
   "execution_count": null,
   "id": "08db4880-ebc9-407a-acfd-e9df93bcc8e6",
   "metadata": {},
   "outputs": [],
   "source": [
    "# 3:19--4:06 about 45 minutes"
   ]
  },
  {
   "cell_type": "code",
   "execution_count": 4,
   "id": "31d658ed-1e52-4a7b-a594-2559b1304d73",
   "metadata": {},
   "outputs": [],
   "source": [
    "# wget http://s3-us-west-2.amazonaws.com/10x.files/samples/cell-exp/2.1.0/pbmc8k/pbmc8k_fastqs.tar"
   ]
  },
  {
   "cell_type": "code",
   "execution_count": null,
   "id": "3980b881-111d-40eb-9163-3c6d3e67eaa1",
   "metadata": {},
   "outputs": [],
   "source": [
    "# 4:08-"
   ]
  },
  {
   "cell_type": "code",
   "execution_count": 6,
   "id": "3ad1bc0e-aab4-4227-a43b-e58cd10898b0",
   "metadata": {},
   "outputs": [
    {
     "name": "stdout",
     "output_type": "stream",
     "text": [
      "fastqs/\n",
      "fastqs/pbmc8k_S1_L007_I1_001.fastq.gz\n",
      "fastqs/pbmc8k_S1_L007_R1_001.fastq.gz\n",
      "fastqs/pbmc8k_S1_L007_R2_001.fastq.gz\n",
      "fastqs/pbmc8k_S1_L008_I1_001.fastq.gz\n",
      "fastqs/pbmc8k_S1_L008_R1_001.fastq.gz\n",
      "fastqs/pbmc8k_S1_L008_R2_001.fastq.gz\n"
     ]
    }
   ],
   "source": [
    "tar -xvf pbmc8k_fastqs.tar"
   ]
  },
  {
   "cell_type": "code",
   "execution_count": null,
   "id": "39a1555f-ab38-4ab4-b18f-9f115f61734b",
   "metadata": {},
   "outputs": [],
   "source": []
  },
  {
   "cell_type": "code",
   "execution_count": 1,
   "id": "2feb0290-fcdd-4e4f-95af-2b4e4904c13e",
   "metadata": {},
   "outputs": [
    {
     "name": "stdout",
     "output_type": "stream",
     "text": [
      "Cloning into 'scanpy-tutorials'...\n",
      "remote: Enumerating objects: 344, done.\u001b[K\n",
      "remote: Counting objects: 100% (6/6), done.\u001b[K\n",
      "remote: Compressing objects: 100% (6/6), done.\u001b[K\n",
      "remote: Total 344 (delta 1), reused 2 (delta 0), pack-reused 338\u001b[K\n",
      "Receiving objects: 100% (344/344), 121.28 MiB | 54.14 MiB/s, done.\n",
      "Resolving deltas: 100% (158/158), done.\n"
     ]
    }
   ],
   "source": [
    "git clone https://github.com/theislab/scanpy-tutorials.git"
   ]
  },
  {
   "cell_type": "code",
   "execution_count": null,
   "id": "a9572d56-0fce-4bcc-abe7-9c6cedcf114a",
   "metadata": {},
   "outputs": [],
   "source": [
    "\n"
   ]
  }
 ],
 "metadata": {
  "kernelspec": {
   "display_name": "Bash",
   "language": "bash",
   "name": "bash"
  },
  "language_info": {
   "codemirror_mode": "shell",
   "file_extension": ".sh",
   "mimetype": "text/x-sh",
   "name": "bash"
  }
 },
 "nbformat": 4,
 "nbformat_minor": 5
}
