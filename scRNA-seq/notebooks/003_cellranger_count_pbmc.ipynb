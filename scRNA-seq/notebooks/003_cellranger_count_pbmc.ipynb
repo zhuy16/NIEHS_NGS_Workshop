{
 "cells": [
  {
   "cell_type": "markdown",
   "id": "7d78518d-d807-445c-8889-eb58c1a8b085",
   "metadata": {},
   "source": [
    "# use cellranger count to align reads to transcriptomic reference."
   ]
  },
  {
   "cell_type": "code",
   "execution_count": 3,
   "id": "37277206-ffd2-4f42-a0f2-978762a39d5a",
   "metadata": {},
   "outputs": [],
   "source": [
    "cd ~/NIEHS_NGS/RNA-workshop-2021/scRNA-seq/data"
   ]
  },
  {
   "cell_type": "code",
   "execution_count": 4,
   "id": "804b133c-df2f-4658-89be-e1461e51474f",
   "metadata": {},
   "outputs": [
    {
     "name": "stdout",
     "output_type": "stream",
     "text": [
      "cellranger_pbmc3.sh                        \u001b[0m\u001b[1;93ms1\u001b[0m\n",
      "cellranger_pbmc.sh                         slurm-17006003.out\n",
      "\u001b[1;93mcellranger-tiny-bcl-1.2.0\u001b[0m                  slurm-17006161.out\n",
      "\u001b[38;5;9mcellranger-tiny-bcl-1.2.0.tar.gz\u001b[0m           slurm-17006693.out\n",
      "cellranger-tiny-bcl-samplesheet-1.2.0.csv  slurm-17006700.out\n",
      "\u001b[1;93mfastqs\u001b[0m                                     submit.sh\n",
      "\u001b[1;93mH35KCBCXY\u001b[0m                                  \u001b[1;93mtiny-bcl\u001b[0m\n",
      "\u001b[1;93mpbmc3\u001b[0m                                      \u001b[1;93mtiny-bcl2\u001b[0m\n",
      "__pbmc.mro                                 velocyto.sh\n"
     ]
    }
   ],
   "source": [
    "ls"
   ]
  },
  {
   "cell_type": "code",
   "execution_count": 5,
   "id": "ff775c85-3dc6-4ebc-85c9-9cd562a550c5",
   "metadata": {},
   "outputs": [
    {
     "name": "stdout",
     "output_type": "stream",
     "text": [
      "#!/bin/sh\n",
      "module load cellranger\n",
      "cellranger count --id pbmc3 \\\n",
      "                    --fastqs /spin1/users/classes/NIEHS_NGS/RNA-workshop-2021/scRNA-seq/data/fastqs \\\n",
      "                    --transcriptome=$CELLRANGER_REF/refdata-gex-GRCh38-2020-A \\\n",
      "                    --chemistry=SC3Pv2\n"
     ]
    }
   ],
   "source": [
    "cat cellranger_pbmc3.sh"
   ]
  },
  {
   "cell_type": "code",
   "execution_count": null,
   "id": "ddf15674-f54f-47b6-aa64-d8ae397dd159",
   "metadata": {},
   "outputs": [],
   "source": [
    "# sbatch --mem=100g --cpus-per-task=16 cellranger_pbmc3.sh "
   ]
  },
  {
   "cell_type": "code",
   "execution_count": 8,
   "id": "3d8ad773-f3f3-4db9-bb1a-23d170bcfc6c",
   "metadata": {},
   "outputs": [
    {
     "name": "stdout",
     "output_type": "stream",
     "text": [
      "/home/zhuy16/NIEHS_NGS/RNA-workshop-2021/scRNA-seq/data\n"
     ]
    }
   ],
   "source": [
    "pwd"
   ]
  },
  {
   "cell_type": "code",
   "execution_count": 10,
   "id": "7d35ade8-8587-4019-bd46-8aec9ec1b87a",
   "metadata": {},
   "outputs": [
    {
     "name": "stdout",
     "output_type": "stream",
     "text": [
      "cellranger_pbmc3.sh                        slurm-17006161.out\n",
      "cellranger_pbmc.sh                         slurm-17006693.out\n",
      "\u001b[0m\u001b[1;93mcellranger-tiny-bcl-1.2.0\u001b[0m                  slurm-17006700.out\n",
      "\u001b[38;5;9mcellranger-tiny-bcl-1.2.0.tar.gz\u001b[0m           slurm-17040362.out\n",
      "cellranger-tiny-bcl-samplesheet-1.2.0.csv  slurm-17040447.out\n",
      "\u001b[1;93mfastqs\u001b[0m                                     slurm-17040905.out\n",
      "\u001b[1;93mH35KCBCXY\u001b[0m                                  slurm-17041595.out\n",
      "\u001b[1;93mpbmc3\u001b[0m                                      submit.sh\n",
      "__pbmc.mro                                 \u001b[1;93mtiny-bcl\u001b[0m\n",
      "\u001b[1;93ms1\u001b[0m                                         \u001b[1;93mtiny-bcl2\u001b[0m\n",
      "slurm-17006003.out                         velocyto.sh\n"
     ]
    }
   ],
   "source": [
    "ls"
   ]
  },
  {
   "cell_type": "code",
   "execution_count": null,
   "id": "57b1c810-777b-43a2-bf7f-826e7e9e84aa",
   "metadata": {},
   "outputs": [],
   "source": [
    "# #!/bin/sh\n",
    "# module load python/3.6\n",
    "# velocyto run10x --samtools-threads 4 pbmc3  /fdb/cellranger/refdata-gex-GRCh38-2020-A/genes/genes.gtf"
   ]
  }
 ],
 "metadata": {
  "kernelspec": {
   "display_name": "Bash",
   "language": "bash",
   "name": "bash"
  },
  "language_info": {
   "codemirror_mode": "shell",
   "file_extension": ".sh",
   "mimetype": "text/x-sh",
   "name": "bash"
  }
 },
 "nbformat": 4,
 "nbformat_minor": 5
}
