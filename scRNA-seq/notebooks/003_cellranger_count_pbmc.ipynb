{
 "cells": [
  {
   "cell_type": "markdown",
   "id": "7d78518d-d807-445c-8889-eb58c1a8b085",
   "metadata": {},
   "source": [
    "# use cellranger count to align reads to transcriptomic reference."
   ]
  },
  {
   "cell_type": "code",
   "execution_count": 1,
   "id": "37277206-ffd2-4f42-a0f2-978762a39d5a",
   "metadata": {},
   "outputs": [],
   "source": [
    "cd ~/NIEHS_NGS/workshop/scRNA-seq/data"
   ]
  },
  {
   "cell_type": "code",
   "execution_count": 2,
   "id": "804b133c-df2f-4658-89be-e1461e51474f",
   "metadata": {},
   "outputs": [
    {
     "name": "stdout",
     "output_type": "stream",
     "text": [
      "\u001b[0m\u001b[38;5;34mcellranger_pbmc.sh\u001b[0m                         \u001b[1;93mfastqs\u001b[0m     \u001b[1;93mpbmc2\u001b[0m      \u001b[1;93mtiny-bcl2\u001b[0m\n",
      "\u001b[1;93mcellranger-tiny-bcl-1.2.0\u001b[0m                  \u001b[1;93mH35KCBCXY\u001b[0m  \u001b[1;93ms1\u001b[0m         \u001b[38;5;34mvelocyto.sh\u001b[0m\n",
      "\u001b[38;5;34mcellranger-tiny-bcl-1.2.0.tar.gz\u001b[0m           \u001b[1;93mothers\u001b[0m     \u001b[38;5;34msubmit.sh\u001b[0m\n",
      "\u001b[38;5;34mcellranger-tiny-bcl-samplesheet-1.2.0.csv\u001b[0m  \u001b[1;93mpbmc\u001b[0m       \u001b[1;93mtiny-bcl\u001b[0m\n"
     ]
    }
   ],
   "source": [
    "ls"
   ]
  },
  {
   "cell_type": "code",
   "execution_count": 3,
   "id": "ff775c85-3dc6-4ebc-85c9-9cd562a550c5",
   "metadata": {},
   "outputs": [
    {
     "name": "stdout",
     "output_type": "stream",
     "text": [
      "#!/bin/sh\n",
      "module load cellranger\n",
      "cellranger count --id pbmc \\\n",
      "                    --fastqs /spin1/users/classes/NIEHS_NGS/workshop/scRNA-seq/data/fastqs \\\n",
      "                    --transcriptome=$CELLRANGER_REF/refdata-gex-GRCh38-2020-A \\\n",
      "                    --chemistry=SC3Pv2\n"
     ]
    }
   ],
   "source": [
    "cat cellranger_pbmc.sh"
   ]
  },
  {
   "cell_type": "code",
   "execution_count": 4,
   "id": "34301741-8ccf-4217-a90c-c447ba1a3d0e",
   "metadata": {},
   "outputs": [
    {
     "name": "stdout",
     "output_type": "stream",
     "text": [
      "[+] Loading cellranger  6.0.1 \n"
     ]
    }
   ],
   "source": [
    "module load cellranger"
   ]
  },
  {
   "cell_type": "code",
   "execution_count": 7,
   "id": "b25ca42c-a087-4887-a79b-89ffa69ae955",
   "metadata": {},
   "outputs": [
    {
     "name": "stdout",
     "output_type": "stream",
     "text": [
      "/fdb/cellranger\n"
     ]
    }
   ],
   "source": [
    "echo $CELLRANGER_REF"
   ]
  },
  {
   "cell_type": "markdown",
   "id": "3c4b59fa-8abf-4315-a796-d69691acbd94",
   "metadata": {},
   "source": [
    "# submit the script to the cluster"
   ]
  },
  {
   "cell_type": "code",
   "execution_count": 9,
   "id": "ddf15674-f54f-47b6-aa64-d8ae397dd159",
   "metadata": {},
   "outputs": [
    {
     "name": "stdout",
     "output_type": "stream",
     "text": [
      "18827822\n"
     ]
    }
   ],
   "source": [
    "# the default walltime is 2 hours, here I set walltime to 2 days, in case the job does not finish!\n",
    "sbatch --mem=100g --time=2-00:00:00 --cpus-per-task=16 cellranger_pbmc.sh "
   ]
  },
  {
   "cell_type": "code",
   "execution_count": null,
   "id": "9c3363dc-e2ec-4c7f-80ad-109b7a4a238c",
   "metadata": {},
   "outputs": [],
   "source": [
    "# cat 18822950"
   ]
  },
  {
   "cell_type": "code",
   "execution_count": 11,
   "id": "7117d888-b603-4312-b99b-3eae0f9b26e0",
   "metadata": {},
   "outputs": [
    {
     "name": "stdout",
     "output_type": "stream",
     "text": [
      "User    JobId     JobName     Part         St  Reason  Runtime     Walltime     Nodes  CPUs   Memory  Dependency  Nodelist\n",
      "============================================================================================================================\n",
      "zhuy16  18822722  sinteracti  interactive  R              3:12:32     12:00:00      1      2  200 GB              cn2435  \n",
      "zhuy16  18827822  cellranger  norm         R                 3:00   2-00:00:00      1     16  100 GB              cn3304  \n",
      "============================================================================================================================\n",
      "cpus queued  = 0\n",
      "cpus running = 4 / 18\n",
      "mem  queued  = 0.0 B\n",
      "mem  running = 1.6 GB / 300.0 GB\n",
      "jobs queued  = 0\n",
      "jobs running = 2\n"
     ]
    }
   ],
   "source": [
    "# usually after 0-2 minutes, you will see the job appear in your job list, st will show PD or R (runing)\n",
    "sjobs -u zhuy16"
   ]
  },
  {
   "cell_type": "code",
   "execution_count": 28,
   "id": "e3efde54-b806-4f1e-816f-1ed054d73501",
   "metadata": {},
   "outputs": [
    {
     "name": "stdout",
     "output_type": "stream",
     "text": [
      "bash: after: command not found\n",
      "User    JobId     JobName     Part         St  Reason  Runtime     Walltime     Nodes  CPUs   Memory  Dependency  Nodelist\n",
      "============================================================================================================================\n",
      "zhuy16  18784877  sinteracti  interactive  R             10:17:34     12:00:00      1      2  200 GB              cn1031  \n",
      "zhuy16  18812258  cellranger  norm         R                20:13      2:00:00      1     16  100 GB              cn0848  \n",
      "============================================================================================================================\n",
      "cpus queued  = 0\n",
      "cpus running = 2 / 18\n",
      "mem  queued  = 0.0 B\n",
      "mem  running = 2.1 GB / 300.0 GB\n",
      "jobs queued  = 0\n",
      "jobs running = 2\n"
     ]
    }
   ],
   "source": [
    "after a few more minutes, the St will become \"R\"\n",
    "sjobs -u zhuy16"
   ]
  },
  {
   "cell_type": "code",
   "execution_count": 8,
   "id": "3d8ad773-f3f3-4db9-bb1a-23d170bcfc6c",
   "metadata": {},
   "outputs": [
    {
     "name": "stdout",
     "output_type": "stream",
     "text": [
      "/home/zhuy16/NIEHS_NGS/workshop/scRNA-seq/data\n"
     ]
    }
   ],
   "source": [
    "pwd"
   ]
  },
  {
   "cell_type": "code",
   "execution_count": 9,
   "id": "7d35ade8-8587-4019-bd46-8aec9ec1b87a",
   "metadata": {},
   "outputs": [
    {
     "name": "stdout",
     "output_type": "stream",
     "text": [
      "\u001b[0m\u001b[38;5;34mcellranger_pbmc.sh\u001b[0m                         \u001b[1;93mfastqs\u001b[0m     \u001b[1;93mpbmc2\u001b[0m      \u001b[1;93mtiny-bcl2\u001b[0m\n",
      "\u001b[1;93mcellranger-tiny-bcl-1.2.0\u001b[0m                  \u001b[1;93mH35KCBCXY\u001b[0m  \u001b[1;93ms1\u001b[0m         \u001b[38;5;34mvelocyto.sh\u001b[0m\n",
      "\u001b[38;5;34mcellranger-tiny-bcl-1.2.0.tar.gz\u001b[0m           \u001b[1;93mothers\u001b[0m     \u001b[38;5;34msubmit.sh\u001b[0m\n",
      "\u001b[38;5;34mcellranger-tiny-bcl-samplesheet-1.2.0.csv\u001b[0m  \u001b[1;93mpbmc\u001b[0m       \u001b[1;93mtiny-bcl\u001b[0m\n"
     ]
    }
   ],
   "source": [
    "ls"
   ]
  },
  {
   "cell_type": "code",
   "execution_count": 7,
   "id": "57b1c810-777b-43a2-bf7f-826e7e9e84aa",
   "metadata": {},
   "outputs": [],
   "source": [
    "# #!/bin/sh\n",
    "# module load python/3.6\n",
    "# velocyto run10x --samtools-threads 4 pbmc3  /fdb/cellranger/refdata-gex-GRCh38-2020-A/genes/genes.gtf"
   ]
  },
  {
   "cell_type": "code",
   "execution_count": null,
   "id": "812f4d94-5d78-4bd4-98d1-50b487efaddc",
   "metadata": {},
   "outputs": [],
   "source": []
  }
 ],
 "metadata": {
  "kernelspec": {
   "display_name": "Bash",
   "language": "bash",
   "name": "bash"
  },
  "language_info": {
   "codemirror_mode": "shell",
   "file_extension": ".sh",
   "mimetype": "text/x-sh",
   "name": "bash"
  }
 },
 "nbformat": 4,
 "nbformat_minor": 5
}
