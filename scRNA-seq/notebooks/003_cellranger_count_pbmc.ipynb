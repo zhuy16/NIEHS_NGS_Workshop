{
 "cells": [
  {
   "cell_type": "code",
   "execution_count": 16,
   "id": "6f3df41e-d503-4731-a6ca-397ab9946cb0",
   "metadata": {},
   "outputs": [],
   "source": [
    "# in real setting, how to handle a big fastq file with cellranger?\n",
    "# use batch submission to run scripts"
   ]
  },
  {
   "cell_type": "markdown",
   "id": "7d78518d-d807-445c-8889-eb58c1a8b085",
   "metadata": {},
   "source": [
    "# use cellranger count to align reads to transcriptomic reference."
   ]
  },
  {
   "cell_type": "code",
   "execution_count": 10,
   "id": "37277206-ffd2-4f42-a0f2-978762a39d5a",
   "metadata": {},
   "outputs": [],
   "source": [
    "cd ~/NIEHS_NGS/workshop/scRNA-seq/data"
   ]
  },
  {
   "cell_type": "code",
   "execution_count": 11,
   "id": "804b133c-df2f-4658-89be-e1461e51474f",
   "metadata": {},
   "outputs": [
    {
     "name": "stdout",
     "output_type": "stream",
     "text": [
      "\u001b[0m\u001b[1;93mcellranger-tiny-bcl-1.2.0\u001b[0m                  \u001b[38;5;51mfastqs\u001b[0m     \u001b[38;5;51mpbmc2\u001b[0m\n",
      "\u001b[38;5;9mcellranger-tiny-bcl-1.2.0.tar.gz\u001b[0m           \u001b[1;93mH35KCBCXY\u001b[0m  \u001b[38;5;34msubmit.sh\u001b[0m\n",
      "cellranger-tiny-bcl-samplesheet-1.2.0.csv  \u001b[1;93mothers\u001b[0m     \u001b[38;5;34mvelocyto.sh\u001b[0m\n"
     ]
    }
   ],
   "source": [
    "ls"
   ]
  },
  {
   "cell_type": "code",
   "execution_count": 13,
   "id": "ff775c85-3dc6-4ebc-85c9-9cd562a550c5",
   "metadata": {},
   "outputs": [
    {
     "name": "stdout",
     "output_type": "stream",
     "text": [
      "#!/bin/sh\n",
      "module load cellranger\n",
      "cellranger count --id pbmc \\\n",
      "                    --fastqs /spin1/users/classes/NIEHS_NGS/workshop/scRNA-seq/data/fastqs \\\n",
      "                    --transcriptome=$CELLRANGER_REF/refdata-gex-GRCh38-2020-A \\\n",
      "                    --chemistry=SC3Pv2\n"
     ]
    }
   ],
   "source": [
    "cat cellranger_pbmc.sh"
   ]
  },
  {
   "cell_type": "code",
   "execution_count": 14,
   "id": "34301741-8ccf-4217-a90c-c447ba1a3d0e",
   "metadata": {},
   "outputs": [
    {
     "name": "stdout",
     "output_type": "stream",
     "text": [
      "[-] Unloading cellranger  6.0.1 \n",
      "[+] Loading cellranger  6.0.1 \n"
     ]
    }
   ],
   "source": [
    "module load cellranger"
   ]
  },
  {
   "cell_type": "code",
   "execution_count": 15,
   "id": "b25ca42c-a087-4887-a79b-89ffa69ae955",
   "metadata": {},
   "outputs": [
    {
     "name": "stdout",
     "output_type": "stream",
     "text": [
      "/fdb/cellranger\n"
     ]
    }
   ],
   "source": [
    "echo $CELLRANGER_REF"
   ]
  },
  {
   "cell_type": "markdown",
   "id": "3c4b59fa-8abf-4315-a796-d69691acbd94",
   "metadata": {},
   "source": [
    "# submit the script to the cluster"
   ]
  },
  {
   "cell_type": "code",
   "execution_count": 24,
   "id": "61c7e1c8-ab4e-4dd1-b686-33cfd8e1b9b5",
   "metadata": {},
   "outputs": [
    {
     "name": "stdout",
     "output_type": "stream",
     "text": [
      "18958912\n"
     ]
    }
   ],
   "source": [
    "# the default walltime is 2 hours, here I set walltime to 2 days, in case the job does not finish!\n",
    "sbatch --mem=100g --time=2-00:00:00 --cpus-per-task=16 cellranger_pbmc.sh "
   ]
  },
  {
   "cell_type": "code",
   "execution_count": 25,
   "id": "d0904e3e-e6f6-4efd-a7dd-4f8798dfa1a2",
   "metadata": {},
   "outputs": [
    {
     "name": "stdout",
     "output_type": "stream",
     "text": [
      "User    JobId     JobName     Part         St  Reason  Runtime     Walltime     Nodes  CPUs   Memory  Dependency  Nodelist\n",
      "============================================================================================================================\n",
      "zhuy16  18945556  sinteracti  interactive  R              5:00:11     12:00:00      1      2  200 GB              cn0959  \n",
      "zhuy16  18945891  sinteracti  interactive  R              4:15:08     12:00:00      1      2  200 GB              cn1079  \n",
      "zhuy16  18958912  cellranger  norm         PD                       2-00:00:00            16  100 GB                      \n",
      "============================================================================================================================\n",
      "cpus queued  = 16\n",
      "cpus running = 0 / 4\n",
      "mem  queued  = 100.0 GB\n",
      "mem  running = 479.0 MB / 400.0 GB\n",
      "jobs queued  = 1\n",
      "jobs running = 2\n"
     ]
    }
   ],
   "source": [
    "# usually after 0-2 minutes, you will see the job appear in your job list, st will show PD or R (runing)\n",
    "sjobs -u zhuy16"
   ]
  },
  {
   "cell_type": "code",
   "execution_count": 26,
   "id": "ac40ce9e-f666-49a4-a07c-3ab59be9d626",
   "metadata": {},
   "outputs": [],
   "source": [
    "scancel 18958912"
   ]
  },
  {
   "cell_type": "code",
   "execution_count": 9,
   "id": "ddf15674-f54f-47b6-aa64-d8ae397dd159",
   "metadata": {},
   "outputs": [
    {
     "name": "stdout",
     "output_type": "stream",
     "text": [
      "18827822\n"
     ]
    }
   ],
   "source": [
    "# # the default walltime is 2 hours, here I set walltime to 2 days, in case the job does not finish!\n",
    "# sbatch --mem=100g --time=2-00:00:00 --cpus-per-task=16 cellranger_pbmc.sh "
   ]
  },
  {
   "cell_type": "code",
   "execution_count": 11,
   "id": "7117d888-b603-4312-b99b-3eae0f9b26e0",
   "metadata": {},
   "outputs": [
    {
     "name": "stdout",
     "output_type": "stream",
     "text": [
      "User    JobId     JobName     Part         St  Reason  Runtime     Walltime     Nodes  CPUs   Memory  Dependency  Nodelist\n",
      "============================================================================================================================\n",
      "zhuy16  18822722  sinteracti  interactive  R              3:12:32     12:00:00      1      2  200 GB              cn2435  \n",
      "zhuy16  18827822  cellranger  norm         R                 3:00   2-00:00:00      1     16  100 GB              cn3304  \n",
      "============================================================================================================================\n",
      "cpus queued  = 0\n",
      "cpus running = 4 / 18\n",
      "mem  queued  = 0.0 B\n",
      "mem  running = 1.6 GB / 300.0 GB\n",
      "jobs queued  = 0\n",
      "jobs running = 2\n"
     ]
    }
   ],
   "source": [
    "# usually after 0-2 minutes, you will see the job appear in your job list, st will show PD or R (runing)\n",
    "sjobs -u zhuy16"
   ]
  },
  {
   "cell_type": "code",
   "execution_count": 28,
   "id": "e3efde54-b806-4f1e-816f-1ed054d73501",
   "metadata": {},
   "outputs": [
    {
     "name": "stdout",
     "output_type": "stream",
     "text": [
      "bash: after: command not found\n",
      "User    JobId     JobName     Part         St  Reason  Runtime     Walltime     Nodes  CPUs   Memory  Dependency  Nodelist\n",
      "============================================================================================================================\n",
      "zhuy16  18784877  sinteracti  interactive  R             10:17:34     12:00:00      1      2  200 GB              cn1031  \n",
      "zhuy16  18812258  cellranger  norm         R                20:13      2:00:00      1     16  100 GB              cn0848  \n",
      "============================================================================================================================\n",
      "cpus queued  = 0\n",
      "cpus running = 2 / 18\n",
      "mem  queued  = 0.0 B\n",
      "mem  running = 2.1 GB / 300.0 GB\n",
      "jobs queued  = 0\n",
      "jobs running = 2\n"
     ]
    }
   ],
   "source": [
    "after a few more minutes, the St will become \"R\"\n",
    "sjobs -u zhuy16"
   ]
  },
  {
   "cell_type": "code",
   "execution_count": 8,
   "id": "3d8ad773-f3f3-4db9-bb1a-23d170bcfc6c",
   "metadata": {},
   "outputs": [
    {
     "name": "stdout",
     "output_type": "stream",
     "text": [
      "/home/zhuy16/NIEHS_NGS/workshop/scRNA-seq/data\n"
     ]
    }
   ],
   "source": [
    "pwd"
   ]
  },
  {
   "cell_type": "code",
   "execution_count": 17,
   "id": "c4a17d2a-5ac8-44c4-9402-e12fe3d29f62",
   "metadata": {},
   "outputs": [
    {
     "name": "stdout",
     "output_type": "stream",
     "text": [
      "\u001b[0m\u001b[1;93mcellranger-tiny-bcl-1.2.0\u001b[0m                  \u001b[38;5;34mslurm-17101963.out\u001b[0m\n",
      "\u001b[38;5;34mcellranger-tiny-bcl-1.2.0.tar.gz\u001b[0m           \u001b[38;5;34mslurm-17102025.out\u001b[0m\n",
      "\u001b[38;5;34mcellranger-tiny-bcl-samplesheet-1.2.0.csv\u001b[0m  \u001b[38;5;34mslurm-17594087.out\u001b[0m\n",
      "\u001b[38;5;34mslurm-17006003.out\u001b[0m                         \u001b[38;5;34mslurm-17759626.out\u001b[0m\n",
      "\u001b[38;5;34mslurm-17006161.out\u001b[0m                         \u001b[38;5;34mslurm-18794917.out\u001b[0m\n",
      "\u001b[38;5;34mslurm-17006693.out\u001b[0m                         \u001b[38;5;34mslurm-18812238.out\u001b[0m\n",
      "\u001b[38;5;34mslurm-17006700.out\u001b[0m                         \u001b[38;5;34mslurm-18812258.out\u001b[0m\n",
      "\u001b[38;5;34mslurm-17040362.out\u001b[0m                         \u001b[38;5;34mslurm-18822950.out\u001b[0m\n",
      "\u001b[38;5;34mslurm-17040447.out\u001b[0m                         \u001b[38;5;34mslurm-18827822.out\u001b[0m\n",
      "\u001b[38;5;34mslurm-17040905.out\u001b[0m                         \u001b[38;5;34mslurm-18854930.out\u001b[0m\n",
      "\u001b[38;5;34mslurm-17041595.out\u001b[0m\n"
     ]
    }
   ],
   "source": [
    "ls others"
   ]
  },
  {
   "cell_type": "code",
   "execution_count": 18,
   "id": "b0d2c295-8651-499d-a7e3-0e541a30a891",
   "metadata": {},
   "outputs": [],
   "source": [
    "mv others/slurm-18827822.out ."
   ]
  },
  {
   "cell_type": "code",
   "execution_count": 22,
   "id": "67307884-5d1b-4ac9-983d-cff25542479e",
   "metadata": {},
   "outputs": [
    {
     "name": "stdout",
     "output_type": "stream",
     "text": [
      "[+] Loading cellranger  6.0.1 \n",
      "Martian Runtime - v4.0.4\n",
      "Serving UI at http://cn3304:38834?auth=lvPBcS8n7GLbpwqx-0TUZNsgD3tExoTpe4oU7eqfScQ\n",
      "\n",
      "Running preflight checks (please wait)...\n",
      "Checking sample info...\n",
      "Checking FASTQ folder...\n",
      "Checking reference...\n",
      "Checking reference_path (/vf/db/cellranger/refdata-gex-GRCh38-2020-A) on cn3304...\n",
      "Checking optional arguments...\n",
      "mrc: v4.0.4\n",
      "\n",
      "mrp: v4.0.4\n",
      "\n",
      "Anaconda: Python 3.7.6\n",
      "\n",
      "numpy: 1.19.2\n",
      "\n",
      "scipy: 1.1.0\n",
      "\n",
      "pysam: 0.16.0.1\n",
      "\n",
      "h5py: 2.8.0\n",
      "\n",
      "pandas: 0.24.2\n",
      "\n",
      "STAR: 2.7.2a\n",
      "\n",
      "samtools: samtools 1.10\n",
      "Using htslib 1.10.2\n",
      "Copyright (C) 2019 Genome Research Ltd.\n",
      "\n",
      "2021-07-10 12:07:07 [runtime] (ready)           ID.pbmc.SC_RNA_COUNTER_CS.FULL_COUNT_INPUTS.WRITE_GENE_INDEX\n",
      "2021-07-10 12:07:07 [runtime] (run:local)       ID.pbmc.SC_RNA_COUNTER_CS.FULL_COUNT_INPUTS.WRITE_GENE_INDEX.fork0.chnk0.main\n",
      "2021-07-10 12:07:07 [runtime] (ready)           ID.pbmc.SC_RNA_COUNTER_CS.SC_MULTI_CORE.MULTI_CHEMISTRY_DETECTOR._GEM_WELL_CHEMISTRY_DETECTOR.DETECT_COUNT_CHEMISTRY\n",
      "2021-07-10 12:07:07 [runtime] (run:local)       ID.pbmc.SC_RNA_COUNTER_CS.SC_MULTI_CORE.MULTI_CHEMISTRY_DETECTOR._GEM_WELL_CHEMISTRY_DETECTOR.DETECT_COUNT_CHEMISTRY.fork0.chnk0.main\n",
      "2021-07-10 12:07:07 [runtime] (ready)           ID.pbmc.SC_RNA_COUNTER_CS.SC_MULTI_CORE.MULTI_GEM_WELL_PROCESSOR.COUNT_GEM_WELL_PROCESSOR._BASIC_SC_RNA_COUNTER.DISABLE_BAMS\n",
      "2021-07-10 12:07:07 [runtime] (run:local)       ID.pbmc.SC_RNA_COUNTER_CS.SC_MULTI_CORE.MULTI_GEM_WELL_PROCESSOR.COUNT_GEM_WELL_PROCESSOR._BASIC_SC_RNA_COUNTER.DISABLE_BAMS.fork0.chnk0.main\n",
      "2021-07-10 12:07:07 [runtime] (ready)           ID.pbmc.SC_RNA_COUNTER_CS.WRITE_GENE_INDEX\n",
      "2021-07-10 12:07:07 [runtime] (run:local)       ID.pbmc.SC_RNA_COUNTER_CS.WRITE_GENE_INDEX.fork0.chnk0.main\n",
      "cat: write error: Broken pipe\n"
     ]
    }
   ],
   "source": [
    "cat slurm-18827822.out | head -n 40"
   ]
  },
  {
   "cell_type": "code",
   "execution_count": 23,
   "id": "7d35ade8-8587-4019-bd46-8aec9ec1b87a",
   "metadata": {},
   "outputs": [
    {
     "name": "stdout",
     "output_type": "stream",
     "text": [
      "\u001b[0m\u001b[38;5;34mcellranger_pbmc.sh\u001b[0m                         \u001b[38;5;51mfastqs\u001b[0m     \u001b[38;5;34mslurm-18827822.out\u001b[0m\n",
      "\u001b[1;93mcellranger-tiny-bcl-1.2.0\u001b[0m                  \u001b[1;93mH35KCBCXY\u001b[0m  \u001b[38;5;34msubmit.sh\u001b[0m\n",
      "\u001b[38;5;9mcellranger-tiny-bcl-1.2.0.tar.gz\u001b[0m           \u001b[1;93mothers\u001b[0m     \u001b[38;5;34mvelocyto.sh\u001b[0m\n",
      "cellranger-tiny-bcl-samplesheet-1.2.0.csv  \u001b[38;5;51mpbmc2\u001b[0m\n"
     ]
    }
   ],
   "source": [
    "ls"
   ]
  },
  {
   "cell_type": "code",
   "execution_count": 7,
   "id": "57b1c810-777b-43a2-bf7f-826e7e9e84aa",
   "metadata": {},
   "outputs": [],
   "source": [
    "# #!/bin/sh\n",
    "# module load python/3.6\n",
    "# velocyto run10x --samtools-threads 4 pbmc3  /fdb/cellranger/refdata-gex-GRCh38-2020-A/genes/genes.gtf"
   ]
  },
  {
   "cell_type": "code",
   "execution_count": null,
   "id": "812f4d94-5d78-4bd4-98d1-50b487efaddc",
   "metadata": {},
   "outputs": [],
   "source": []
  }
 ],
 "metadata": {
  "kernelspec": {
   "display_name": "Bash",
   "language": "bash",
   "name": "bash"
  },
  "language_info": {
   "codemirror_mode": "shell",
   "file_extension": ".sh",
   "mimetype": "text/x-sh",
   "name": "bash"
  }
 },
 "nbformat": 4,
 "nbformat_minor": 5
}
