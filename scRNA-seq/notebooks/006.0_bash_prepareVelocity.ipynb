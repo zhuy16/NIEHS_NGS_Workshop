{
 "cells": [
  {
   "cell_type": "markdown",
   "id": "71315b7d-a1fa-4ffa-86ba-cfeb1fc56b37",
   "metadata": {},
   "source": [
    "# run samtools to sort the bam files"
   ]
  },
  {
   "cell_type": "code",
   "execution_count": 1,
   "id": "d77f1f93-b378-4235-871a-93666dbae3de",
   "metadata": {},
   "outputs": [
    {
     "name": "stdout",
     "output_type": "stream",
     "text": [
      "\u001b[0m\u001b[38;5;34m001_convert_bcl_to_fastq.ipynb\u001b[0m   \u001b[38;5;34m006.0_bash_prepareVelocity.ipynb\u001b[0m  \u001b[1;93mqc\u001b[0m\n",
      "\u001b[38;5;34m002_decompress_pbmc_fastq.ipynb\u001b[0m  \u001b[38;5;34m006.1_VelocityBasics.ipynb\u001b[0m        \u001b[1;93ms1\u001b[0m\n",
      "\u001b[38;5;34m003_cellranger_count_pbmc.ipynb\u001b[0m  \u001b[1;93mcellranger-tiny-bcl-1.2.0\u001b[0m         \u001b[1;93mtiny-bcl2\u001b[0m\n",
      "\u001b[38;5;34m004_R_pbmc3k_tutorial.ipynb\u001b[0m      \u001b[1;93mdata\u001b[0m\n",
      "\u001b[38;5;34m005_Python_pbmc3k.ipynb\u001b[0m          \u001b[1;93mothers\u001b[0m\n"
     ]
    }
   ],
   "source": [
    "ls"
   ]
  },
  {
   "cell_type": "code",
   "execution_count": 3,
   "id": "72847f3f-cccd-466b-acf4-1887a2b9572c",
   "metadata": {},
   "outputs": [],
   "source": [
    "cd ../data/pbmc/outs"
   ]
  },
  {
   "cell_type": "code",
   "execution_count": 4,
   "id": "56e36a40-bf7f-451e-8dde-ebccb81e18b5",
   "metadata": {},
   "outputs": [
    {
     "name": "stdout",
     "output_type": "stream",
     "text": [
      "\u001b[0m\u001b[1;93manalysis\u001b[0m                             \u001b[38;5;34mpossorted_genome_bam.bam\u001b[0m\n",
      "\u001b[38;5;34mcellsorted_possorted_genome_bam.bam\u001b[0m  \u001b[38;5;34mpossorted_genome_bam.bam.bai\u001b[0m\n",
      "\u001b[38;5;34mcloupe.cloupe\u001b[0m                        \u001b[1;93mraw_feature_bc_matrix\u001b[0m\n",
      "\u001b[1;93mfiltered_feature_bc_matrix\u001b[0m           \u001b[38;5;34mraw_feature_bc_matrix.h5\u001b[0m\n",
      "\u001b[38;5;34mfiltered_feature_bc_matrix.h5\u001b[0m        \u001b[38;5;34mslurm-17012167.out\u001b[0m\n",
      "\u001b[38;5;34mmetrics_summary.csv\u001b[0m                  \u001b[38;5;34mweb_summary.html\u001b[0m\n",
      "\u001b[38;5;34mmolecule_info.h5\u001b[0m\n"
     ]
    }
   ],
   "source": [
    "ls"
   ]
  },
  {
   "cell_type": "code",
   "execution_count": 5,
   "id": "ccf2782d-7d9a-4a35-b5c1-d13f4486a1ea",
   "metadata": {},
   "outputs": [],
   "source": [
    "# this step takes hours"
   ]
  },
  {
   "cell_type": "code",
   "execution_count": 6,
   "id": "f88f2613-933b-4c00-8611-15467b6c0518",
   "metadata": {},
   "outputs": [],
   "source": [
    "# #!/bin/sh\n",
    "# module load samtools/1.9\n",
    "# samtools sort -t CB -O BAM -o cellsorted_possorted_genome_bam.bam possorted_genome_bam.bam"
   ]
  },
  {
   "cell_type": "markdown",
   "id": "fec6ee5f-f888-4ad1-ab87-0a6ba48abb88",
   "metadata": {},
   "source": [
    "# install Velocyto CLI "
   ]
  },
  {
   "cell_type": "code",
   "execution_count": 7,
   "id": "ff55c3e8-58f7-4312-8785-fe5d9359cb21",
   "metadata": {},
   "outputs": [
    {
     "name": "stdout",
     "output_type": "stream",
     "text": [
      "[+] Loading python 3.6  ... \n",
      "/usr/local/Anaconda/envs/py3.6/bin/pip\n"
     ]
    }
   ],
   "source": [
    "module load python/3.6\n",
    "which pip"
   ]
  },
  {
   "cell_type": "code",
   "execution_count": 8,
   "id": "6f727329-ccf2-40cd-a8ff-4556e1fcc80c",
   "metadata": {},
   "outputs": [],
   "source": [
    " #pip install --user velocyto"
   ]
  },
  {
   "cell_type": "markdown",
   "id": "17abcdad-08c7-4fb5-b16d-c909191e3698",
   "metadata": {},
   "source": [
    "# run velocyto CLI to count the reads mapped to non-spliced reagions"
   ]
  },
  {
   "cell_type": "code",
   "execution_count": 9,
   "id": "125d9dfd-901c-4ce1-b785-4f69b4defe98",
   "metadata": {},
   "outputs": [],
   "source": [
    "cd ../.."
   ]
  },
  {
   "cell_type": "code",
   "execution_count": 10,
   "id": "1bad297c-d552-4d4e-97f7-6fc10c430d70",
   "metadata": {},
   "outputs": [
    {
     "name": "stdout",
     "output_type": "stream",
     "text": [
      "\u001b[0m\u001b[38;5;34mcellranger_pbmc.sh\u001b[0m                         \u001b[38;5;34mslurm-17040905.out\u001b[0m\n",
      "\u001b[1;93mcellranger-tiny-bcl-1.2.0\u001b[0m                  \u001b[38;5;34mslurm-17041595.out\u001b[0m\n",
      "\u001b[38;5;34mcellranger-tiny-bcl-1.2.0.tar.gz\u001b[0m           \u001b[38;5;34mslurm-17101963.out\u001b[0m\n",
      "\u001b[38;5;34mcellranger-tiny-bcl-samplesheet-1.2.0.csv\u001b[0m  \u001b[38;5;34mslurm-17102025.out\u001b[0m\n",
      "\u001b[1;93mfastqs\u001b[0m                                     \u001b[38;5;34mslurm-17594087.out\u001b[0m\n",
      "\u001b[1;93mH35KCBCXY\u001b[0m                                  \u001b[38;5;34mslurm-17759626.out\u001b[0m\n",
      "\u001b[1;93mothers\u001b[0m                                     slurm-18794917.out\n",
      "\u001b[1;93mpbmc\u001b[0m                                       slurm-18812238.out\n",
      "\u001b[1;93mpbmc2\u001b[0m                                      slurm-18812258.out\n",
      "\u001b[1;93ms1\u001b[0m                                         slurm-18822950.out\n",
      "\u001b[38;5;34mslurm-17006003.out\u001b[0m                         slurm-18827822.out\n",
      "\u001b[38;5;34mslurm-17006161.out\u001b[0m                         \u001b[38;5;34msubmit.sh\u001b[0m\n",
      "\u001b[38;5;34mslurm-17006693.out\u001b[0m                         \u001b[1;93mtiny-bcl\u001b[0m\n",
      "\u001b[38;5;34mslurm-17006700.out\u001b[0m                         \u001b[1;93mtiny-bcl2\u001b[0m\n",
      "\u001b[38;5;34mslurm-17040362.out\u001b[0m                         \u001b[38;5;34mvelocyto.sh\u001b[0m\n",
      "\u001b[38;5;34mslurm-17040447.out\u001b[0m\n"
     ]
    }
   ],
   "source": [
    "ls"
   ]
  },
  {
   "cell_type": "code",
   "execution_count": 11,
   "id": "1a7ceca1-3097-4d46-b931-b288d79a58b5",
   "metadata": {},
   "outputs": [
    {
     "name": "stdout",
     "output_type": "stream",
     "text": [
      "#!/bin/sh\n",
      "module load python/3.6\n",
      "velocyto run10x pbmc  /fdb/cellranger/refdata-gex-GRCh38-2020-A/genes/genes.gtf\n"
     ]
    }
   ],
   "source": [
    "cat velocyto.sh"
   ]
  },
  {
   "cell_type": "code",
   "execution_count": 12,
   "id": "ea3dd790-014c-46c7-9d3a-bd1aea63b414",
   "metadata": {},
   "outputs": [],
   "source": [
    "# velocyto run takes ~ 24 hours to run for this step. \n",
    "# consider to submit a bash script to do this step."
   ]
  },
  {
   "cell_type": "code",
   "execution_count": 13,
   "id": "0382debb-61a4-417d-93d6-1b600c47a414",
   "metadata": {},
   "outputs": [
    {
     "name": "stdout",
     "output_type": "stream",
     "text": [
      "sbatch --mem=200g --cpus-per-task=16 \n"
     ]
    }
   ],
   "source": [
    "cat submit.sh"
   ]
  },
  {
   "cell_type": "code",
   "execution_count": 14,
   "id": "5a04bf53-ff8a-4653-83b5-4769923e454a",
   "metadata": {},
   "outputs": [],
   "source": [
    "# sbatch --mem=20g --cpus-per-task=4 --time=24:00:00 velocyto.sh"
   ]
  },
  {
   "cell_type": "code",
   "execution_count": 15,
   "id": "7e3ee419-d83f-4b4b-a6cb-898f4486dc7d",
   "metadata": {},
   "outputs": [],
   "source": [
    "# time specified may be too short, cancel and resubmit the job.\n",
    "# scancel 17101963"
   ]
  },
  {
   "cell_type": "code",
   "execution_count": 16,
   "id": "1b2b04bb-7091-40d8-8b56-0c367a64d247",
   "metadata": {},
   "outputs": [
    {
     "name": "stdout",
     "output_type": "stream",
     "text": [
      "18854930\n"
     ]
    }
   ],
   "source": [
    "sbatch --mem=20g --cpus-per-task=4 --time=2-00:00:00 velocyto.sh"
   ]
  },
  {
   "cell_type": "code",
   "execution_count": 19,
   "id": "ddc6ae94-b435-4212-b529-338ac12aa655",
   "metadata": {},
   "outputs": [
    {
     "name": "stdout",
     "output_type": "stream",
     "text": [
      "User    JobId     JobName     Part         St  Reason  Runtime     Walltime     Nodes  CPUs   Memory  Dependency  Nodelist\n",
      "============================================================================================================================\n",
      "zhuy16  18850889  sinteracti  interactive  R              1:32:31     12:00:00      1      2  200 GB              cn0986  \n",
      "zhuy16  18854930  velocyto.s  norm         R                 2:46   2-00:00:00      1      4   20 GB              cn0848  \n",
      "============================================================================================================================\n",
      "cpus queued  = 0\n",
      "cpus running = 1 / 6\n",
      "mem  queued  = 0.0 B\n",
      "mem  running = 2.6 GB / 220.0 GB\n",
      "jobs queued  = 0\n",
      "jobs running = 2\n"
     ]
    }
   ],
   "source": [
    "sjobs -u zhuy16"
   ]
  },
  {
   "cell_type": "code",
   "execution_count": null,
   "id": "8760d60f-c547-4930-a017-749110fefd7f",
   "metadata": {},
   "outputs": [
    {
     "name": "stdout",
     "output_type": "stream",
     "text": [
      "[-] Unloading python 3.6  ... \n",
      "[+] Loading python 3.6  ... \n",
      "/var/spool/slurm/slurmd/job17594087/slurm_script: line 3: velocyto: command not found\n"
     ]
    }
   ],
   "source": [
    "less slurm-17594087.out"
   ]
  },
  {
   "cell_type": "code",
   "execution_count": 19,
   "id": "cc567ca4-99b3-4893-b43f-748b88909229",
   "metadata": {},
   "outputs": [],
   "source": [
    "# review or monitor job status, # a failed job due to timeout, ID, 17041595\n",
    "# go to https://hpc.nih.gov/dashboard/\n"
   ]
  },
  {
   "cell_type": "code",
   "execution_count": null,
   "id": "f3f29f04-8757-49b6-b541-5cbdd2910f9c",
   "metadata": {},
   "outputs": [],
   "source": []
  }
 ],
 "metadata": {
  "kernelspec": {
   "display_name": "Bash",
   "language": "bash",
   "name": "bash"
  },
  "language_info": {
   "codemirror_mode": "shell",
   "file_extension": ".sh",
   "mimetype": "text/x-sh",
   "name": "bash"
  }
 },
 "nbformat": 4,
 "nbformat_minor": 5
}
