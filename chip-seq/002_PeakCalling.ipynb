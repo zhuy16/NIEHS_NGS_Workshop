{
 "cells": [
  {
   "cell_type": "markdown",
   "id": "8223958b-7418-484d-b692-7fe3834a5abc",
   "metadata": {},
   "source": [
    " ChIP-seq analysis"
   ]
  },
  {
   "cell_type": "markdown",
   "id": "faeee7f0-10cd-41c6-be2f-dc392e22c2d7",
   "metadata": {},
   "source": [
    "# peak calling using macs2"
   ]
  },
  {
   "cell_type": "code",
   "execution_count": null,
   "id": "9cf9af9e-38ed-4030-869e-da4260361e28",
   "metadata": {},
   "outputs": [],
   "source": [
    "#macs2 callpeak -t sam/STAT1_30m_IFNa.sam -c norm_INP_30m_IFNa.sam -n STAT1_30m_IFNa -g hs --bdg -q 0.05 -f SAM\n",
    "\n",
    "macs2 callpeak -t sam/STAT1_6h_IFNa.bam -c sam/INP_6h_IFNa_11E6.bam -n STAT1_6h_IFNa -g hs --bdg -q 0.05 -f BAM\n",
    "macs2 callpeak -t sam/STAT1_30m_IFNa.bam -c sam/INP_30m_IFNa_11E6.bam -n STAT1_30m_IFNa -g hs --bdg -q 0.05 -f BAM"
   ]
  },
  {
   "cell_type": "markdown",
   "id": "4c020162-d22a-44b5-a2b0-3cfbfa9c9ba8",
   "metadata": {},
   "source": [
    "# download two scripts to convert file types"
   ]
  },
  {
   "cell_type": "code",
   "execution_count": null,
   "id": "e7668803-09b8-4d58-bc2e-9c8515830018",
   "metadata": {},
   "outputs": [],
   "source": [
    "wget http://hgdownload.soe.ucsc.edu/admin/exe/linux.x86_64.v369/bedGraphToBigWig\n",
    "wget http://hgdownload.soe.ucsc.edu/admin/exe/linux.x86_64.v369/fetchChromSizes\n",
    "# make them executable\n",
    "chmod 755 bedGraphToBigWig \n",
    "chmod 755 fetchChromSizes "
   ]
  },
  {
   "cell_type": "code",
   "execution_count": 9,
   "id": "7e33bec1-9813-4dd4-b561-b140d2beea36",
   "metadata": {},
   "outputs": [
    {
     "name": "stdout",
     "output_type": "stream",
     "text": [
      "INFO: trying CURL /usr/bin/curl for database hg19\n",
      "url: http://hgdownload.cse.ucsc.edu/goldenPath/hg19/bigZips/hg19.chrom.sizes\n"
     ]
    }
   ],
   "source": [
    " ./fetchChromSizes hg19 >hg19.chrom.sizes"
   ]
  },
  {
   "cell_type": "markdown",
   "id": "07a62460-5829-4852-b8a1-c782c9c9e00f",
   "metadata": {},
   "source": [
    "# Convert bedgraph to wiggle for downstream programs IGB and CEAS"
   ]
  },
  {
   "cell_type": "code",
   "execution_count": null,
   "id": "7832c02d-3f3d-4721-a0da-cc3a37a89e16",
   "metadata": {},
   "outputs": [],
   "source": [
    "./bedGraphToBigWig peak/STAT1_6h_IFNa_treat_pileup.bdg hg19.chrom.sizes STAT1_6h_IFNa.bigwig\n",
    "./bedGraphToBigWig peak/STAT1_6h_IFNa_control_lambda.bdg hg19.chrom.sizes INP_6h_IFNa.bigwig"
   ]
  },
  {
   "cell_type": "markdown",
   "id": "602bd3ac-1bed-4778-8ab6-dadd84857e96",
   "metadata": {},
   "source": [
    "# \n",
    "## selected fields from narrowPeak to form bed file"
   ]
  },
  {
   "cell_type": "code",
   "execution_count": null,
   "id": "186b736f-ab69-457a-ab6a-ab381b45970b",
   "metadata": {},
   "outputs": [],
   "source": [
    "cut -f1,2,3,4 STAT1_6h_IFNa_peaks.narrowPeak > STAT1_6h_IFNa_peaks.bed"
   ]
  },
  {
   "cell_type": "code",
   "execution_count": 11,
   "id": "17d69098-2bf2-432d-8b8a-89ac05e19c20",
   "metadata": {},
   "outputs": [
    {
     "name": "stdout",
     "output_type": "stream",
     "text": [
      "--2021-06-14 22:24:20--  http://gist.github.com/svigneau/8846527/raw/7fdf60b379245904f1aeb02427e098c06aeb670e/%2520bedgraph_to_wig.pl\n",
      "Resolving dtn07-e0 (dtn07-e0)... 10.1.200.243\n",
      "Connecting to dtn07-e0 (dtn07-e0)|10.1.200.243|:3128... connected.\n",
      "Proxy request sent, awaiting response... 301 Moved Permanently\n",
      "Location: https://gist.github.com/svigneau/8846527/raw/7fdf60b379245904f1aeb02427e098c06aeb670e/%2520bedgraph_to_wig.pl [following]\n",
      "--2021-06-14 22:24:20--  https://gist.github.com/svigneau/8846527/raw/7fdf60b379245904f1aeb02427e098c06aeb670e/%2520bedgraph_to_wig.pl\n",
      "Connecting to dtn07-e0 (dtn07-e0)|10.1.200.243|:3128... connected.\n",
      "Proxy request sent, awaiting response... 301 Moved Permanently\n",
      "Location: https://gist.githubusercontent.com/svigneau/8846527/raw/7fdf60b379245904f1aeb02427e098c06aeb670e/%2520bedgraph_to_wig.pl [following]\n",
      "--2021-06-14 22:24:20--  https://gist.githubusercontent.com/svigneau/8846527/raw/7fdf60b379245904f1aeb02427e098c06aeb670e/%2520bedgraph_to_wig.pl\n",
      "Connecting to dtn07-e0 (dtn07-e0)|10.1.200.243|:3128... connected.\n",
      "Proxy request sent, awaiting response... 200 OK\n",
      "Length: 4832 (4.7K) [text/plain]\n",
      "Saving to: ‘%20bedgraph_to_wig.pl’\n",
      "\n",
      "100%[======================================>] 4,832       --.-K/s   in 0s      \n",
      "\n",
      "2021-06-14 22:24:21 (92.1 MB/s) - ‘%20bedgraph_to_wig.pl’ saved [4832/4832]\n",
      "\n"
     ]
    }
   ],
   "source": [
    "wget gist.github.com/svigneau/8846527/raw/7fdf60b379245904f1aeb02427e098c06aeb670e/%2520bedgraph_to_wig.pl"
   ]
  },
  {
   "cell_type": "code",
   "execution_count": 12,
   "id": "96537d00-6a2a-42dc-b801-4210106cf580",
   "metadata": {},
   "outputs": [],
   "source": [
    "# mv %20bedgraph_to_wig.pl bedgraph_to_wig.pl"
   ]
  },
  {
   "cell_type": "markdown",
   "id": "365ddac9-895c-4aa0-9419-aae71a850ba0",
   "metadata": {},
   "source": [
    "# Convert bedgraph to wig file (signal file?), for visualization in the IGB browser"
   ]
  },
  {
   "cell_type": "code",
   "execution_count": 1,
   "id": "6d5ac7e0-c96b-4a91-8c24-b272acd29e1e",
   "metadata": {},
   "outputs": [
    {
     "name": "stdout",
     "output_type": "stream",
     "text": [
      "/spin1/users/classes/NIEHS_NGS/RNA-workshop-2021/chip-seq\n"
     ]
    }
   ],
   "source": [
    "pwd"
   ]
  },
  {
   "cell_type": "code",
   "execution_count": null,
   "id": "7845cf8d-09cc-4782-a765-57fff02422e2",
   "metadata": {},
   "outputs": [],
   "source": [
    "perl bedgraph_to_wig.pl --bedgraph peak/STAT1_6h_IFNa_treat_pileup.bdg --wig STAT1_6h_IFNa.wig --step 50\n",
    "perl bedgraph_to_wig.pl --bedgraph peak/STAT1_6h_IFNa_control_lambda.bdg --wig INP_6h_IFNa.wig --step 50\n",
    "perl bedgraph_to_wig.pl --bedgraph peak/STAT1_30m_IFNa_treat_pileup.bdg --wig STAT1_30m_IFNa.wig --step 50\n",
    "perl bedgraph_to_wig.pl --bedgraph peak/STAT1_30m_IFNa_control_lambda.bdg --wig INP_30m_IFNa.wig --step 50"
   ]
  },
  {
   "cell_type": "code",
   "execution_count": null,
   "id": "73eada33-bc69-4a05-8bd0-f405ff6bf2ab",
   "metadata": {},
   "outputs": [],
   "source": [
    "# on local computer, transfer files \n",
    "# install IGB,https://www.bioviz.org/otherDownloads.html \n",
    "# mkdir CHIPseq_workshop\n",
    "# cd CHIPseq_workshop\n",
    "# scp zhuy16@helix.nih.gov:/spin1/users/classes/NIEHS_NGS/RNA-workshop-2021/chip-seq/STAT1_6h_IFNa.wig .\n",
    "# scp zhuy16@helix.nih.gov:/spin1/users/classes/NIEHS_NGS/RNA-workshop-2021/chip-seq/STAT1_30m_IFNa.wig .\n",
    "# scp zhuy16@helix.nih.gov:/spin1/users/classes/NIEHS_NGS/RNA-workshop-2021/chip-seq/INP_6h_IFNa.wig .\n",
    "# scp zhuy16@helix.nih.gov:/spin1/users/classes/NIEHS_NGS/RNA-workshop-2021/chip-seq/INP_30m_IFNa.wig .\n",
    "# drag these files into the IGB window to visualize"
   ]
  }
 ],
 "metadata": {
  "kernelspec": {
   "display_name": "Bash",
   "language": "bash",
   "name": "bash"
  },
  "language_info": {
   "codemirror_mode": "shell",
   "file_extension": ".sh",
   "mimetype": "text/x-sh",
   "name": "bash"
  }
 },
 "nbformat": 4,
 "nbformat_minor": 5
}
