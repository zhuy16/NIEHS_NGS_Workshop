{
 "cells": [
  {
   "cell_type": "markdown",
   "id": "8223958b-7418-484d-b692-7fe3834a5abc",
   "metadata": {},
   "source": [
    " ChIP-seq analysis"
   ]
  },
  {
   "cell_type": "markdown",
   "id": "faeee7f0-10cd-41c6-be2f-dc392e22c2d7",
   "metadata": {},
   "source": [
    "# peak calling using macs2\n",
    "with INP file as the background"
   ]
  },
  {
   "cell_type": "markdown",
   "id": "f1d6aa20-af3e-4487-ae80-a0cca55cce52",
   "metadata": {},
   "source": [
    "### the peak calling for one sample takes a about 10min time. "
   ]
  },
  {
   "cell_type": "code",
   "execution_count": 4,
   "id": "ec508191-0e7c-466b-bdd0-f6820362a250",
   "metadata": {},
   "outputs": [
    {
     "name": "stdout",
     "output_type": "stream",
     "text": [
      "[+] Loading singularity  3.7.4  on cn0943 \n",
      "[+] Loading macs  2.2.7.1 \n"
     ]
    }
   ],
   "source": [
    "module load macs"
   ]
  },
  {
   "cell_type": "code",
   "execution_count": 21,
   "id": "64fcef31-3a86-4d43-9611-98fe294f1a92",
   "metadata": {},
   "outputs": [
    {
     "name": "stdout",
     "output_type": "stream",
     "text": [
      "  -B, --\u001b[01;31m\u001b[Kbdg\u001b[m\u001b[K             Whether or not to save extended fragment pileup, and\n",
      "                        \u001b[01;31m\u001b[Kbdg\u001b[m\u001b[Kcmp and \u001b[01;31m\u001b[Kbdg\u001b[m\u001b[Kpeakcall, you shouldn't use this option\n"
     ]
    }
   ],
   "source": [
    "macs2 callpeak --help | grep bdg"
   ]
  },
  {
   "cell_type": "code",
   "execution_count": 5,
   "id": "be9483b3-d69c-4599-8999-4fbf915abf49",
   "metadata": {},
   "outputs": [
    {
     "name": "stdout",
     "output_type": "stream",
     "text": [
      "INFO  @ Thu, 17 Jun 2021 12:34:21: \n",
      "# Command line: callpeak -t sam/STAT1_6h_IFNa.bam -c sam/INP_6h_IFNa_11E6.bam -n STAT1_6h_IFNa -g hs --bdg -q 0.05 -f BAM\n",
      "# ARGUMENTS LIST:\n",
      "# name = STAT1_6h_IFNa\n",
      "# format = BAM\n",
      "# ChIP-seq file = ['sam/STAT1_6h_IFNa.bam']\n",
      "# control file = ['sam/INP_6h_IFNa_11E6.bam']\n",
      "# effective genome size = 2.70e+09\n",
      "# band width = 300\n",
      "# model fold = [5, 50]\n",
      "# qvalue cutoff = 5.00e-02\n",
      "# The maximum gap between significant sites is assigned as the read length/tag size.\n",
      "# The minimum length of peaks is assigned as the predicted fragment length \"d\".\n",
      "# Larger dataset will be scaled towards smaller dataset.\n",
      "# Range for calculating regional lambda is: 1000 bps and 10000 bps\n",
      "# Broad region calling is off\n",
      "# Paired-End mode is off\n",
      " \n",
      "INFO  @ Thu, 17 Jun 2021 12:34:21: #1 read tag files... \n",
      "INFO  @ Thu, 17 Jun 2021 12:34:21: #1 read treatment tags... \n",
      "INFO  @ Thu, 17 Jun 2021 12:34:36:  1000000 \n",
      "INFO  @ Thu, 17 Jun 2021 12:34:50:  2000000 \n",
      "INFO  @ Thu, 17 Jun 2021 12:35:04:  3000000 \n",
      "INFO  @ Thu, 17 Jun 2021 12:35:18:  4000000 \n",
      "INFO  @ Thu, 17 Jun 2021 12:35:33:  5000000 \n",
      "INFO  @ Thu, 17 Jun 2021 12:35:47:  6000000 \n",
      "INFO  @ Thu, 17 Jun 2021 12:36:01:  7000000 \n",
      "INFO  @ Thu, 17 Jun 2021 12:36:15:  8000000 \n",
      "INFO  @ Thu, 17 Jun 2021 12:36:29:  9000000 \n",
      "INFO  @ Thu, 17 Jun 2021 12:36:43:  10000000 \n",
      "INFO  @ Thu, 17 Jun 2021 12:36:57:  11000000 \n",
      "INFO  @ Thu, 17 Jun 2021 12:36:58: 11100766 reads have been read. \n",
      "INFO  @ Thu, 17 Jun 2021 12:37:02: #1.2 read input tags... \n",
      "INFO  @ Thu, 17 Jun 2021 12:37:16:  1000000 \n",
      "INFO  @ Thu, 17 Jun 2021 12:37:29:  2000000 \n",
      "INFO  @ Thu, 17 Jun 2021 12:37:42:  3000000 \n",
      "INFO  @ Thu, 17 Jun 2021 12:37:56:  4000000 \n",
      "INFO  @ Thu, 17 Jun 2021 12:38:11:  5000000 \n",
      "INFO  @ Thu, 17 Jun 2021 12:38:25:  6000000 \n",
      "INFO  @ Thu, 17 Jun 2021 12:38:40:  7000000 \n",
      "INFO  @ Thu, 17 Jun 2021 12:38:55:  8000000 \n",
      "INFO  @ Thu, 17 Jun 2021 12:39:10:  9000000 \n",
      "INFO  @ Thu, 17 Jun 2021 12:39:25:  10000000 \n",
      "INFO  @ Thu, 17 Jun 2021 12:39:39:  11000000 \n",
      "INFO  @ Thu, 17 Jun 2021 12:39:42: 11149839 reads have been read. \n",
      "INFO  @ Thu, 17 Jun 2021 12:39:45: #1 tag size is determined as 27 bps \n",
      "INFO  @ Thu, 17 Jun 2021 12:39:45: #1 tag size = 27.0 \n",
      "INFO  @ Thu, 17 Jun 2021 12:39:45: #1  total tags in treatment: 11100766 \n",
      "INFO  @ Thu, 17 Jun 2021 12:39:45: #1 user defined the maximum tags... \n",
      "INFO  @ Thu, 17 Jun 2021 12:39:45: #1 filter out redundant tags at the same location and the same strand by allowing at most 1 tag(s) \n",
      "INFO  @ Thu, 17 Jun 2021 12:39:45: #1  tags after filtering in treatment: 10667469 \n",
      "INFO  @ Thu, 17 Jun 2021 12:39:45: #1  Redundant rate of treatment: 0.04 \n",
      "INFO  @ Thu, 17 Jun 2021 12:39:45: #1  total tags in control: 11149839 \n",
      "INFO  @ Thu, 17 Jun 2021 12:39:45: #1 user defined the maximum tags... \n",
      "INFO  @ Thu, 17 Jun 2021 12:39:45: #1 filter out redundant tags at the same location and the same strand by allowing at most 1 tag(s) \n",
      "INFO  @ Thu, 17 Jun 2021 12:39:46: #1  tags after filtering in control: 10910067 \n",
      "INFO  @ Thu, 17 Jun 2021 12:39:46: #1  Redundant rate of control: 0.02 \n",
      "INFO  @ Thu, 17 Jun 2021 12:39:46: #1 finished! \n",
      "INFO  @ Thu, 17 Jun 2021 12:39:46: #2 Build Peak Model... \n",
      "INFO  @ Thu, 17 Jun 2021 12:39:46: #2 looking for paired plus/minus strand peaks... \n",
      "INFO  @ Thu, 17 Jun 2021 12:40:01: #2 number of paired peaks: 9646 \n",
      "INFO  @ Thu, 17 Jun 2021 12:40:01: start model_add_line... \n",
      "INFO  @ Thu, 17 Jun 2021 12:40:03: start X-correlation... \n",
      "INFO  @ Thu, 17 Jun 2021 12:40:03: end of X-cor \n",
      "INFO  @ Thu, 17 Jun 2021 12:40:03: #2 finished! \n",
      "INFO  @ Thu, 17 Jun 2021 12:40:03: #2 predicted fragment length is 27 bps \n",
      "INFO  @ Thu, 17 Jun 2021 12:40:03: #2 alternative fragment length(s) may be 27,81,106 bps \n",
      "INFO  @ Thu, 17 Jun 2021 12:40:03: #2.2 Generate R script for model : STAT1_6h_IFNa_model.r \n",
      "WARNING @ Thu, 17 Jun 2021 12:40:03: #2 Since the d (27) calculated from paired-peaks are smaller than 2*tag length, it may be influenced by unknown sequencing problem! \n",
      "WARNING @ Thu, 17 Jun 2021 12:40:03: #2 You may need to consider one of the other alternative d(s): 27,81,106 \n",
      "WARNING @ Thu, 17 Jun 2021 12:40:03: #2 You can restart the process with --nomodel --extsize XXX with your choice or an arbitrary number. Nontheless, MACS will continute computing. \n",
      "INFO  @ Thu, 17 Jun 2021 12:40:03: #3 Call peaks... \n",
      "INFO  @ Thu, 17 Jun 2021 12:40:03: #3 Pre-compute pvalue-qvalue table... \n",
      "INFO  @ Thu, 17 Jun 2021 12:41:43: #3 In the peak calling step, the following will be performed simultaneously: \n",
      "INFO  @ Thu, 17 Jun 2021 12:41:43: #3   Write bedGraph files for treatment pileup (after scaling if necessary)... STAT1_6h_IFNa_treat_pileup.bdg \n",
      "INFO  @ Thu, 17 Jun 2021 12:41:43: #3   Write bedGraph files for control lambda (after scaling if necessary)... STAT1_6h_IFNa_control_lambda.bdg \n",
      "INFO  @ Thu, 17 Jun 2021 12:41:43: #3   Pileup will be based on sequencing depth in treatment. \n",
      "INFO  @ Thu, 17 Jun 2021 12:41:43: #3 Call peaks for each chromosome... \n",
      "INFO  @ Thu, 17 Jun 2021 12:42:43: #4 Write output xls file... STAT1_6h_IFNa_peaks.xls \n",
      "INFO  @ Thu, 17 Jun 2021 12:42:43: #4 Write peak in narrowPeak format file... STAT1_6h_IFNa_peaks.narrowPeak \n",
      "INFO  @ Thu, 17 Jun 2021 12:42:43: #4 Write summits bed file... STAT1_6h_IFNa_summits.bed \n",
      "INFO  @ Thu, 17 Jun 2021 12:42:43: Done! \n",
      "8 minutes and 27 seconds elapsed.\n"
     ]
    }
   ],
   "source": [
    "#macs2 callpeak -t sam/STAT1_30m_IFNa.sam -c norm_INP_30m_IFNa.sam -n STAT1_30m_IFNa -g hs --bdg -q 0.05 -f SAM\n",
    "\n",
    "# optimized for biowulf\n",
    "SECONDS=0\n",
    "macs2 callpeak -t sam/STAT1_6h_IFNa.bam -c sam/INP_6h_IFNa_11E6.bam -n STAT1_6h_IFNa -g hs --bdg -q 0.05 -f BAM\n",
    "\n",
    "duration=$SECONDS\n",
    "echo \"$(($duration / 60)) minutes and $(($duration % 60)) seconds elapsed.\""
   ]
  },
  {
   "cell_type": "code",
   "execution_count": 2,
   "id": "1ac5bf30-f2d7-458f-a1c0-fc75174b60d8",
   "metadata": {},
   "outputs": [
    {
     "name": "stdout",
     "output_type": "stream",
     "text": [
      "bash: macs2: command not found\n"
     ]
    },
    {
     "ename": "",
     "evalue": "127",
     "execution_count": 2,
     "output_type": "error",
     "traceback": []
    }
   ],
   "source": [
    "macs2 callpeak -t sam/STAT1_30m_IFNa.bam -c sam/INP_30m_IFNa_11E6.bam -n STAT1_30m_IFNa -g hs --bdg -q 0.05 -f BAM"
   ]
  },
  {
   "cell_type": "markdown",
   "id": "4c020162-d22a-44b5-a2b0-3cfbfa9c9ba8",
   "metadata": {},
   "source": [
    "# download two scripts to convert file types"
   ]
  },
  {
   "cell_type": "code",
   "execution_count": null,
   "id": "e7668803-09b8-4d58-bc2e-9c8515830018",
   "metadata": {},
   "outputs": [],
   "source": [
    "wget http://hgdownload.soe.ucsc.edu/admin/exe/linux.x86_64.v369/bedGraphToBigWig\n",
    "wget http://hgdownload.soe.ucsc.edu/admin/exe/linux.x86_64.v369/fetchChromSizes\n",
    "# make them executable\n",
    "chmod 755 bedGraphToBigWig \n",
    "chmod 755 fetchChromSizes "
   ]
  },
  {
   "cell_type": "markdown",
   "id": "2d524905-f8a9-4684-a281-20516fa79a52",
   "metadata": {},
   "source": [
    "### chomSizes will be used to normalize the depth?"
   ]
  },
  {
   "cell_type": "code",
   "execution_count": 9,
   "id": "7e33bec1-9813-4dd4-b561-b140d2beea36",
   "metadata": {},
   "outputs": [
    {
     "name": "stdout",
     "output_type": "stream",
     "text": [
      "INFO: trying CURL /usr/bin/curl for database hg19\n",
      "url: http://hgdownload.cse.ucsc.edu/goldenPath/hg19/bigZips/hg19.chrom.sizes\n"
     ]
    }
   ],
   "source": [
    " ./fetchChromSizes hg19 >hg19.chrom.sizes"
   ]
  },
  {
   "cell_type": "markdown",
   "id": "07a62460-5829-4852-b8a1-c782c9c9e00f",
   "metadata": {},
   "source": [
    "# Convert bedgraph to wiggle for downstream programs IGB and CEAS"
   ]
  },
  {
   "cell_type": "code",
   "execution_count": null,
   "id": "7832c02d-3f3d-4721-a0da-cc3a37a89e16",
   "metadata": {},
   "outputs": [],
   "source": [
    "./bedGraphToBigWig peak/STAT1_6h_IFNa_treat_pileup.bdg hg19.chrom.sizes STAT1_6h_IFNa.bigwig\n",
    "./bedGraphToBigWig peak/STAT1_6h_IFNa_control_lambda.bdg hg19.chrom.sizes INP_6h_IFNa.bigwig"
   ]
  },
  {
   "cell_type": "markdown",
   "id": "602bd3ac-1bed-4778-8ab6-dadd84857e96",
   "metadata": {},
   "source": [
    "# \n",
    "## selected fields from narrowPeak to form bed file"
   ]
  },
  {
   "cell_type": "code",
   "execution_count": null,
   "id": "186b736f-ab69-457a-ab6a-ab381b45970b",
   "metadata": {},
   "outputs": [],
   "source": [
    "cut -f1,2,3,4 STAT1_6h_IFNa_peaks.narrowPeak > STAT1_6h_IFNa_peaks.bed"
   ]
  },
  {
   "cell_type": "code",
   "execution_count": 11,
   "id": "17d69098-2bf2-432d-8b8a-89ac05e19c20",
   "metadata": {
    "tags": []
   },
   "outputs": [
    {
     "name": "stdout",
     "output_type": "stream",
     "text": [
      "--2021-06-14 22:24:20--  http://gist.github.com/svigneau/8846527/raw/7fdf60b379245904f1aeb02427e098c06aeb670e/%2520bedgraph_to_wig.pl\n",
      "Resolving dtn07-e0 (dtn07-e0)... 10.1.200.243\n",
      "Connecting to dtn07-e0 (dtn07-e0)|10.1.200.243|:3128... connected.\n",
      "Proxy request sent, awaiting response... 301 Moved Permanently\n",
      "Location: https://gist.github.com/svigneau/8846527/raw/7fdf60b379245904f1aeb02427e098c06aeb670e/%2520bedgraph_to_wig.pl [following]\n",
      "--2021-06-14 22:24:20--  https://gist.github.com/svigneau/8846527/raw/7fdf60b379245904f1aeb02427e098c06aeb670e/%2520bedgraph_to_wig.pl\n",
      "Connecting to dtn07-e0 (dtn07-e0)|10.1.200.243|:3128... connected.\n",
      "Proxy request sent, awaiting response... 301 Moved Permanently\n",
      "Location: https://gist.githubusercontent.com/svigneau/8846527/raw/7fdf60b379245904f1aeb02427e098c06aeb670e/%2520bedgraph_to_wig.pl [following]\n",
      "--2021-06-14 22:24:20--  https://gist.githubusercontent.com/svigneau/8846527/raw/7fdf60b379245904f1aeb02427e098c06aeb670e/%2520bedgraph_to_wig.pl\n",
      "Connecting to dtn07-e0 (dtn07-e0)|10.1.200.243|:3128... connected.\n",
      "Proxy request sent, awaiting response... 200 OK\n",
      "Length: 4832 (4.7K) [text/plain]\n",
      "Saving to: ‘%20bedgraph_to_wig.pl’\n",
      "\n",
      "100%[======================================>] 4,832       --.-K/s   in 0s      \n",
      "\n",
      "2021-06-14 22:24:21 (92.1 MB/s) - ‘%20bedgraph_to_wig.pl’ saved [4832/4832]\n",
      "\n"
     ]
    }
   ],
   "source": [
    "wget gist.github.com/svigneau/8846527/raw/7fdf60b379245904f1aeb02427e098c06aeb670e/%2520bedgraph_to_wig.pl"
   ]
  },
  {
   "cell_type": "code",
   "execution_count": 12,
   "id": "96537d00-6a2a-42dc-b801-4210106cf580",
   "metadata": {},
   "outputs": [],
   "source": [
    "# mv %20bedgraph_to_wig.pl bedgraph_to_wig.pl"
   ]
  },
  {
   "cell_type": "markdown",
   "id": "365ddac9-895c-4aa0-9419-aae71a850ba0",
   "metadata": {},
   "source": [
    "# Convert bedgraph to wig file (signal file?), for visualization in the IGB browser"
   ]
  },
  {
   "cell_type": "code",
   "execution_count": 23,
   "id": "6d5ac7e0-c96b-4a91-8c24-b272acd29e1e",
   "metadata": {},
   "outputs": [
    {
     "name": "stdout",
     "output_type": "stream",
     "text": [
      "Unknown option: help\n",
      "Error in command line arguments!\n",
      "Usage: bedgraph_to_wig.pl --bedgraph <infile.bedgraph> --wig <outfile.wig> --step <step_size> [--compact]\n",
      "\n"
     ]
    },
    {
     "ename": "",
     "evalue": "255",
     "execution_count": 23,
     "output_type": "error",
     "traceback": []
    }
   ],
   "source": [
    "perl bedgraph_to_wig.pl --help"
   ]
  },
  {
   "cell_type": "code",
   "execution_count": null,
   "id": "7845cf8d-09cc-4782-a765-57fff02422e2",
   "metadata": {},
   "outputs": [],
   "source": [
    "perl bedgraph_to_wig.pl --bedgraph peak/STAT1_6h_IFNa_treat_pileup.bdg --wig STAT1_6h_IFNa.wig --step 50\n",
    "perl bedgraph_to_wig.pl --bedgraph peak/STAT1_6h_IFNa_control_lambda.bdg --wig INP_6h_IFNa.wig --step 50\n",
    "perl bedgraph_to_wig.pl --bedgraph peak/STAT1_30m_IFNa_treat_pileup.bdg --wig STAT1_30m_IFNa.wig --step 50\n",
    "perl bedgraph_to_wig.pl --bedgraph peak/STAT1_30m_IFNa_control_lambda.bdg --wig INP_30m_IFNa.wig --step 50"
   ]
  },
  {
   "cell_type": "markdown",
   "id": "eb587943-41d9-41f3-8cef-d310cee57ce0",
   "metadata": {},
   "source": [
    "# Visualization in IGB"
   ]
  },
  {
   "cell_type": "code",
   "execution_count": null,
   "id": "3b636771-f39a-4159-8100-17335f986208",
   "metadata": {},
   "outputs": [],
   "source": [
    "# on local computer, transfer files \n",
    "# install IGB,https://www.bioviz.org/otherDownloads.html \n",
    "mkdir CHIPseq_workshop\n",
    "cd CHIPseq_workshop\n",
    "scp zhuy16@helix.nih.gov:/spin1/users/classes/NIEHS_NGS/workshop/chip-seq/STAT1_6h_IFNa.wig .\n",
    "scp zhuy16@helix.nih.gov:/spin1/users/classes/NIEHS_NGS/workshop/chip-seq/STAT1_30m_IFNa.wig .\n",
    "scp zhuy16@helix.nih.gov:/spin1/users/classes/NIEHS_NGS/workshop/chip-seq/INP_6h_IFNa.wig .\n",
    "scp zhuy16@helix.nih.gov:/spin1/users/classes/NIEHS_NGS/workshop/chip-seq/INP_30m_IFNa.wig .\n",
    "drag these files into the IGB window to visualize"
   ]
  },
  {
   "cell_type": "markdown",
   "id": "d4011e77-0163-4cc5-9cad-8c822e7a9d18",
   "metadata": {},
   "source": [
    "Procedure\n",
    "1. load IGB\n",
    "2. Species --> Homo sapiens \n",
    "3. genome version --> H_sapiens_Feb_2009\n",
    "4. Drag .bdg .bigwig .bed files to the window.\n",
    "5. click 'load data'\n",
    "6. at the bottom --> click 'Advanced Search'-->IFIT1\n",
    "7. select tracks and adjust scales --> at the bottom --> click 'Graph'\n",
    "8. compare .bdg, .bigwig, .narrowpeak, .bed file format and see how they differ."
   ]
  }
 ],
 "metadata": {
  "kernelspec": {
   "display_name": "Bash",
   "language": "bash",
   "name": "bash"
  },
  "language_info": {
   "codemirror_mode": "shell",
   "file_extension": ".sh",
   "mimetype": "text/x-sh",
   "name": "bash"
  }
 },
 "nbformat": 4,
 "nbformat_minor": 5
}
