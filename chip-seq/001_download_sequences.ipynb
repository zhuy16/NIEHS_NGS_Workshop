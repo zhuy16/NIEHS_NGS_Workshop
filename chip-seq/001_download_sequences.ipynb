{
 "cells": [
  {
   "cell_type": "markdown",
   "id": "8223958b-7418-484d-b692-7fe3834a5abc",
   "metadata": {},
   "source": [
    " ChIP-seq analysis"
   ]
  },
  {
   "cell_type": "markdown",
   "id": "f5c3df7d-0e39-4270-80c0-227c340d974c",
   "metadata": {},
   "source": [
    "# align with bowtie2"
   ]
  },
  {
   "cell_type": "code",
   "execution_count": 4,
   "id": "678819ab-3360-437a-bc60-b14028354851",
   "metadata": {},
   "outputs": [],
   "source": [
    "# more details in this presentation \n",
    "# https://qcb.ucla.edu/collaboratory/workshops/w7-chip-seq-analysis/"
   ]
  },
  {
   "cell_type": "code",
   "execution_count": 5,
   "id": "e09b6dff-38f7-45e4-9ff5-788a6d337e1e",
   "metadata": {},
   "outputs": [],
   "source": [
    "# This workshop is for biologists to get familiar with codeing. \n",
    "# By no mean this will conver the most advanced development in the field, but I will share my experience, learning bioinformatics as a wet lab biologist. \n",
    "# And will mention some new trends in the field for future direction to look into. \n",
    "\n",
    "# I am also not native English speaker, be aware of typo issues and let me know. \n",
    "# I work at NIAID. this training is more of personal training. \n",
    "# Let me know if you have suggestions. \n",
    "\n",
    "# runing time of some of the computation can be long, we will not wait until if finishes. \n",
    "# I have intermediate cells, you can copy and from the shared folder. \n",
    "# There will be a month of time for you to try, after the workshop. \n",
    "# you can contact me at zhuy16@nih.gov."
   ]
  },
  {
   "cell_type": "code",
   "execution_count": 6,
   "id": "f55d4985-e153-4314-825d-0e3a607f668d",
   "metadata": {},
   "outputs": [
    {
     "name": "stdout",
     "output_type": "stream",
     "text": [
      "/spin1/users/classes/NIEHS_NGS/NIEHS_NGS_Workshop/chip-seq\n"
     ]
    }
   ],
   "source": [
    "pwd"
   ]
  },
  {
   "cell_type": "code",
   "execution_count": 7,
   "id": "f7c0cc28-a555-45e9-80c2-ba1c611b18ed",
   "metadata": {},
   "outputs": [],
   "source": [
    "#ls"
   ]
  },
  {
   "cell_type": "markdown",
   "id": "b676be67-b701-4c68-94e1-02932c1445a3",
   "metadata": {},
   "source": [
    "### sratoolkit already installed on biowulf"
   ]
  },
  {
   "cell_type": "code",
   "execution_count": 8,
   "id": "27f228ac-7323-478a-841a-8078e7f54d42",
   "metadata": {},
   "outputs": [
    {
     "name": "stdout",
     "output_type": "stream",
     "text": [
      "[+] Loading sratoolkit 2.9.6  ... \n"
     ]
    }
   ],
   "source": [
    "module load sratoolkit/2.9.6"
   ]
  },
  {
   "cell_type": "code",
   "execution_count": 9,
   "id": "4c9841bd-ff82-44f9-b0a0-f141c5c53d07",
   "metadata": {},
   "outputs": [],
   "source": [
    "# fastq-dump -Z SRR502329 > data/STAT1_30m_IFNa.fastq"
   ]
  },
  {
   "cell_type": "code",
   "execution_count": 10,
   "id": "cfd8be41-5b34-4125-9937-946f8e404788",
   "metadata": {},
   "outputs": [],
   "source": [
    "# fastq-dump -Z SRR502327 > data/STAT1_6h_IFNa.fastq\n",
    "# fastq-dump -Z SRR502228 > data/INP_30m_IFNa.fastq\n",
    "# fastq-dump -Z SRR502225 > data/INP_6h_IFNa.fastq"
   ]
  },
  {
   "cell_type": "code",
   "execution_count": 11,
   "id": "9f886124-cfb3-4afa-97e1-fcf7554a3683",
   "metadata": {},
   "outputs": [],
   "source": [
    "#rm STAT1_30m_IFNa.fastq"
   ]
  },
  {
   "cell_type": "code",
   "execution_count": 12,
   "id": "6f75d1e3-ada4-41b8-b5e2-0b0dc9e08633",
   "metadata": {},
   "outputs": [
    {
     "name": "stdout",
     "output_type": "stream",
     "text": [
      "[+] Loading bowtie  2-2.4.4 \n",
      "[+] Loading samtools 1.12  ... \n"
     ]
    }
   ],
   "source": [
    "module load bowtie/2 samtools"
   ]
  },
  {
   "cell_type": "markdown",
   "id": "efee7fd2-2e5d-44cf-a508-baf3555dd7f4",
   "metadata": {},
   "source": [
    "### bowtie2 genome index on biowulf reference "
   ]
  },
  {
   "cell_type": "code",
   "execution_count": 13,
   "id": "a189706c-78f3-4bac-b14f-e79e8f6336d5",
   "metadata": {},
   "outputs": [
    {
     "name": "stdout",
     "output_type": "stream",
     "text": [
      "00DOWNLOAD.log            \u001b[0m\u001b[1;93mCanis_familiaris\u001b[0m         \u001b[1;93mPhiX\u001b[0m\n",
      "00DOWNLOADS_20160309.log  \u001b[1;93mDanio_rerio\u001b[0m              \u001b[1;93mRattus_norvegicus\u001b[0m\n",
      "\u001b[38;5;34m00DOWNLOAD.sh\u001b[0m             \u001b[1;93mDrosophila_melanogaster\u001b[0m  \u001b[1;93mSaccharomyces_cerevisiae\u001b[0m\n",
      "00DOWNLOAD.sh~            \u001b[1;93mGallus_gallus\u001b[0m            \u001b[1;93mSchizosaccharomyces_pombe\u001b[0m\n",
      "00DOWNLOAD.sh.200813      \u001b[1;93mHomo_sapiens\u001b[0m             \u001b[1;93mSus_scrofa\u001b[0m\n",
      "\u001b[1;93mArabidopsis_thaliana\u001b[0m      \u001b[1;93mMacaca_mulatta\u001b[0m           \u001b[1;93mtemp\u001b[0m\n",
      "\u001b[1;93mBos_taurus\u001b[0m                \u001b[1;93mMus_musculus\u001b[0m             \u001b[1;93mZea_mays\u001b[0m\n",
      "\u001b[1;93mCaenorhabditis_elegans\u001b[0m    \u001b[1;93mPan_troglodytes\u001b[0m\n"
     ]
    }
   ],
   "source": [
    "ls /fdb/igenomes/"
   ]
  },
  {
   "cell_type": "code",
   "execution_count": 14,
   "id": "7d425a6a-e053-4f34-9ab6-7ec3bac1a827",
   "metadata": {},
   "outputs": [
    {
     "name": "stdout",
     "output_type": "stream",
     "text": [
      "\u001b[0m\u001b[38;5;34mgenome.1.bt2\u001b[0m  \u001b[38;5;34mgenome.3.bt2\u001b[0m  \u001b[38;5;51mgenome.fa\u001b[0m      \u001b[38;5;34mgenome.rev.1.bt2\u001b[0m\n",
      "\u001b[38;5;34mgenome.2.bt2\u001b[0m  \u001b[38;5;34mgenome.4.bt2\u001b[0m  \u001b[38;5;34mgenome.fa.fai\u001b[0m  \u001b[38;5;34mgenome.rev.2.bt2\u001b[0m\n"
     ]
    }
   ],
   "source": [
    "ls /fdb/igenomes/Homo_sapiens/UCSC/hg19/Sequence/Bowtie2Index/"
   ]
  },
  {
   "cell_type": "code",
   "execution_count": 15,
   "id": "d82e3a71-df21-4125-ae11-6f149abf764b",
   "metadata": {},
   "outputs": [],
   "source": [
    "export BOWTIE2_INDEXES=/fdb/igenomes/Homo_sapiens/UCSC/hg19/Sequence/Bowtie2Index/"
   ]
  },
  {
   "cell_type": "markdown",
   "id": "aef49ae2-736b-4336-b753-5bc6ec2bbf10",
   "metadata": {},
   "source": [
    "# the following step 2 & 3 takes a long time (24mins/each) to finish. Don't run them, I have runned them."
   ]
  },
  {
   "cell_type": "code",
   "execution_count": 17,
   "id": "c351c1db-f4f9-4378-96d5-28cb47b53e97",
   "metadata": {},
   "outputs": [
    {
     "name": "stdout",
     "output_type": "stream",
     "text": [
      "21192112 reads; of these:\n",
      "  21192112 (100.00%) were unpaired; of these:\n",
      "    10270948 (48.47%) aligned 0 times\n",
      "    7482711 (35.31%) aligned exactly 1 time\n",
      "    3438453 (16.23%) aligned >1 times\n",
      "51.53% overall alignment rate\n",
      "24 minutes and 55 seconds elapsed.\n"
     ]
    }
   ],
   "source": [
    "# optimized for biowulf\n",
    "SECONDS=0\n",
    "bowtie2  -x genome --threads=4  --no-unal --local -U fastq/STAT1_30m_IFNa.fastq -S 0r_STAT1_30m_IFNa.sam\n",
    "# do some work\n",
    "duration=$SECONDS\n",
    "echo \"$(($duration / 60)) minutes and $(($duration % 60)) seconds elapsed.\""
   ]
  },
  {
   "cell_type": "markdown",
   "id": "5fa417d0-a719-4e0d-83f3-b8efcf0d350f",
   "metadata": {},
   "source": [
    "# batch processing"
   ]
  },
  {
   "cell_type": "code",
   "execution_count": 18,
   "id": "471f200c-c0cf-48b3-966a-de428add9465",
   "metadata": {},
   "outputs": [],
   "source": [
    "#mkdir 0r_script_align"
   ]
  },
  {
   "cell_type": "code",
   "execution_count": 19,
   "id": "7d88eeaf-9f73-4314-9beb-65f56ad2d57c",
   "metadata": {},
   "outputs": [],
   "source": [
    "#cd .."
   ]
  },
  {
   "cell_type": "code",
   "execution_count": 20,
   "id": "2237ded9-f5a0-45fa-9f5d-1c36bbacc22c",
   "metadata": {},
   "outputs": [],
   "source": [
    "#rm -rf 0r_script_align/*"
   ]
  },
  {
   "cell_type": "code",
   "execution_count": 45,
   "id": "8c051ab6-dd28-4407-9a28-465161dd3c25",
   "metadata": {},
   "outputs": [],
   "source": [
    "cd fastq"
   ]
  },
  {
   "cell_type": "markdown",
   "id": "8f01db0a-cbfc-4cda-b965-6e006092a509",
   "metadata": {},
   "source": [
    "### use a script to generate bash script for each sample."
   ]
  },
  {
   "cell_type": "code",
   "execution_count": 46,
   "id": "7089d52d-b234-4cc9-8eae-a12fc9eaf53a",
   "metadata": {},
   "outputs": [],
   "source": [
    "#cat gen_script_align.sh:\n",
    "#!/bin/sh\n",
    "for i in *.fastq \n",
    "do\n",
    "cat <<EOT >> ../0r_script_align/script_align_$(echo $i | sed 's/.fastq//g').sh\n",
    "#!/bin/sh\n",
    "module load samtools\n",
    "module load bowtie/2\n",
    "bowtie2  -x genome --threads=4  --no-unal --local -U fastq/$i -S sam/$(echo $i | sed 's/.fastq//g').sam\n",
    "EOT\n",
    "done"
   ]
  },
  {
   "cell_type": "code",
   "execution_count": 50,
   "id": "aa414249-e0d2-44e6-9d5b-825c6fb210ca",
   "metadata": {},
   "outputs": [],
   "source": [
    "cd .."
   ]
  },
  {
   "cell_type": "markdown",
   "id": "de3fc1b0-727f-47c1-8cd3-8e46328bffe7",
   "metadata": {},
   "source": [
    "### submit each script for alignment"
   ]
  },
  {
   "cell_type": "code",
   "execution_count": 51,
   "id": "fcdb3c21-ce07-4635-924d-393a9eeb5792",
   "metadata": {},
   "outputs": [
    {
     "name": "stdout",
     "output_type": "stream",
     "text": [
      "0r_script_align/script_align_INP_30m_IFNa.sh\n",
      "0r_script_align/script_align_INP_6h_IFNa.sh\n",
      "0r_script_align/script_align_STAT1_30m_IFNa.sh\n",
      "0r_script_align/script_align_STAT1_6h_IFNa.sh\n"
     ]
    }
   ],
   "source": [
    "for i in 0r_script_align/script_align_*.sh; do echo $i; done"
   ]
  },
  {
   "cell_type": "code",
   "execution_count": 52,
   "id": "f17dfd7e-844d-4f29-9ad6-d66bcf141cbf",
   "metadata": {},
   "outputs": [
    {
     "name": "stdout",
     "output_type": "stream",
     "text": [
      "17070404\n",
      "17070405\n",
      "17070409\n",
      "17070411\n"
     ]
    }
   ],
   "source": [
    "for i in 0r_script_align/script_align_*.sh; do sbatch --cpus-per-task=4 --mem=10g --gres=lscratch:10 $i; done"
   ]
  },
  {
   "cell_type": "code",
   "execution_count": 53,
   "id": "ba145b6e-aa51-4963-88ca-0e45f04c1d7f",
   "metadata": {},
   "outputs": [],
   "source": [
    "# same as this:\n",
    "# sbatch --cpus-per-task=4 --mem=10g --gres=lscratch:10 0r_script_align/script_align_STAT1_30m_IFNa.sh \n",
    "# sbatch --cpus-per-task=4 --mem=10g --gres=lscratch:10 0r_script_align/script_align_STAT1_6h_IFNa.sh \n",
    "# sbatch --cpus-per-task=4 --mem=10g --gres=lscratch:10 0r_script_align/script_align_INP_30m_IFNa.sh \n",
    "# sbatch --cpus-per-task=4 --mem=10g --gres=lscratch:10 0r_script_align/script_align_INP_6h_IFNa.sh "
   ]
  },
  {
   "cell_type": "markdown",
   "id": "369312e9-6fa7-45bf-a148-5b9c29ae848b",
   "metadata": {},
   "source": [
    "# remove mitochondrial reads, unknown chr reads, convert sam to bam files."
   ]
  },
  {
   "cell_type": "code",
   "execution_count": 21,
   "id": "2dab2b1a-0141-4095-9a1e-86de56b1def1",
   "metadata": {},
   "outputs": [
    {
     "name": "stdout",
     "output_type": "stream",
     "text": [
      "[-] Unloading samtools 1.12  ... \n",
      "[+] Loading samtools 1.12  ... \n"
     ]
    }
   ],
   "source": [
    "module load samtools"
   ]
  },
  {
   "cell_type": "markdown",
   "id": "ed0087e5-9ca6-4660-ae51-bc54b17c0692",
   "metadata": {},
   "source": [
    "### convert sam files to bam files using samtools view\n",
    "1. filter and remove alignments to mitochondria and uncharacterized locations.\n",
    "2. convert sam to bam files.\n",
    "3. count the total number of depth"
   ]
  },
  {
   "cell_type": "code",
   "execution_count": 1,
   "id": "bbbcaf34-169a-44cf-be4c-5e881be1a584",
   "metadata": {},
   "outputs": [
    {
     "name": "stdout",
     "output_type": "stream",
     "text": [
      "sed '/chrM/d;/chrUn/d' $1.sam > $1_filtered.sam\n",
      "samtools view -S -b $1_filtered.sam > $1.bam\n",
      "samtools view -c $1.bam\n"
     ]
    }
   ],
   "source": [
    "cat bam.sh"
   ]
  },
  {
   "cell_type": "code",
   "execution_count": null,
   "id": "b7267c13-b4ca-48dc-820b-f298818e143d",
   "metadata": {},
   "outputs": [],
   "source": [
    "./bam.sh sam/STAT1_30m_IFNa\n",
    "#10848585\n",
    "./bam.sh sam/STAT1_6h_IFNa\n",
    "#11100766           \n",
    "./bam.sh sam/INP_30m_IFNa\n",
    "#19147013\n",
    "./bam.sh sam/INP_6h_IFNa\n",
    "#19769206"
   ]
  },
  {
   "cell_type": "code",
   "execution_count": 8,
   "id": "b171ed42-9359-4ba0-addb-8e6953c7cddc",
   "metadata": {},
   "outputs": [
    {
     "name": "stdout",
     "output_type": "stream",
     "text": [
      "19769206\n"
     ]
    }
   ],
   "source": [
    "#samtools view -c done_sam/INP_6h_IFNa.bam"
   ]
  },
  {
   "cell_type": "code",
   "execution_count": null,
   "id": "ade53b49-99b8-4c1f-811d-b7f4d2621b55",
   "metadata": {},
   "outputs": [],
   "source": [
    "# normalization to library size"
   ]
  },
  {
   "cell_type": "code",
   "execution_count": null,
   "id": "466c9cf3-9955-4501-a9c0-5d8931dab2f6",
   "metadata": {},
   "outputs": [],
   "source": [
    "samtools view -b -s 1.538 sam/INP_30m_IFNa.bam > sam/INP_30m_IFNa_11E6.bam\n",
    "samtools view -b -s 1.564 sam/INP_6h_IFNa.bam > sam/INP_6h_IFNa_11E6.bam"
   ]
  },
  {
   "cell_type": "code",
   "execution_count": 24,
   "id": "7fac2dae-c737-42a5-9953-5a88ae6e8388",
   "metadata": {},
   "outputs": [
    {
     "name": "stdout",
     "output_type": "stream",
     "text": [
      "samtools view: unrecognised option '--help'\n",
      "\n",
      "Usage: samtools view [options] <in.bam>|<in.sam>|<in.cram> [region ...]\n",
      "\n",
      "Options:\n",
      "  -b       output BAM\n",
      "  -C       output CRAM (requires -T)\n",
      "  -1       use fast BAM compression (implies -b)\n",
      "  -u       uncompressed BAM output (implies -b)\n",
      "  -h       include header in SAM output\n",
      "  -H       print SAM header only (no alignments)\n",
      "  -c       print only the count of matching records\n",
      "  -o FILE  output file name [stdout]\n",
      "  -U FILE  output reads not selected by filters to FILE [null]\n",
      "  -t FILE  FILE listing reference names and lengths (see long help) [null]\n",
      "  -X       include customized index file\n",
      "  -L FILE  only include reads overlapping this BED FILE [null]\n",
      "  -r STR   only include reads in read group STR [null]\n",
      "  -R FILE  only include reads with read group listed in FILE [null]\n",
      "  -N FILE  only include reads with read name listed in FILE [null]\n",
      "  -d STR1[:STR2]\n",
      "           only include reads with tag STR1 and associated value STR2 [null]\n",
      "           The value can be omitted, in which case only the tag is considered\n",
      "  -D STR:FILE\n",
      "           only include reads with tag STR and associated values listed in\n",
      "           FILE [null]\n",
      "  -q INT   only include reads with mapping quality >= INT [0]\n",
      "  -l STR   only include reads in library STR [null]\n",
      "  -m INT   only include reads with number of CIGAR operations consuming\n",
      "           query sequence >= INT [0]\n",
      "  -f INT   only include reads with all  of the FLAGs in INT present [0]\n",
      "  -F INT   only include reads with none of the FLAGS in INT present [0]\n",
      "  -G INT   only EXCLUDE reads with all  of the FLAGs in INT present [0]\n",
      "  -e STR   only include reads matching the filter expression [null]\n",
      "  -s FLOAT subsample reads (given INT.FRAC option value, 0.FRAC is the\n",
      "           fraction of templates/read pairs to keep; INT part sets seed)\n",
      "  -M       use the multi-region iterator (increases the speed, removes\n",
      "           duplicates and outputs the reads as they are ordered in the file)\n",
      "  -x STR   read tag to strip (repeatable) [null]\n",
      "  -B       collapse the backward CIGAR operation\n",
      "  -?       print long help, including note about region specification\n",
      "  -S       ignored (input format is auto-detected)\n",
      "  --no-PG  do not add a PG line\n",
      "      --input-fmt-option OPT[=VAL]\n",
      "               Specify a single input file format option in the form\n",
      "               of OPTION or OPTION=VALUE\n",
      "  -O, --output-fmt FORMAT[,OPT[=VAL]]...\n",
      "               Specify output format (SAM, BAM, CRAM)\n",
      "      --output-fmt-option OPT[=VAL]\n",
      "               Specify a single output file format option in the form\n",
      "               of OPTION or OPTION=VALUE\n",
      "  -T, --reference FILE\n",
      "               Reference sequence FASTA FILE [null]\n",
      "  -@, --threads INT\n",
      "               Number of additional threads to use [0]\n",
      "      --write-index\n",
      "               Automatically index the output files [off]\n",
      "      --verbosity INT\n",
      "               Set level of verbosity\n",
      "\n"
     ]
    },
    {
     "ename": "",
     "evalue": "1",
     "execution_count": 24,
     "output_type": "error",
     "traceback": []
    }
   ],
   "source": [
    "samtools view --help"
   ]
  },
  {
   "cell_type": "code",
   "execution_count": null,
   "id": "308317e9-e536-4e40-9074-b7060d7ab137",
   "metadata": {},
   "outputs": [],
   "source": []
  }
 ],
 "metadata": {
  "kernelspec": {
   "display_name": "Bash",
   "language": "bash",
   "name": "bash"
  },
  "language_info": {
   "codemirror_mode": "shell",
   "file_extension": ".sh",
   "mimetype": "text/x-sh",
   "name": "bash"
  },
  "toc-autonumbering": true
 },
 "nbformat": 4,
 "nbformat_minor": 5
}
