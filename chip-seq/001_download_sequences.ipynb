{
 "cells": [
  {
   "cell_type": "markdown",
   "id": "8223958b-7418-484d-b692-7fe3834a5abc",
   "metadata": {},
   "source": [
    " ChIP-seq analysis"
   ]
  },
  {
   "cell_type": "markdown",
   "id": "f5c3df7d-0e39-4270-80c0-227c340d974c",
   "metadata": {},
   "source": [
    "# align with bowtie2"
   ]
  },
  {
   "cell_type": "code",
   "execution_count": 14,
   "id": "678819ab-3360-437a-bc60-b14028354851",
   "metadata": {},
   "outputs": [],
   "source": [
    "# more details in this presentation https://qcb.ucla.edu/collaboratory/workshops/w7-chip-seq-analysis/"
   ]
  },
  {
   "cell_type": "code",
   "execution_count": null,
   "id": "e09b6dff-38f7-45e4-9ff5-788a6d337e1e",
   "metadata": {},
   "outputs": [],
   "source": [
    "# This workshop is for biologists to get familiar with codeing. \n",
    "# By no mean this will conver the most advanced development in the field, but I will share my experience, learning bioinformatics as a wet lab biologist. \n",
    "# And will mention some new trends in the field for future direction to look into. \n",
    "\n",
    "# I am also not native English speaker, be aware of typo issues and let me know. \n",
    "# I work at NIAID. this training is more of personal training. \n",
    "# Let me know if you have suggestions. \n",
    "\n",
    "# runing time of some of the computation can be long, we will not wait until if finishes. \n",
    "# I have intermediate cells, you can copy and from the shared folder. \n",
    "# There will be a month of time for you to try, after the workshop. \n",
    "# you can contact me at zhuy16@nih.gov."
   ]
  },
  {
   "cell_type": "code",
   "execution_count": 2,
   "id": "f55d4985-e153-4314-825d-0e3a607f668d",
   "metadata": {},
   "outputs": [
    {
     "name": "stdout",
     "output_type": "stream",
     "text": [
      "/spin1/users/classes/NIEHS_NGS/RNA-workshop-2021/chip-seq\n"
     ]
    }
   ],
   "source": [
    "pwd"
   ]
  },
  {
   "cell_type": "code",
   "execution_count": 16,
   "id": "f7c0cc28-a555-45e9-80c2-ba1c611b18ed",
   "metadata": {},
   "outputs": [],
   "source": [
    "#ls"
   ]
  },
  {
   "cell_type": "code",
   "execution_count": 4,
   "id": "27f228ac-7323-478a-841a-8078e7f54d42",
   "metadata": {},
   "outputs": [
    {
     "name": "stdout",
     "output_type": "stream",
     "text": [
      "[+] Loading sratoolkit 2.9.6  ... \n"
     ]
    }
   ],
   "source": [
    "module load sratoolkit/2.9.6"
   ]
  },
  {
   "cell_type": "code",
   "execution_count": 6,
   "id": "4c9841bd-ff82-44f9-b0a0-f141c5c53d07",
   "metadata": {},
   "outputs": [],
   "source": [
    "# fastq-dump -Z SRR502329 > data/STAT1_30m_IFNa.fastq"
   ]
  },
  {
   "cell_type": "code",
   "execution_count": 7,
   "id": "cfd8be41-5b34-4125-9937-946f8e404788",
   "metadata": {},
   "outputs": [],
   "source": [
    "# fastq-dump -Z SRR502327 > data/STAT1_6h_IFNa.fastq\n",
    "# fastq-dump -Z SRR502228 > data/INP_30m_IFNa.fastq\n",
    "# fastq-dump -Z SRR502225 > data/INP_6h_IFNa.fastq"
   ]
  },
  {
   "cell_type": "code",
   "execution_count": 9,
   "id": "9f886124-cfb3-4afa-97e1-fcf7554a3683",
   "metadata": {},
   "outputs": [],
   "source": [
    "#rm STAT1_30m_IFNa.fastq"
   ]
  },
  {
   "cell_type": "code",
   "execution_count": 29,
   "id": "6f75d1e3-ada4-41b8-b5e2-0b0dc9e08633",
   "metadata": {},
   "outputs": [
    {
     "name": "stdout",
     "output_type": "stream",
     "text": [
      "[-] Unloading bowtie  2-2.4.4 \n",
      "[+] Loading bowtie  2-2.4.4 \n",
      "[+] Loading samtools 1.12  ... \n"
     ]
    }
   ],
   "source": [
    "module load bowtie/2 samtools"
   ]
  },
  {
   "cell_type": "code",
   "execution_count": 30,
   "id": "7d425a6a-e053-4f34-9ab6-7ec3bac1a827",
   "metadata": {},
   "outputs": [
    {
     "name": "stdout",
     "output_type": "stream",
     "text": [
      "\u001b[0m\u001b[38;5;34mgenome.1.bt2\u001b[0m  \u001b[38;5;34mgenome.3.bt2\u001b[0m  \u001b[38;5;51mgenome.fa\u001b[0m      \u001b[38;5;34mgenome.rev.1.bt2\u001b[0m\n",
      "\u001b[38;5;34mgenome.2.bt2\u001b[0m  \u001b[38;5;34mgenome.4.bt2\u001b[0m  \u001b[38;5;34mgenome.fa.fai\u001b[0m  \u001b[38;5;34mgenome.rev.2.bt2\u001b[0m\n"
     ]
    }
   ],
   "source": [
    "ls /fdb/igenomes/Homo_sapiens/UCSC/hg19/Sequence/Bowtie2Index/"
   ]
  },
  {
   "cell_type": "code",
   "execution_count": 31,
   "id": "d82e3a71-df21-4125-ae11-6f149abf764b",
   "metadata": {},
   "outputs": [],
   "source": [
    "export BOWTIE2_INDEXES=/fdb/igenomes/Homo_sapiens/UCSC/hg19/Sequence/Bowtie2Index/"
   ]
  },
  {
   "cell_type": "code",
   "execution_count": null,
   "id": "f365e1bb-b57b-4f99-a111-c20e1b6f67c7",
   "metadata": {},
   "outputs": [],
   "source": [
    "# the following step takes a long time to finish "
   ]
  },
  {
   "cell_type": "code",
   "execution_count": 33,
   "id": "c351c1db-f4f9-4378-96d5-28cb47b53e97",
   "metadata": {},
   "outputs": [
    {
     "name": "stdout",
     "output_type": "stream",
     "text": [
      "\n"
     ]
    }
   ],
   "source": [
    "# bowtie2 --phred64 -x hg19/hg19 --threads=$SLURM_CPUS_PER_TASK --no-unal --end-to-end --sensitive  -U $BOWTIE_TEST_DATA/ENCFF001KPB.fastq.gz| samtools view -q30 -Sb - > ENCFF001KPB.bam\n",
    "# /fdb/igenomes/Homo_sapiens/UCSC/hg19/Sequence/Bowtie2Index/\n",
    "# bowtie2 –q -p 4 –k 1 –-local –-no-unal –x hg19/hg19 STAT1_30m_IFNa.fastq -S  -S STAT1_30m_IFNa.sam\n",
    "\n",
    "# optimized for biowulf\n",
    "\n",
    "bowtie2  -x genome --threads=4  --no-unal --local -U fastq/STAT1_30m_IFNa.fastq -S 0r_STAT1_30m_IFNa.sam"
   ]
  },
  {
   "cell_type": "markdown",
   "id": "5fa417d0-a719-4e0d-83f3-b8efcf0d350f",
   "metadata": {},
   "source": [
    "# batch processing"
   ]
  },
  {
   "cell_type": "code",
   "execution_count": 37,
   "id": "471f200c-c0cf-48b3-966a-de428add9465",
   "metadata": {},
   "outputs": [
    {
     "ename": "",
     "evalue": "1",
     "execution_count": 37,
     "output_type": "error",
     "traceback": []
    }
   ],
   "source": [
    "#mkdir 0r_script_align"
   ]
  },
  {
   "cell_type": "code",
   "execution_count": 43,
   "id": "7d88eeaf-9f73-4314-9beb-65f56ad2d57c",
   "metadata": {},
   "outputs": [],
   "source": [
    "#cd .."
   ]
  },
  {
   "cell_type": "code",
   "execution_count": 44,
   "id": "2237ded9-f5a0-45fa-9f5d-1c36bbacc22c",
   "metadata": {},
   "outputs": [],
   "source": [
    "#rm -rf 0r_script_align/*"
   ]
  },
  {
   "cell_type": "code",
   "execution_count": 45,
   "id": "8c051ab6-dd28-4407-9a28-465161dd3c25",
   "metadata": {},
   "outputs": [],
   "source": [
    "cd fastq"
   ]
  },
  {
   "cell_type": "code",
   "execution_count": 46,
   "id": "7089d52d-b234-4cc9-8eae-a12fc9eaf53a",
   "metadata": {},
   "outputs": [],
   "source": [
    "#cat gen_script_align.sh:\n",
    "\n",
    "#!/bin/sh\n",
    "for i in *.fastq \n",
    "do\n",
    "cat <<EOT >> ../0r_script_align/script_align_$(echo $i | sed 's/.fastq//g').sh\n",
    "#!/bin/sh\n",
    "module load samtools\n",
    "module load bowtie/2\n",
    "bowtie2  -x genome --threads=4  --no-unal --local -U fastq/$i -S sam/$(echo $i | sed 's/.fastq//g').sam\n",
    "EOT\n",
    "done"
   ]
  },
  {
   "cell_type": "code",
   "execution_count": 50,
   "id": "aa414249-e0d2-44e6-9d5b-825c6fb210ca",
   "metadata": {},
   "outputs": [],
   "source": [
    "cd .."
   ]
  },
  {
   "cell_type": "code",
   "execution_count": 51,
   "id": "fcdb3c21-ce07-4635-924d-393a9eeb5792",
   "metadata": {},
   "outputs": [
    {
     "name": "stdout",
     "output_type": "stream",
     "text": [
      "0r_script_align/script_align_INP_30m_IFNa.sh\n",
      "0r_script_align/script_align_INP_6h_IFNa.sh\n",
      "0r_script_align/script_align_STAT1_30m_IFNa.sh\n",
      "0r_script_align/script_align_STAT1_6h_IFNa.sh\n"
     ]
    }
   ],
   "source": [
    "for i in 0r_script_align/script_align_*.sh; do echo $i; done"
   ]
  },
  {
   "cell_type": "code",
   "execution_count": 52,
   "id": "f17dfd7e-844d-4f29-9ad6-d66bcf141cbf",
   "metadata": {},
   "outputs": [
    {
     "name": "stdout",
     "output_type": "stream",
     "text": [
      "17070404\n",
      "17070405\n",
      "17070409\n",
      "17070411\n"
     ]
    }
   ],
   "source": [
    "for i in 0r_script_align/script_align_*.sh; do sbatch --cpus-per-task=4 --mem=10g --gres=lscratch:10 $i; done"
   ]
  },
  {
   "cell_type": "code",
   "execution_count": 53,
   "id": "ba145b6e-aa51-4963-88ca-0e45f04c1d7f",
   "metadata": {},
   "outputs": [],
   "source": [
    "# sbatch --cpus-per-task=4 --mem=10g --gres=lscratch:10 0r_script_align/script_align_STAT1_30m_IFNa.sh \n",
    "# sbatch --cpus-per-task=4 --mem=10g --gres=lscratch:10 0r_script_align/script_align_STAT1_6h_IFNa.sh \n",
    "# sbatch --cpus-per-task=4 --mem=10g --gres=lscratch:10 0r_script_align/script_align_INP_30m_IFNa.sh \n",
    "# sbatch --cpus-per-task=4 --mem=10g --gres=lscratch:10 0r_script_align/script_align_INP_6h_IFNa.sh "
   ]
  },
  {
   "cell_type": "markdown",
   "id": "369312e9-6fa7-45bf-a148-5b9c29ae848b",
   "metadata": {},
   "source": [
    "# remove mitochondrial reads, unknown chr reads"
   ]
  },
  {
   "cell_type": "code",
   "execution_count": 5,
   "id": "2dab2b1a-0141-4095-9a1e-86de56b1def1",
   "metadata": {},
   "outputs": [
    {
     "name": "stdout",
     "output_type": "stream",
     "text": [
      "[+] Loading samtools 1.12  ... \n"
     ]
    }
   ],
   "source": [
    "module load samtools"
   ]
  },
  {
   "cell_type": "code",
   "execution_count": 1,
   "id": "bbbcaf34-169a-44cf-be4c-5e881be1a584",
   "metadata": {},
   "outputs": [
    {
     "name": "stdout",
     "output_type": "stream",
     "text": [
      "sed '/chrM/d;/chrUn/d' $1.sam > $1_filtered.sam\n",
      "samtools view -S -b $1_filtered.sam > $1.bam\n",
      "samtools view -c $1.bam\n"
     ]
    }
   ],
   "source": [
    "cat bam.sh"
   ]
  },
  {
   "cell_type": "code",
   "execution_count": null,
   "id": "b7267c13-b4ca-48dc-820b-f298818e143d",
   "metadata": {},
   "outputs": [],
   "source": [
    "./bam.sh sam/STAT1_30m_IFNa\n",
    "#10848585\n",
    "./bam.sh sam/STAT1_6h_IFNa\n",
    "#11100766           \n",
    "./bam.sh sam/INP_30m_IFNa\n",
    "#19147013\n",
    "./bam.sh sam/INP_6h_IFNa\n",
    "#19769206"
   ]
  },
  {
   "cell_type": "code",
   "execution_count": 8,
   "id": "b171ed42-9359-4ba0-addb-8e6953c7cddc",
   "metadata": {},
   "outputs": [
    {
     "name": "stdout",
     "output_type": "stream",
     "text": [
      "19769206\n"
     ]
    }
   ],
   "source": [
    "#samtools view -c done_sam/INP_6h_IFNa.bam"
   ]
  },
  {
   "cell_type": "code",
   "execution_count": null,
   "id": "ade53b49-99b8-4c1f-811d-b7f4d2621b55",
   "metadata": {},
   "outputs": [],
   "source": [
    "# normalization to library size"
   ]
  },
  {
   "cell_type": "code",
   "execution_count": null,
   "id": "466c9cf3-9955-4501-a9c0-5d8931dab2f6",
   "metadata": {},
   "outputs": [],
   "source": [
    "samtools view -b -s 1.538 sam/INP_30m_IFNa.bam > sam/INP_30m_IFNa_11E6.bam\n",
    "samtools view -b -s 1.564 sam/INP_6h_IFNa.bam > sam/INP_6h_IFNa_11E6.bam"
   ]
  }
 ],
 "metadata": {
  "kernelspec": {
   "display_name": "Bash",
   "language": "bash",
   "name": "bash"
  },
  "language_info": {
   "codemirror_mode": "shell",
   "file_extension": ".sh",
   "mimetype": "text/x-sh",
   "name": "bash"
  }
 },
 "nbformat": 4,
 "nbformat_minor": 5
}
