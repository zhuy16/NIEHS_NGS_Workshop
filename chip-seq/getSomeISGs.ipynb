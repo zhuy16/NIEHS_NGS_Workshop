{
 "cells": [
  {
   "cell_type": "code",
   "execution_count": 41,
   "id": "bored-cathedral",
   "metadata": {},
   "outputs": [],
   "source": [
    "library(clusterProfiler)"
   ]
  },
  {
   "cell_type": "code",
   "execution_count": null,
   "id": "ba6c434e-bca5-4375-8b6a-09adccc36ecf",
   "metadata": {},
   "outputs": [],
   "source": [
    "# this table is from the following study.\n",
    "# https://www.pnas.org/content/109/11/4239/tab-figures-data "
   ]
  },
  {
   "cell_type": "code",
   "execution_count": 1,
   "id": "biblical-origin",
   "metadata": {},
   "outputs": [],
   "source": [
    "x=read.csv(\"Sup_table1_ISGs.csv\",header = 1)"
   ]
  },
  {
   "cell_type": "code",
   "execution_count": 2,
   "id": "statewide-constant",
   "metadata": {},
   "outputs": [],
   "source": [
    "#x$IFNa_FC."
   ]
  },
  {
   "cell_type": "code",
   "execution_count": 49,
   "id": "operational-catering",
   "metadata": {},
   "outputs": [],
   "source": [
    "x=x[order(x$IFNa_FC.,decreasing = T),]"
   ]
  },
  {
   "cell_type": "code",
   "execution_count": 61,
   "id": "underlying-transaction",
   "metadata": {},
   "outputs": [
    {
     "data": {
      "text/html": [
       "363"
      ],
      "text/latex": [
       "363"
      ],
      "text/markdown": [
       "363"
      ],
      "text/plain": [
       "[1] 363"
      ]
     },
     "metadata": {},
     "output_type": "display_data"
    }
   ],
   "source": [
    "nrow(x)"
   ]
  },
  {
   "cell_type": "code",
   "execution_count": 3,
   "id": "delayed-leone",
   "metadata": {},
   "outputs": [],
   "source": [
    "#x$IFNa_FC.[1:200]"
   ]
  },
  {
   "cell_type": "code",
   "execution_count": 62,
   "id": "automated-feeling",
   "metadata": {},
   "outputs": [],
   "source": [
    "y=gsub(\"///*\",\"\",x$X)"
   ]
  },
  {
   "cell_type": "code",
   "execution_count": 63,
   "id": "outstanding-premises",
   "metadata": {},
   "outputs": [],
   "source": [
    "#?bitr"
   ]
  },
  {
   "cell_type": "code",
   "execution_count": 64,
   "id": "federal-stuff",
   "metadata": {},
   "outputs": [],
   "source": [
    "library(stringr)"
   ]
  },
  {
   "cell_type": "code",
   "execution_count": 65,
   "id": "architectural-medline",
   "metadata": {},
   "outputs": [],
   "source": [
    "Y=str_to_upper(y, locale = \"en\")"
   ]
  },
  {
   "cell_type": "code",
   "execution_count": 66,
   "id": "passive-surrey",
   "metadata": {},
   "outputs": [],
   "source": [
    "library(\"org.Hs.eg.db\")"
   ]
  },
  {
   "cell_type": "code",
   "execution_count": 67,
   "id": "perfect-tennis",
   "metadata": {},
   "outputs": [
    {
     "name": "stderr",
     "output_type": "stream",
     "text": [
      "'select()' returned 1:many mapping between keys and columns\n",
      "\n",
      "Warning message in bitr(Y, fromType = \"SYMBOL\", toType = \"REFSEQ\", OrgDb = \"org.Hs.eg.db\"):\n",
      "“41.64% of input gene IDs are fail to map...”\n"
     ]
    }
   ],
   "source": [
    "Z=bitr(Y, fromType = \"SYMBOL\", toType = \"REFSEQ\", OrgDb = \"org.Hs.eg.db\")"
   ]
  },
  {
   "cell_type": "code",
   "execution_count": 68,
   "id": "specific-charger",
   "metadata": {},
   "outputs": [],
   "source": [
    "nm=Z$REFSEQ[grep(\"NM_*\", Z$REFSEQ)]"
   ]
  },
  {
   "cell_type": "code",
   "execution_count": 69,
   "id": "taken-romance",
   "metadata": {},
   "outputs": [
    {
     "data": {
      "text/html": [
       "630"
      ],
      "text/latex": [
       "630"
      ],
      "text/markdown": [
       "630"
      ],
      "text/plain": [
       "[1] 630"
      ]
     },
     "metadata": {},
     "output_type": "display_data"
    }
   ],
   "source": [
    "length(nm)"
   ]
  },
  {
   "cell_type": "code",
   "execution_count": 70,
   "id": "billion-bailey",
   "metadata": {},
   "outputs": [],
   "source": [
    "write.table(nm[1:200],\"ISGs.txt\",quote=F,row.names = F,col.names=F)"
   ]
  },
  {
   "cell_type": "code",
   "execution_count": null,
   "id": "loose-treaty",
   "metadata": {},
   "outputs": [],
   "source": []
  }
 ],
 "metadata": {
  "kernelspec": {
   "display_name": "R 4.0.5",
   "language": "R",
   "name": "ir405"
  },
  "language_info": {
   "codemirror_mode": "r",
   "file_extension": ".r",
   "mimetype": "text/x-r-source",
   "name": "R",
   "pygments_lexer": "r",
   "version": "4.0.5"
  }
 },
 "nbformat": 4,
 "nbformat_minor": 5
}
