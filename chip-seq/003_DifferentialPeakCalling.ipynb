{
 "cells": [
  {
   "cell_type": "markdown",
   "id": "8223958b-7418-484d-b692-7fe3834a5abc",
   "metadata": {},
   "source": [
    " ChIP-seq analysis"
   ]
  },
  {
   "cell_type": "markdown",
   "id": "9ed1595d-608c-4d45-b5d0-5337c678a650",
   "metadata": {},
   "source": [
    "# tagDirectory for Homer???"
   ]
  },
  {
   "cell_type": "code",
   "execution_count": 3,
   "id": "b92b110b-dbce-4266-b8be-d2409fa6090d",
   "metadata": {},
   "outputs": [
    {
     "name": "stdout",
     "output_type": "stream",
     "text": [
      "[-] Unloading gcc  9.2.0  ... \n",
      "[-] Unloading GSL 2.6 for GCC 9.2.0 ...\n",
      "[-] Unloading openmpi 4.0.5  for GCC 9.2.0 \n",
      "[-] Unloading ImageMagick  7.0.8  on cn2953 \n",
      "[-] Unloading HDF5  1.10.4 \n",
      "[-] Unloading NetCDF 4.7.4_gcc9.2.0 \n",
      "[-] Unloading pandoc  2.13  on cn2953 \n",
      "[-] Unloading pcre2 10.21  ... \n",
      "[-] Unloading R 4.0.5 \n",
      "[+] Loading gcc  9.2.0  ... \n",
      "[+] Loading GSL 2.6 for GCC 9.2.0 ...\n",
      "[-] Unloading gcc  9.2.0  ... \n",
      "[+] Loading gcc  9.2.0  ... \n",
      "[+] Loading openmpi 4.0.5  for GCC 9.2.0 \n",
      "[+] Loading ImageMagick  7.0.8  on cn2953 \n",
      "[+] Loading HDF5  1.10.4 \n",
      "[-] Unloading gcc  9.2.0  ... \n",
      "[+] Loading gcc  9.2.0  ... \n",
      "[+] Loading NetCDF 4.7.4_gcc9.2.0 \n",
      "[+] Loading pandoc  2.13  on cn2953 \n",
      "[+] Loading pcre2 10.21  ... \n",
      "[+] Loading R 4.0.5 \n",
      "[+] Loading samtools 1.12  ... \n",
      "[+] Loading homer  4.11.1 \n",
      "\n",
      "The following have been reloaded with a version change:\n",
      "  1) R/4.0.5 => R/4.0\n",
      "\n"
     ]
    }
   ],
   "source": [
    "module load homer"
   ]
  },
  {
   "cell_type": "code",
   "execution_count": 5,
   "id": "45908c2a-19ec-404d-b0a9-fc4cb629613c",
   "metadata": {},
   "outputs": [
    {
     "name": "stdout",
     "output_type": "stream",
     "text": [
      "\tWill parse file: sam/STAT1_30m_IFNa.bam\n",
      "\n",
      "\tCreating directory: STAT1_30m_IFNa_tagdir and removing existing *.tags.tsv\n",
      "\n",
      "\tTreating sam/STAT1_30m_IFNa.bam as a bam file\n",
      "\tReading alignment file sam/STAT1_30m_IFNa.bam\n",
      "\n",
      "\tOptimizing tag files...\n",
      "\tEstimated genome size = 3094230056\n",
      "\tEstimated average read density = 0.002709 per bp\n",
      "\tTotal Tags = 8383496.0\n",
      "\tTotal Positions = 8233986\n",
      "\tAverage tag length = 26.9\n",
      "\tMedian tags per position = 1 (ideal: 1)\n",
      "\tAverage tags per position = 1.018\n",
      "\tFragment Length Estimate: 103\n",
      "\tPeak Width Estimate: 134\n",
      "\tAutocorrelation quality control metrics:\n",
      "\t\tSame strand fold enrichment: 1.4\n",
      "\t\tDiff strand fold enrichment: 1.3\n",
      "\t\tSame / Diff fold enrichment: 1.0\n",
      "\n",
      "\t\tGuessing sample is ChIP-Seq - may have low enrichment with lots of background\n",
      "\n",
      "\tWill parse file: sam/STAT1_6h_IFNa.bam\n",
      "\n",
      "\tCreating directory: STAT1_6h_IFNa_tagdir and removing existing *.tags.tsv\n",
      "\n",
      "\tTreating sam/STAT1_6h_IFNa.bam as a bam file\n",
      "\tReading alignment file sam/STAT1_6h_IFNa.bam\n",
      "\n",
      "\tOptimizing tag files...\n",
      "\tEstimated genome size = 3094327483\n",
      "\tEstimated average read density = 0.002748 per bp\n",
      "\tTotal Tags = 8502802.0\n",
      "\tTotal Positions = 8228800\n",
      "\tAverage tag length = 26.9\n",
      "\tMedian tags per position = 1 (ideal: 1)\n",
      "\tAverage tags per position = 1.033\n",
      "\tFragment Length Estimate: 125\n",
      "\tPeak Width Estimate: 182\n",
      "\tAutocorrelation quality control metrics:\n",
      "\t\tSame strand fold enrichment: 1.7\n",
      "\t\tDiff strand fold enrichment: 1.7\n",
      "\t\tSame / Diff fold enrichment: 1.0\n",
      "\n",
      "\t\tGuessing sample is ChIP-Seq or unstranded RNA-Seq - autocorrelation looks good.\n",
      "\n"
     ]
    }
   ],
   "source": [
    "makeTagDirectory STAT1_30m_IFNa_tagdir sam/STAT1_30m_IFNa.bam \n",
    "makeTagDirectory STAT1_6h_IFNa_tagdir sam/STAT1_6h_IFNa.bam "
   ]
  },
  {
   "cell_type": "code",
   "execution_count": 6,
   "id": "6b30b6c8-d8f9-4315-b88a-5529c9814347",
   "metadata": {},
   "outputs": [
    {
     "name": "stdout",
     "output_type": "stream",
     "text": [
      "\tUsing fixed size peaks\n",
      "\tDifferential Peaks: 25 of 745 (3.36% passed)\n",
      "\tUsing fixed size peaks\n",
      "\tDifferential Peaks: 319 of 1085 (29.40% passed)\n"
     ]
    }
   ],
   "source": [
    "getDifferentialPeaks peak/STAT1_30m_IFNa_peaks.narrowPeak STAT1_30m_IFNa_tagdir/ STAT1_6h_IFNa_tagdir/ > IFNa30m_diff_peaks.txt\n",
    "getDifferentialPeaks peak/STAT1_6h_IFNa_peaks.narrowPeak STAT1_6h_IFNa_tagdir/ STAT1_30m_IFNa_tagdir/ > IFNa6d_diff_peaks.txt"
   ]
  },
  {
   "cell_type": "code",
   "execution_count": 9,
   "id": "ce0b1a23-b32d-46e7-8f77-afd2c5f1f771",
   "metadata": {},
   "outputs": [
    {
     "name": "stdout",
     "output_type": "stream",
     "text": [
      "# HOMER Differential Peaks\n",
      "# Original Peak File = peak/STAT1_30m_IFNa_peaks.narrowPeak\n",
      "# Peak File Tag Directory = STAT1_30m_IFNa_tagdir/\n",
      "# Background Tag Directory = STAT1_6h_IFNa_tagdir/\n",
      "#\n",
      "# Mode = Peaks enriched over background\n",
      "# Differential peaks = 25\n",
      "# Fraction of original peaks = 3.36%\n",
      "# Original number of peaks = 745\n",
      "# Size of region used to count tags = given peak sizes (-fixed)\n",
      "# Fold change cutoff = 4.00\n",
      "# Poisson p-value cutoff = 1.00e-04\n",
      "# strand = 2 (tags counted on 0=+strand, 1=-strand, 2=both strands)\n",
      "# peak directory tagAdjust = 51\n",
      "# background directory tagAdjust = 62\n",
      "#\n",
      "# cmd = getDifferentialPeaks peak/STAT1_30m_IFNa_peaks.narrowPeak STAT1_30m_IFNa_tagdir/ STAT1_6h_IFNa_tagdir/\n",
      "#\n",
      "#PeakID\tchr\tstart\tend\tstrand\tscore\tfocus ratio/other\tTotal Tags\tBackground Tags\tFold Change vs. Background\tp-value\n",
      "STAT1_30m_IFNa_peak_109\tchr2\t26980872\t26980945\t+\t0.000\t0.000\t16.0\t1.0\t16.23\t1.42e-14\n",
      "STAT1_30m_IFNa_peak_160\tchr3\t196569711\t196569757\t+\t0.000\t0.000\t31.0\t5.9\t5.24\t3.44e-13\n",
      "STAT1_30m_IFNa_peak_174\tchr5\t43040445\t43040515\t+\t0.000\t0.000\t48.0\t10.8\t4.43\t9.91e-17\n",
      "STAT1_30m_IFNa_peak_178\tchr5\t172483282\t172483308\t+\t0.000\t0.000\t21.0\t3.9\t5.32\t1.51e-09\n",
      "STAT1_30m_IFNa_peak_179\tchr5\t172483370\t172483413\t+\t0.000\t0.000\t28.0\t6.9\t4.06\t1.34e-09\n",
      "STAT1_30m_IFNa_peak_195\tchr7\t4660229\t4660263\t+\t0.000\t0.000\t31.0\t5.9\t5.24\t3.44e-13\n"
     ]
    }
   ],
   "source": [
    "cat IFNa30m_diff_peaks.txt | head -n 25\n",
    "# could be open in R for better look."
   ]
  }
 ],
 "metadata": {
  "kernelspec": {
   "display_name": "Bash",
   "language": "bash",
   "name": "bash"
  },
  "language_info": {
   "codemirror_mode": "shell",
   "file_extension": ".sh",
   "mimetype": "text/x-sh",
   "name": "bash"
  }
 },
 "nbformat": 4,
 "nbformat_minor": 5
}
